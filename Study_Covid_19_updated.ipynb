{
 "cells": [
  {
   "cell_type": "markdown",
   "metadata": {},
   "source": [
    "# Fighting Novel Coronavirus COVID-19 with Data Science & Machine Learning.\n",
    "\n",
    "*By: Ahmed A.Azeem (Biomedical Engineer), Cairo, Egypt.\n",
    "email: eng.aa.azeem80@outlook.com*"
   ]
  },
  {
   "cell_type": "markdown",
   "metadata": {},
   "source": [
    "## Abstract\n",
    "\n",
    "In December 2019, A novel Coronavirus was found in a seafood wholesale market located in Wuhan, China., On 11 February 2020, WHO announced a name for the new coronavirus disease: COVID-19., And was recognised as a pandemic on 11 March 2020.\n",
    "\n",
    "Coronavirus disease 2019 (COVID-19) is an infectious disease caused by severe acute respiratory syndrome coronavirus 2 (SARS-CoV-2) a virus closely related to the SARS virus., The disease was discovered and named during the 2019–20 coronavirus outbreak, Those affected may develop a fever, dry cough, fatigue, and shortness of breath. A sore throat, runny nose or sneezing is less common. While the majority of cases result in mild symptoms, some can progress to pneumonia and multi-organ failure.\n",
    "\n",
    "For more information & sources of trusted data:\n",
    "\n",
    "- https://en.wikipedia.org/wiki/Coronavirus_disease_2019\n",
    "- https://www.who.int/emergencies/diseases/novel-coronavirus-2019\n",
    "- https://www.cdc.gov/coronavirus/2019-ncov/index.html\n",
    "- https://www.ecdc.europa.eu/en/novel-coronavirus-china\n",
    "- https://www.ecdc.europa.eu/en/publications-data/download-todays-data-geographic-distribution-covid-19-cases-worldwide\n",
    "- https://www.arcgis.com/apps/opsdashboard/index.html#/bda7594740fd40299423467b48e9ecf6\n",
    "- https://github.com/CSSEGISandData/COVID-19/tree/master/csse_covid_19_data/csse_covid_19_time_series"
   ]
  },
  {
   "cell_type": "markdown",
   "metadata": {},
   "source": [
    "#### Methodology / Approach\n",
    "CRISP-DM used as a data science methodology.\n",
    "\n",
    "For more information:\n",
    "- https://www.ibm.com/support/knowledgecenter/SS3RA7_15.0.0/com.ibm.spss.crispdm.help/crisp_overview.htm"
   ]
  },
  {
   "cell_type": "markdown",
   "metadata": {},
   "source": [
    "- CRISP-DM consists of six iterative stages.\n",
    "\n",
    "  1. **Business Understanding**: Focuses on understanding the project objectives and requirements from a business perspective, and then converting this knowledge into a data mining problem definition and a preliminary plan.\n",
    "  \n",
    "  2. **Data Understanding**: Starts with initial data collection and proceeds with activities to get familiar with the data, identify data quality problems, discover first insights into the data, or detect interesting subsets to form hypotheses for hidden information.\n",
    "  \n",
    "  3. **Data Preparation**: The data preparation phase covers all activities to construct the final data set from the initial raw data.\n",
    "  \n",
    "  4. **Modeling**: Modeling techniques are selected and applied. Because some techniques like neural networks (a type of a predictive model) have specific requirements regarding the form of the data, there can be a loop back to data preparation.\n",
    "  \n",
    "  5. **Evaluation**: After one or more models are built that appear to have high quality based on whatever we are trying to predict, they need to be tested to ensure that they work against unseen data and that all key business issues are sufficiently considered. The result is the selection of the champion model.\n",
    "  \n",
    "  6. **Deployment**: Generally, deployment means deploying a code representation of the model into an operating system to score or categorize new unseen data as it arises and create a mechanism for the use of that new information in the solution of the original business problem. Importantly, the code representation must include all the data preparation steps leading up to modeling so that the model treats new raw data in the same manner as during model development."
   ]
  },
  {
   "cell_type": "markdown",
   "metadata": {},
   "source": [
    "### Dataset Source\n",
    "\n",
    "*European Centre for Disease Prevention and Control*\n",
    "\n",
    "Situation update worldwide, as of 13 April 2020. (The data has been collected between 6:00 and 10:00 CET)"
   ]
  },
  {
   "cell_type": "code",
   "execution_count": 1,
   "metadata": {},
   "outputs": [],
   "source": [
    "import os\n",
    "import numpy as np\n",
    "import pandas as pd\n",
    "from datetime import datetime\n",
    "import matplotlib.pyplot as plt\n",
    "import seaborn as sns\n",
    "from scipy.optimize import curve_fit\n",
    "\n",
    "%matplotlib inline"
   ]
  },
  {
   "cell_type": "code",
   "execution_count": 2,
   "metadata": {},
   "outputs": [],
   "source": [
    "#last updated dataset\n",
    "url = 'https://www.ecdc.europa.eu/sites/default/files/documents/COVID-19-geographic-disbtribution-worldwide-2020-04-13.xlsx'"
   ]
  },
  {
   "cell_type": "code",
   "execution_count": 3,
   "metadata": {},
   "outputs": [
    {
     "data": {
      "text/plain": [
       "('covid_state_M.xlsx', <http.client.HTTPMessage at 0x7ffa7809e198>)"
      ]
     },
     "execution_count": 3,
     "metadata": {},
     "output_type": "execute_result"
    }
   ],
   "source": [
    "import urllib.request\n",
    "urllib.request.urlretrieve (url, \"covid_state_M.xlsx\")"
   ]
  },
  {
   "cell_type": "code",
   "execution_count": 4,
   "metadata": {},
   "outputs": [],
   "source": [
    "# Get data from European Centre for Disease Prevention and Control\n",
    "covid_df = pd.read_excel('covid_state_M.xlsx')"
   ]
  },
  {
   "cell_type": "code",
   "execution_count": 5,
   "metadata": {},
   "outputs": [],
   "source": [
    "#covid_df = pd.read_csv('ecdc_2703.csv',encoding='ISO-8859-1')"
   ]
  },
  {
   "cell_type": "code",
   "execution_count": 6,
   "metadata": {},
   "outputs": [
    {
     "data": {
      "text/html": [
       "<div>\n",
       "<style scoped>\n",
       "    .dataframe tbody tr th:only-of-type {\n",
       "        vertical-align: middle;\n",
       "    }\n",
       "\n",
       "    .dataframe tbody tr th {\n",
       "        vertical-align: top;\n",
       "    }\n",
       "\n",
       "    .dataframe thead th {\n",
       "        text-align: right;\n",
       "    }\n",
       "</style>\n",
       "<table border=\"1\" class=\"dataframe\">\n",
       "  <thead>\n",
       "    <tr style=\"text-align: right;\">\n",
       "      <th></th>\n",
       "      <th>dateRep</th>\n",
       "      <th>day</th>\n",
       "      <th>month</th>\n",
       "      <th>year</th>\n",
       "      <th>cases</th>\n",
       "      <th>deaths</th>\n",
       "      <th>countriesAndTerritories</th>\n",
       "      <th>geoId</th>\n",
       "      <th>countryterritoryCode</th>\n",
       "      <th>popData2018</th>\n",
       "    </tr>\n",
       "  </thead>\n",
       "  <tbody>\n",
       "    <tr>\n",
       "      <th>0</th>\n",
       "      <td>2020-04-13</td>\n",
       "      <td>13</td>\n",
       "      <td>4</td>\n",
       "      <td>2020</td>\n",
       "      <td>52</td>\n",
       "      <td>0</td>\n",
       "      <td>Afghanistan</td>\n",
       "      <td>AF</td>\n",
       "      <td>AFG</td>\n",
       "      <td>37172386.0</td>\n",
       "    </tr>\n",
       "    <tr>\n",
       "      <th>1</th>\n",
       "      <td>2020-04-12</td>\n",
       "      <td>12</td>\n",
       "      <td>4</td>\n",
       "      <td>2020</td>\n",
       "      <td>34</td>\n",
       "      <td>3</td>\n",
       "      <td>Afghanistan</td>\n",
       "      <td>AF</td>\n",
       "      <td>AFG</td>\n",
       "      <td>37172386.0</td>\n",
       "    </tr>\n",
       "    <tr>\n",
       "      <th>2</th>\n",
       "      <td>2020-04-11</td>\n",
       "      <td>11</td>\n",
       "      <td>4</td>\n",
       "      <td>2020</td>\n",
       "      <td>37</td>\n",
       "      <td>0</td>\n",
       "      <td>Afghanistan</td>\n",
       "      <td>AF</td>\n",
       "      <td>AFG</td>\n",
       "      <td>37172386.0</td>\n",
       "    </tr>\n",
       "    <tr>\n",
       "      <th>3</th>\n",
       "      <td>2020-04-10</td>\n",
       "      <td>10</td>\n",
       "      <td>4</td>\n",
       "      <td>2020</td>\n",
       "      <td>61</td>\n",
       "      <td>1</td>\n",
       "      <td>Afghanistan</td>\n",
       "      <td>AF</td>\n",
       "      <td>AFG</td>\n",
       "      <td>37172386.0</td>\n",
       "    </tr>\n",
       "    <tr>\n",
       "      <th>4</th>\n",
       "      <td>2020-04-09</td>\n",
       "      <td>9</td>\n",
       "      <td>4</td>\n",
       "      <td>2020</td>\n",
       "      <td>56</td>\n",
       "      <td>3</td>\n",
       "      <td>Afghanistan</td>\n",
       "      <td>AF</td>\n",
       "      <td>AFG</td>\n",
       "      <td>37172386.0</td>\n",
       "    </tr>\n",
       "  </tbody>\n",
       "</table>\n",
       "</div>"
      ],
      "text/plain": [
       "     dateRep  day  month  year  cases  deaths countriesAndTerritories geoId  \\\n",
       "0 2020-04-13   13      4  2020     52       0             Afghanistan    AF   \n",
       "1 2020-04-12   12      4  2020     34       3             Afghanistan    AF   \n",
       "2 2020-04-11   11      4  2020     37       0             Afghanistan    AF   \n",
       "3 2020-04-10   10      4  2020     61       1             Afghanistan    AF   \n",
       "4 2020-04-09    9      4  2020     56       3             Afghanistan    AF   \n",
       "\n",
       "  countryterritoryCode  popData2018  \n",
       "0                  AFG   37172386.0  \n",
       "1                  AFG   37172386.0  \n",
       "2                  AFG   37172386.0  \n",
       "3                  AFG   37172386.0  \n",
       "4                  AFG   37172386.0  "
      ]
     },
     "execution_count": 6,
     "metadata": {},
     "output_type": "execute_result"
    }
   ],
   "source": [
    "covid_df.head()"
   ]
  },
  {
   "cell_type": "code",
   "execution_count": 7,
   "metadata": {},
   "outputs": [],
   "source": [
    "covid_df['dateRep'] = pd.to_datetime(covid_df['dateRep'], format='%d/%m/%Y')"
   ]
  },
  {
   "cell_type": "code",
   "execution_count": 8,
   "metadata": {},
   "outputs": [
    {
     "data": {
      "text/plain": [
       "geoId                    30\n",
       "countryterritoryCode    209\n",
       "popData2018             168\n",
       "dtype: int64"
      ]
     },
     "execution_count": 8,
     "metadata": {},
     "output_type": "execute_result"
    }
   ],
   "source": [
    "covid_df.isna().sum()[covid_df.isna().sum()>0]"
   ]
  },
  {
   "cell_type": "code",
   "execution_count": 9,
   "metadata": {},
   "outputs": [
    {
     "data": {
      "text/plain": [
       "dateRep                    datetime64[ns]\n",
       "day                                 int64\n",
       "month                               int64\n",
       "year                                int64\n",
       "cases                               int64\n",
       "deaths                              int64\n",
       "countriesAndTerritories            object\n",
       "geoId                              object\n",
       "countryterritoryCode               object\n",
       "popData2018                       float64\n",
       "dtype: object"
      ]
     },
     "execution_count": 9,
     "metadata": {},
     "output_type": "execute_result"
    }
   ],
   "source": [
    "covid_df.dtypes"
   ]
  },
  {
   "cell_type": "code",
   "execution_count": 10,
   "metadata": {},
   "outputs": [],
   "source": [
    "covid_df.rename(columns={'dateRep': 'Date', 'countriesAndTerritories': 'Country', 'cases': 'Confirmed','deaths': 'Deaths'}, inplace=True)"
   ]
  },
  {
   "cell_type": "code",
   "execution_count": 11,
   "metadata": {},
   "outputs": [],
   "source": [
    "covid_df.to_csv('updated.csv')"
   ]
  },
  {
   "cell_type": "code",
   "execution_count": 12,
   "metadata": {},
   "outputs": [],
   "source": [
    "ndf = pd.read_csv('updated.csv',parse_dates=['Date'], index_col='Date')"
   ]
  },
  {
   "cell_type": "code",
   "execution_count": 13,
   "metadata": {},
   "outputs": [],
   "source": [
    "ndf = ndf.drop(['Unnamed: 0', 'geoId', 'day', 'month', 'year', 'countryterritoryCode', 'popData2018'], axis=1)"
   ]
  },
  {
   "cell_type": "code",
   "execution_count": 14,
   "metadata": {},
   "outputs": [
    {
     "data": {
      "text/html": [
       "<div>\n",
       "<style scoped>\n",
       "    .dataframe tbody tr th:only-of-type {\n",
       "        vertical-align: middle;\n",
       "    }\n",
       "\n",
       "    .dataframe tbody tr th {\n",
       "        vertical-align: top;\n",
       "    }\n",
       "\n",
       "    .dataframe thead th {\n",
       "        text-align: right;\n",
       "    }\n",
       "</style>\n",
       "<table border=\"1\" class=\"dataframe\">\n",
       "  <thead>\n",
       "    <tr style=\"text-align: right;\">\n",
       "      <th></th>\n",
       "      <th>Confirmed</th>\n",
       "      <th>Deaths</th>\n",
       "      <th>Country</th>\n",
       "    </tr>\n",
       "    <tr>\n",
       "      <th>Date</th>\n",
       "      <th></th>\n",
       "      <th></th>\n",
       "      <th></th>\n",
       "    </tr>\n",
       "  </thead>\n",
       "  <tbody>\n",
       "    <tr>\n",
       "      <th>2020-04-13</th>\n",
       "      <td>52</td>\n",
       "      <td>0</td>\n",
       "      <td>Afghanistan</td>\n",
       "    </tr>\n",
       "    <tr>\n",
       "      <th>2020-04-12</th>\n",
       "      <td>34</td>\n",
       "      <td>3</td>\n",
       "      <td>Afghanistan</td>\n",
       "    </tr>\n",
       "    <tr>\n",
       "      <th>2020-04-11</th>\n",
       "      <td>37</td>\n",
       "      <td>0</td>\n",
       "      <td>Afghanistan</td>\n",
       "    </tr>\n",
       "    <tr>\n",
       "      <th>2020-04-10</th>\n",
       "      <td>61</td>\n",
       "      <td>1</td>\n",
       "      <td>Afghanistan</td>\n",
       "    </tr>\n",
       "    <tr>\n",
       "      <th>2020-04-09</th>\n",
       "      <td>56</td>\n",
       "      <td>3</td>\n",
       "      <td>Afghanistan</td>\n",
       "    </tr>\n",
       "  </tbody>\n",
       "</table>\n",
       "</div>"
      ],
      "text/plain": [
       "            Confirmed  Deaths      Country\n",
       "Date                                      \n",
       "2020-04-13         52       0  Afghanistan\n",
       "2020-04-12         34       3  Afghanistan\n",
       "2020-04-11         37       0  Afghanistan\n",
       "2020-04-10         61       1  Afghanistan\n",
       "2020-04-09         56       3  Afghanistan"
      ]
     },
     "execution_count": 14,
     "metadata": {},
     "output_type": "execute_result"
    }
   ],
   "source": [
    "ndf.head()"
   ]
  },
  {
   "cell_type": "code",
   "execution_count": 15,
   "metadata": {},
   "outputs": [],
   "source": [
    "#ndf.Country.unique()"
   ]
  },
  {
   "cell_type": "code",
   "execution_count": 16,
   "metadata": {},
   "outputs": [],
   "source": [
    "# Rename Countries\n",
    "ndf['Country']= ndf['Country'].str.replace('Antigua_and_Barbuda','Antigua & Barbuda')\n",
    "ndf['Country']= ndf['Country'].str.replace('United_Kingdom', 'UK')\n",
    "ndf['Country']= ndf['Country'].str.replace('United_States_of_America', 'US')\n",
    "ndf['Country']= ndf['Country'].str.replace('United_Arab_Emirates', 'Emirates')\n",
    "ndf['Country']= ndf['Country'].str.replace('Holy_See', 'Vatican')\n",
    "ndf['Country']= ndf['Country'].str.replace('Bosnia_and_Herzegovina','Bosnia & Herzegovina')\n",
    "ndf['Country']= ndf['Country'].str.replace('Brunei_Darussalam','Brunei')\n",
    "ndf['Country']= ndf['Country'].str.replace('Burkina_Faso','Burkina Faso')\n",
    "ndf['Country']= ndf['Country'].str.replace('CANADA','Canada')\n",
    "ndf['Country']= ndf['Country'].str.replace('Cases_on_an_international_conveyance_Japan','The Diamond Princess')\n",
    "ndf['Country']= ndf['Country'].str.replace('Central_African_Republic','Central African Rep.')\n",
    "ndf['Country']= ndf['Country'].str.replace('Costa_Rica','Costa Rica')\n",
    "ndf['Country']= ndf['Country'].str.replace(\"Cote_dIvoire\",\"Cote d'ivoire\")\n",
    "ndf['Country']= ndf['Country'].str.replace('Czech_Republic','Czech Rep.')\n",
    "ndf['Country']= ndf['Country'].str.replace('Democratic_Republic_of_the_Congo','Congo-Kinshasa')\n",
    "ndf['Country']= ndf['Country'].str.replace('Equatorial_Guinea','Guinea')\n",
    "ndf['Country']= ndf['Country'].str.replace('Eswatini','Eswatini-Swaziland')\n",
    "ndf['Country']= ndf['Country'].str.replace('New_Zealand','New Zealand')\n",
    "ndf['Country']= ndf['Country'].str.replace('North_Macedonia','Macedonia')\n",
    "ndf['Country']= ndf['Country'].str.replace('Saint_Lucia','Saint Lucia')\n",
    "ndf['Country']= ndf['Country'].str.replace('Saint_Vincent_and_the_Grenadines','Saint Vincent')\n",
    "ndf['Country']= ndf['Country'].str.replace('San_Marino','San Marino')\n",
    "ndf['Country']= ndf['Country'].str.replace('Saudi_Arabia','Saudi Arabia')\n",
    "ndf['Country']= ndf['Country'].str.replace('South_Africa','South Africa')\n",
    "ndf['Country']= ndf['Country'].str.replace('South_Korea','South Korea')\n",
    "ndf['Country']= ndf['Country'].str.replace('Sri_Lanka','Sri Lanka')\n",
    "ndf['Country']= ndf['Country'].str.replace('Trinidad_and_Tobago','Trinidad & Tobago')\n",
    "ndf['Country']= ndf['Country'].str.replace('United_Republic_of_Tanzania','Tanzania')\n",
    "ndf['Country']= ndf['Country'].str.replace('Dominican_Republic','Dominican Rep.')"
   ]
  },
  {
   "cell_type": "code",
   "execution_count": 17,
   "metadata": {},
   "outputs": [],
   "source": [
    "#ndf.Country.duplicated()"
   ]
  },
  {
   "cell_type": "code",
   "execution_count": 18,
   "metadata": {},
   "outputs": [],
   "source": [
    "#duplicateRows = ndf[ndf.duplicated()]\n",
    "#print(duplicateRows)"
   ]
  },
  {
   "cell_type": "code",
   "execution_count": 19,
   "metadata": {},
   "outputs": [],
   "source": [
    "# Select all duplicate rows based on one column\n",
    "#duplicateRows = ndf[ndf.duplicated(['Country', 'Confirmed', 'Deaths'])]\n",
    "#print(\"Duplicate Rows based on a 3 columns are:\", duplicateRows, sep='\\n')"
   ]
  },
  {
   "cell_type": "code",
   "execution_count": 20,
   "metadata": {},
   "outputs": [
    {
     "data": {
      "text/html": [
       "<div>\n",
       "<style scoped>\n",
       "    .dataframe tbody tr th:only-of-type {\n",
       "        vertical-align: middle;\n",
       "    }\n",
       "\n",
       "    .dataframe tbody tr th {\n",
       "        vertical-align: top;\n",
       "    }\n",
       "\n",
       "    .dataframe thead th {\n",
       "        text-align: right;\n",
       "    }\n",
       "</style>\n",
       "<table border=\"1\" class=\"dataframe\">\n",
       "  <thead>\n",
       "    <tr style=\"text-align: right;\">\n",
       "      <th></th>\n",
       "      <th>Confirmed</th>\n",
       "      <th>Deaths</th>\n",
       "      <th>Country</th>\n",
       "    </tr>\n",
       "    <tr>\n",
       "      <th>Date</th>\n",
       "      <th></th>\n",
       "      <th></th>\n",
       "      <th></th>\n",
       "    </tr>\n",
       "  </thead>\n",
       "  <tbody>\n",
       "    <tr>\n",
       "      <th>2020-04-13</th>\n",
       "      <td>52</td>\n",
       "      <td>0</td>\n",
       "      <td>Afghanistan</td>\n",
       "    </tr>\n",
       "    <tr>\n",
       "      <th>2020-04-12</th>\n",
       "      <td>34</td>\n",
       "      <td>3</td>\n",
       "      <td>Afghanistan</td>\n",
       "    </tr>\n",
       "    <tr>\n",
       "      <th>2020-04-11</th>\n",
       "      <td>37</td>\n",
       "      <td>0</td>\n",
       "      <td>Afghanistan</td>\n",
       "    </tr>\n",
       "    <tr>\n",
       "      <th>2020-04-10</th>\n",
       "      <td>61</td>\n",
       "      <td>1</td>\n",
       "      <td>Afghanistan</td>\n",
       "    </tr>\n",
       "    <tr>\n",
       "      <th>2020-04-09</th>\n",
       "      <td>56</td>\n",
       "      <td>3</td>\n",
       "      <td>Afghanistan</td>\n",
       "    </tr>\n",
       "  </tbody>\n",
       "</table>\n",
       "</div>"
      ],
      "text/plain": [
       "            Confirmed  Deaths      Country\n",
       "Date                                      \n",
       "2020-04-13         52       0  Afghanistan\n",
       "2020-04-12         34       3  Afghanistan\n",
       "2020-04-11         37       0  Afghanistan\n",
       "2020-04-10         61       1  Afghanistan\n",
       "2020-04-09         56       3  Afghanistan"
      ]
     },
     "execution_count": 20,
     "metadata": {},
     "output_type": "execute_result"
    }
   ],
   "source": [
    "ndf.head()"
   ]
  },
  {
   "cell_type": "code",
   "execution_count": 21,
   "metadata": {},
   "outputs": [
    {
     "data": {
      "text/html": [
       "<div>\n",
       "<style scoped>\n",
       "    .dataframe tbody tr th:only-of-type {\n",
       "        vertical-align: middle;\n",
       "    }\n",
       "\n",
       "    .dataframe tbody tr th {\n",
       "        vertical-align: top;\n",
       "    }\n",
       "\n",
       "    .dataframe thead th {\n",
       "        text-align: right;\n",
       "    }\n",
       "</style>\n",
       "<table border=\"1\" class=\"dataframe\">\n",
       "  <thead>\n",
       "    <tr style=\"text-align: right;\">\n",
       "      <th></th>\n",
       "      <th>Country</th>\n",
       "      <th>Deaths</th>\n",
       "    </tr>\n",
       "  </thead>\n",
       "  <tbody>\n",
       "    <tr>\n",
       "      <th>193</th>\n",
       "      <td>US</td>\n",
       "      <td>22108</td>\n",
       "    </tr>\n",
       "    <tr>\n",
       "      <th>96</th>\n",
       "      <td>Italy</td>\n",
       "      <td>19901</td>\n",
       "    </tr>\n",
       "    <tr>\n",
       "      <th>175</th>\n",
       "      <td>Spain</td>\n",
       "      <td>16972</td>\n",
       "    </tr>\n",
       "    <tr>\n",
       "      <th>68</th>\n",
       "      <td>France</td>\n",
       "      <td>14393</td>\n",
       "    </tr>\n",
       "    <tr>\n",
       "      <th>192</th>\n",
       "      <td>UK</td>\n",
       "      <td>10612</td>\n",
       "    </tr>\n",
       "    <tr>\n",
       "      <th>91</th>\n",
       "      <td>Iran</td>\n",
       "      <td>4474</td>\n",
       "    </tr>\n",
       "    <tr>\n",
       "      <th>18</th>\n",
       "      <td>Belgium</td>\n",
       "      <td>3600</td>\n",
       "    </tr>\n",
       "    <tr>\n",
       "      <th>41</th>\n",
       "      <td>China</td>\n",
       "      <td>3345</td>\n",
       "    </tr>\n",
       "    <tr>\n",
       "      <th>73</th>\n",
       "      <td>Germany</td>\n",
       "      <td>2799</td>\n",
       "    </tr>\n",
       "    <tr>\n",
       "      <th>134</th>\n",
       "      <td>Netherlands</td>\n",
       "      <td>2737</td>\n",
       "    </tr>\n",
       "    <tr>\n",
       "      <th>27</th>\n",
       "      <td>Brazil</td>\n",
       "      <td>1223</td>\n",
       "    </tr>\n",
       "    <tr>\n",
       "      <th>190</th>\n",
       "      <td>Turkey</td>\n",
       "      <td>1198</td>\n",
       "    </tr>\n",
       "    <tr>\n",
       "      <th>179</th>\n",
       "      <td>Sweden</td>\n",
       "      <td>899</td>\n",
       "    </tr>\n",
       "    <tr>\n",
       "      <th>180</th>\n",
       "      <td>Switzerland</td>\n",
       "      <td>858</td>\n",
       "    </tr>\n",
       "    <tr>\n",
       "      <th>35</th>\n",
       "      <td>Canada</td>\n",
       "      <td>717</td>\n",
       "    </tr>\n",
       "    <tr>\n",
       "      <th>151</th>\n",
       "      <td>Portugal</td>\n",
       "      <td>504</td>\n",
       "    </tr>\n",
       "    <tr>\n",
       "      <th>90</th>\n",
       "      <td>Indonesia</td>\n",
       "      <td>373</td>\n",
       "    </tr>\n",
       "    <tr>\n",
       "      <th>11</th>\n",
       "      <td>Austria</td>\n",
       "      <td>350</td>\n",
       "    </tr>\n",
       "    <tr>\n",
       "      <th>93</th>\n",
       "      <td>Ireland</td>\n",
       "      <td>334</td>\n",
       "    </tr>\n",
       "    <tr>\n",
       "      <th>56</th>\n",
       "      <td>Ecuador</td>\n",
       "      <td>333</td>\n",
       "    </tr>\n",
       "    <tr>\n",
       "      <th>89</th>\n",
       "      <td>India</td>\n",
       "      <td>308</td>\n",
       "    </tr>\n",
       "    <tr>\n",
       "      <th>154</th>\n",
       "      <td>Romania</td>\n",
       "      <td>306</td>\n",
       "    </tr>\n",
       "    <tr>\n",
       "      <th>149</th>\n",
       "      <td>Philippines</td>\n",
       "      <td>297</td>\n",
       "    </tr>\n",
       "    <tr>\n",
       "      <th>123</th>\n",
       "      <td>Mexico</td>\n",
       "      <td>296</td>\n",
       "    </tr>\n",
       "    <tr>\n",
       "      <th>2</th>\n",
       "      <td>Algeria</td>\n",
       "      <td>293</td>\n",
       "    </tr>\n",
       "  </tbody>\n",
       "</table>\n",
       "</div>"
      ],
      "text/plain": [
       "         Country  Deaths\n",
       "193           US   22108\n",
       "96         Italy   19901\n",
       "175        Spain   16972\n",
       "68        France   14393\n",
       "192           UK   10612\n",
       "91          Iran    4474\n",
       "18       Belgium    3600\n",
       "41         China    3345\n",
       "73       Germany    2799\n",
       "134  Netherlands    2737\n",
       "27        Brazil    1223\n",
       "190       Turkey    1198\n",
       "179       Sweden     899\n",
       "180  Switzerland     858\n",
       "35        Canada     717\n",
       "151     Portugal     504\n",
       "90     Indonesia     373\n",
       "11       Austria     350\n",
       "93       Ireland     334\n",
       "56       Ecuador     333\n",
       "89         India     308\n",
       "154      Romania     306\n",
       "149  Philippines     297\n",
       "123       Mexico     296\n",
       "2        Algeria     293"
      ]
     },
     "execution_count": 21,
     "metadata": {},
     "output_type": "execute_result"
    }
   ],
   "source": [
    "deaths_by_country = ndf.groupby(['Country'])['Deaths'].sum().to_frame(name = 'Deaths').reset_index()\n",
    "deaths_by_country.columns = ['Country','Deaths']\n",
    "deaths_by_country.sort_values(by='Deaths', ascending=False, inplace=True)\n",
    "deaths_by_country.head(25)"
   ]
  },
  {
   "cell_type": "code",
   "execution_count": 22,
   "metadata": {},
   "outputs": [
    {
     "data": {
      "text/html": [
       "<div>\n",
       "<style scoped>\n",
       "    .dataframe tbody tr th:only-of-type {\n",
       "        vertical-align: middle;\n",
       "    }\n",
       "\n",
       "    .dataframe tbody tr th {\n",
       "        vertical-align: top;\n",
       "    }\n",
       "\n",
       "    .dataframe thead th {\n",
       "        text-align: right;\n",
       "    }\n",
       "</style>\n",
       "<table border=\"1\" class=\"dataframe\">\n",
       "  <thead>\n",
       "    <tr style=\"text-align: right;\">\n",
       "      <th></th>\n",
       "      <th>Country</th>\n",
       "      <th>Confirmed</th>\n",
       "    </tr>\n",
       "  </thead>\n",
       "  <tbody>\n",
       "    <tr>\n",
       "      <th>193</th>\n",
       "      <td>US</td>\n",
       "      <td>557571</td>\n",
       "    </tr>\n",
       "    <tr>\n",
       "      <th>175</th>\n",
       "      <td>Spain</td>\n",
       "      <td>166019</td>\n",
       "    </tr>\n",
       "    <tr>\n",
       "      <th>96</th>\n",
       "      <td>Italy</td>\n",
       "      <td>156363</td>\n",
       "    </tr>\n",
       "    <tr>\n",
       "      <th>73</th>\n",
       "      <td>Germany</td>\n",
       "      <td>123016</td>\n",
       "    </tr>\n",
       "    <tr>\n",
       "      <th>68</th>\n",
       "      <td>France</td>\n",
       "      <td>95403</td>\n",
       "    </tr>\n",
       "    <tr>\n",
       "      <th>192</th>\n",
       "      <td>UK</td>\n",
       "      <td>84279</td>\n",
       "    </tr>\n",
       "    <tr>\n",
       "      <th>41</th>\n",
       "      <td>China</td>\n",
       "      <td>83209</td>\n",
       "    </tr>\n",
       "    <tr>\n",
       "      <th>91</th>\n",
       "      <td>Iran</td>\n",
       "      <td>71686</td>\n",
       "    </tr>\n",
       "    <tr>\n",
       "      <th>190</th>\n",
       "      <td>Turkey</td>\n",
       "      <td>56956</td>\n",
       "    </tr>\n",
       "    <tr>\n",
       "      <th>18</th>\n",
       "      <td>Belgium</td>\n",
       "      <td>29647</td>\n",
       "    </tr>\n",
       "    <tr>\n",
       "      <th>134</th>\n",
       "      <td>Netherlands</td>\n",
       "      <td>25587</td>\n",
       "    </tr>\n",
       "    <tr>\n",
       "      <th>180</th>\n",
       "      <td>Switzerland</td>\n",
       "      <td>25220</td>\n",
       "    </tr>\n",
       "    <tr>\n",
       "      <th>35</th>\n",
       "      <td>Canada</td>\n",
       "      <td>24365</td>\n",
       "    </tr>\n",
       "    <tr>\n",
       "      <th>27</th>\n",
       "      <td>Brazil</td>\n",
       "      <td>22169</td>\n",
       "    </tr>\n",
       "    <tr>\n",
       "      <th>151</th>\n",
       "      <td>Portugal</td>\n",
       "      <td>16585</td>\n",
       "    </tr>\n",
       "    <tr>\n",
       "      <th>155</th>\n",
       "      <td>Russia</td>\n",
       "      <td>15770</td>\n",
       "    </tr>\n",
       "    <tr>\n",
       "      <th>11</th>\n",
       "      <td>Austria</td>\n",
       "      <td>13937</td>\n",
       "    </tr>\n",
       "    <tr>\n",
       "      <th>95</th>\n",
       "      <td>Israel</td>\n",
       "      <td>11145</td>\n",
       "    </tr>\n",
       "    <tr>\n",
       "      <th>173</th>\n",
       "      <td>South Korea</td>\n",
       "      <td>10537</td>\n",
       "    </tr>\n",
       "    <tr>\n",
       "      <th>179</th>\n",
       "      <td>Sweden</td>\n",
       "      <td>10483</td>\n",
       "    </tr>\n",
       "    <tr>\n",
       "      <th>93</th>\n",
       "      <td>Ireland</td>\n",
       "      <td>9655</td>\n",
       "    </tr>\n",
       "    <tr>\n",
       "      <th>89</th>\n",
       "      <td>India</td>\n",
       "      <td>9152</td>\n",
       "    </tr>\n",
       "    <tr>\n",
       "      <th>148</th>\n",
       "      <td>Peru</td>\n",
       "      <td>7519</td>\n",
       "    </tr>\n",
       "    <tr>\n",
       "      <th>56</th>\n",
       "      <td>Ecuador</td>\n",
       "      <td>7466</td>\n",
       "    </tr>\n",
       "    <tr>\n",
       "      <th>98</th>\n",
       "      <td>Japan</td>\n",
       "      <td>7255</td>\n",
       "    </tr>\n",
       "    <tr>\n",
       "      <th>40</th>\n",
       "      <td>Chile</td>\n",
       "      <td>7213</td>\n",
       "    </tr>\n",
       "    <tr>\n",
       "      <th>150</th>\n",
       "      <td>Poland</td>\n",
       "      <td>6674</td>\n",
       "    </tr>\n",
       "    <tr>\n",
       "      <th>141</th>\n",
       "      <td>Norway</td>\n",
       "      <td>6415</td>\n",
       "    </tr>\n",
       "    <tr>\n",
       "      <th>10</th>\n",
       "      <td>Australia</td>\n",
       "      <td>6322</td>\n",
       "    </tr>\n",
       "    <tr>\n",
       "      <th>154</th>\n",
       "      <td>Romania</td>\n",
       "      <td>6300</td>\n",
       "    </tr>\n",
       "    <tr>\n",
       "      <th>52</th>\n",
       "      <td>Denmark</td>\n",
       "      <td>6174</td>\n",
       "    </tr>\n",
       "    <tr>\n",
       "      <th>51</th>\n",
       "      <td>Czechia</td>\n",
       "      <td>5991</td>\n",
       "    </tr>\n",
       "    <tr>\n",
       "      <th>143</th>\n",
       "      <td>Pakistan</td>\n",
       "      <td>5374</td>\n",
       "    </tr>\n",
       "    <tr>\n",
       "      <th>117</th>\n",
       "      <td>Malaysia</td>\n",
       "      <td>4683</td>\n",
       "    </tr>\n",
       "    <tr>\n",
       "      <th>123</th>\n",
       "      <td>Mexico</td>\n",
       "      <td>4661</td>\n",
       "    </tr>\n",
       "    <tr>\n",
       "      <th>149</th>\n",
       "      <td>Philippines</td>\n",
       "      <td>4648</td>\n",
       "    </tr>\n",
       "    <tr>\n",
       "      <th>162</th>\n",
       "      <td>Saudi Arabia</td>\n",
       "      <td>4462</td>\n",
       "    </tr>\n",
       "    <tr>\n",
       "      <th>90</th>\n",
       "      <td>Indonesia</td>\n",
       "      <td>4241</td>\n",
       "    </tr>\n",
       "    <tr>\n",
       "      <th>59</th>\n",
       "      <td>Emirates</td>\n",
       "      <td>4123</td>\n",
       "    </tr>\n",
       "    <tr>\n",
       "      <th>164</th>\n",
       "      <td>Serbia</td>\n",
       "      <td>3630</td>\n",
       "    </tr>\n",
       "    <tr>\n",
       "      <th>145</th>\n",
       "      <td>Panama</td>\n",
       "      <td>3400</td>\n",
       "    </tr>\n",
       "    <tr>\n",
       "      <th>113</th>\n",
       "      <td>Luxembourg</td>\n",
       "      <td>3281</td>\n",
       "    </tr>\n",
       "    <tr>\n",
       "      <th>153</th>\n",
       "      <td>Qatar</td>\n",
       "      <td>2979</td>\n",
       "    </tr>\n",
       "    <tr>\n",
       "      <th>67</th>\n",
       "      <td>Finland</td>\n",
       "      <td>2974</td>\n",
       "    </tr>\n",
       "    <tr>\n",
       "      <th>55</th>\n",
       "      <td>Dominican Rep.</td>\n",
       "      <td>2967</td>\n",
       "    </tr>\n",
       "    <tr>\n",
       "      <th>195</th>\n",
       "      <td>Ukraine</td>\n",
       "      <td>2777</td>\n",
       "    </tr>\n",
       "    <tr>\n",
       "      <th>42</th>\n",
       "      <td>Colombia</td>\n",
       "      <td>2776</td>\n",
       "    </tr>\n",
       "    <tr>\n",
       "      <th>184</th>\n",
       "      <td>Thailand</td>\n",
       "      <td>2579</td>\n",
       "    </tr>\n",
       "    <tr>\n",
       "      <th>17</th>\n",
       "      <td>Belarus</td>\n",
       "      <td>2578</td>\n",
       "    </tr>\n",
       "    <tr>\n",
       "      <th>167</th>\n",
       "      <td>Singapore</td>\n",
       "      <td>2532</td>\n",
       "    </tr>\n",
       "  </tbody>\n",
       "</table>\n",
       "</div>"
      ],
      "text/plain": [
       "            Country  Confirmed\n",
       "193              US     557571\n",
       "175           Spain     166019\n",
       "96            Italy     156363\n",
       "73          Germany     123016\n",
       "68           France      95403\n",
       "192              UK      84279\n",
       "41            China      83209\n",
       "91             Iran      71686\n",
       "190          Turkey      56956\n",
       "18          Belgium      29647\n",
       "134     Netherlands      25587\n",
       "180     Switzerland      25220\n",
       "35           Canada      24365\n",
       "27           Brazil      22169\n",
       "151        Portugal      16585\n",
       "155          Russia      15770\n",
       "11          Austria      13937\n",
       "95           Israel      11145\n",
       "173     South Korea      10537\n",
       "179          Sweden      10483\n",
       "93          Ireland       9655\n",
       "89            India       9152\n",
       "148            Peru       7519\n",
       "56          Ecuador       7466\n",
       "98            Japan       7255\n",
       "40            Chile       7213\n",
       "150          Poland       6674\n",
       "141          Norway       6415\n",
       "10        Australia       6322\n",
       "154         Romania       6300\n",
       "52          Denmark       6174\n",
       "51          Czechia       5991\n",
       "143        Pakistan       5374\n",
       "117        Malaysia       4683\n",
       "123          Mexico       4661\n",
       "149     Philippines       4648\n",
       "162    Saudi Arabia       4462\n",
       "90        Indonesia       4241\n",
       "59         Emirates       4123\n",
       "164          Serbia       3630\n",
       "145          Panama       3400\n",
       "113      Luxembourg       3281\n",
       "153           Qatar       2979\n",
       "67          Finland       2974\n",
       "55   Dominican Rep.       2967\n",
       "195         Ukraine       2777\n",
       "42         Colombia       2776\n",
       "184        Thailand       2579\n",
       "17          Belarus       2578\n",
       "167       Singapore       2532"
      ]
     },
     "execution_count": 22,
     "metadata": {},
     "output_type": "execute_result"
    }
   ],
   "source": [
    "confirmed_by_country = ndf.groupby(['Country'])['Confirmed'].sum().to_frame(name = 'Confirmed').reset_index()\n",
    "confirmed_by_country.columns = ['Country','Confirmed']\n",
    "confirmed_by_country.sort_values(by='Confirmed', ascending=False, inplace=True)\n",
    "confirmed_by_country.head(50)"
   ]
  },
  {
   "cell_type": "code",
   "execution_count": 23,
   "metadata": {},
   "outputs": [
    {
     "data": {
      "text/plain": [
       "[<matplotlib.lines.Line2D at 0x7ffa773061d0>]"
      ]
     },
     "execution_count": 23,
     "metadata": {},
     "output_type": "execute_result"
    },
    {
     "data": {
      "image/png": "[encoded data removed]",
      "text/plain": [
       "<Figure size 432x288 with 1 Axes>"
      ]
     },
     "metadata": {},
     "output_type": "display_data"
    }
   ],
   "source": [
    "# Plot confirmed cases worldwide\n",
    "cf = ndf.groupby('Date')[['Country','Confirmed']].sum()\n",
    "\n",
    "plt.xlabel('Date (Time)')\n",
    "plt.ylabel('Number of Daily Cases')\n",
    "plt.title('World COVID-19 Confirmed Cases (Daily)')\n",
    "\n",
    "plt.plot(cf, color='blue')"
   ]
  },
  {
   "cell_type": "code",
   "execution_count": 24,
   "metadata": {},
   "outputs": [],
   "source": [
    "# Plot and save trendline graph\n",
    "def create_trend_line(ndf, col3, col4):\n",
    "    fig, ax = plt.subplots(figsize=(10,6))\n",
    "    ndf.groupby(['Date'])[['Confirmed', 'Deaths']].sum().plot(ax=ax, marker='+')\n",
    "    fig = ax.get_figure()"
   ]
  },
  {
   "cell_type": "code",
   "execution_count": 25,
   "metadata": {},
   "outputs": [
    {
     "data": {
      "image/png": "[encoded data removed]",
      "text/plain": [
       "<Figure size 720x432 with 1 Axes>"
      ]
     },
     "metadata": {},
     "output_type": "display_data"
    }
   ],
   "source": [
    "create_trend_line(ndf, 'Confirmed', 'Deaths')\n",
    "plt.xlabel('Date (Time)')\n",
    "plt.ylabel('Number of Records')\n",
    "plt.title('World COVID-19 Cases-Daily')\n",
    "plt.savefig('wcovid19daily')"
   ]
  },
  {
   "cell_type": "code",
   "execution_count": 26,
   "metadata": {},
   "outputs": [
    {
     "data": {
      "text/plain": [
       "<matplotlib.axes._subplots.AxesSubplot at 0x7ffa7748f710>"
      ]
     },
     "execution_count": 26,
     "metadata": {},
     "output_type": "execute_result"
    },
    {
     "data": {
      "image/png": "[encoded data removed]",
      "text/plain": [
       "<Figure size 432x288 with 1 Axes>"
      ]
     },
     "metadata": {},
     "output_type": "display_data"
    }
   ],
   "source": [
    "ndf['Confirmed'].resample('M').sum().plot(kind='bar', title='Total Confirmed Cases Per Month')"
   ]
  },
  {
   "cell_type": "code",
   "execution_count": 27,
   "metadata": {},
   "outputs": [
    {
     "data": {
      "text/plain": [
       "<matplotlib.axes._subplots.AxesSubplot at 0x7ffa7745dd30>"
      ]
     },
     "execution_count": 27,
     "metadata": {},
     "output_type": "execute_result"
    },
    {
     "data": {
      "image/png": "[encoded data removed]",
      "text/plain": [
       "<Figure size 432x288 with 1 Axes>"
      ]
     },
     "metadata": {},
     "output_type": "display_data"
    }
   ],
   "source": [
    "ndf['Confirmed'].resample('W').sum().plot(kind='bar', color='orange')"
   ]
  },
  {
   "cell_type": "code",
   "execution_count": 28,
   "metadata": {},
   "outputs": [
    {
     "data": {
      "text/plain": [
       "<matplotlib.axes._subplots.AxesSubplot at 0x7ffa77466d30>"
      ]
     },
     "execution_count": 28,
     "metadata": {},
     "output_type": "execute_result"
    },
    {
     "data": {
      "image/png": "[encoded data removed]",
      "text/plain": [
       "<Figure size 432x288 with 1 Axes>"
      ]
     },
     "metadata": {},
     "output_type": "display_data"
    }
   ],
   "source": [
    "ndf['Deaths'].resample('M').sum().plot(kind='bar', color='red', title='Total Death Cases Per Month')"
   ]
  },
  {
   "cell_type": "code",
   "execution_count": 29,
   "metadata": {},
   "outputs": [
    {
     "data": {
      "text/plain": [
       "<matplotlib.axes._subplots.AxesSubplot at 0x7ffa774664e0>"
      ]
     },
     "execution_count": 29,
     "metadata": {},
     "output_type": "execute_result"
    },
    {
     "data": {
      "image/png": "[encoded data removed]",
      "text/plain": [
       "<Figure size 432x288 with 1 Axes>"
      ]
     },
     "metadata": {},
     "output_type": "display_data"
    }
   ],
   "source": [
    "ndf['Deaths'].resample('W').sum().plot(kind='bar', color='red', title='Deaths Per Week')"
   ]
  },
  {
   "cell_type": "code",
   "execution_count": 30,
   "metadata": {},
   "outputs": [
    {
     "data": {
      "text/plain": [
       "<matplotlib.axes._subplots.AxesSubplot at 0x7ffa77504b70>"
      ]
     },
     "execution_count": 30,
     "metadata": {},
     "output_type": "execute_result"
    },
    {
     "data": {
      "image/png": "[encoded data removed]",
      "text/plain": [
       "<Figure size 432x288 with 1 Axes>"
      ]
     },
     "metadata": {},
     "output_type": "display_data"
    }
   ],
   "source": [
    "ndf['Confirmed'].plot()"
   ]
  },
  {
   "cell_type": "code",
   "execution_count": 31,
   "metadata": {},
   "outputs": [
    {
     "data": {
      "text/html": [
       "<div>\n",
       "<style scoped>\n",
       "    .dataframe tbody tr th:only-of-type {\n",
       "        vertical-align: middle;\n",
       "    }\n",
       "\n",
       "    .dataframe tbody tr th {\n",
       "        vertical-align: top;\n",
       "    }\n",
       "\n",
       "    .dataframe thead th {\n",
       "        text-align: right;\n",
       "    }\n",
       "</style>\n",
       "<table border=\"1\" class=\"dataframe\">\n",
       "  <thead>\n",
       "    <tr style=\"text-align: right;\">\n",
       "      <th></th>\n",
       "      <th>Confirmed</th>\n",
       "      <th>Deaths</th>\n",
       "      <th>Country</th>\n",
       "    </tr>\n",
       "    <tr>\n",
       "      <th>Date</th>\n",
       "      <th></th>\n",
       "      <th></th>\n",
       "      <th></th>\n",
       "    </tr>\n",
       "  </thead>\n",
       "  <tbody>\n",
       "    <tr>\n",
       "      <th>2020-04-13</th>\n",
       "      <td>52</td>\n",
       "      <td>0</td>\n",
       "      <td>Afghanistan</td>\n",
       "    </tr>\n",
       "    <tr>\n",
       "      <th>2020-04-12</th>\n",
       "      <td>34</td>\n",
       "      <td>3</td>\n",
       "      <td>Afghanistan</td>\n",
       "    </tr>\n",
       "    <tr>\n",
       "      <th>2020-04-11</th>\n",
       "      <td>37</td>\n",
       "      <td>0</td>\n",
       "      <td>Afghanistan</td>\n",
       "    </tr>\n",
       "    <tr>\n",
       "      <th>2020-04-10</th>\n",
       "      <td>61</td>\n",
       "      <td>1</td>\n",
       "      <td>Afghanistan</td>\n",
       "    </tr>\n",
       "    <tr>\n",
       "      <th>2020-04-09</th>\n",
       "      <td>56</td>\n",
       "      <td>3</td>\n",
       "      <td>Afghanistan</td>\n",
       "    </tr>\n",
       "  </tbody>\n",
       "</table>\n",
       "</div>"
      ],
      "text/plain": [
       "            Confirmed  Deaths      Country\n",
       "Date                                      \n",
       "2020-04-13         52       0  Afghanistan\n",
       "2020-04-12         34       3  Afghanistan\n",
       "2020-04-11         37       0  Afghanistan\n",
       "2020-04-10         61       1  Afghanistan\n",
       "2020-04-09         56       3  Afghanistan"
      ]
     },
     "execution_count": 31,
     "metadata": {},
     "output_type": "execute_result"
    }
   ],
   "source": [
    "ndf.head()"
   ]
  },
  {
   "cell_type": "code",
   "execution_count": 32,
   "metadata": {},
   "outputs": [],
   "source": [
    "con_cases = ndf['Confirmed'].sum()\n",
    "dt_cases = ndf['Deaths'].sum()"
   ]
  },
  {
   "cell_type": "code",
   "execution_count": 33,
   "metadata": {},
   "outputs": [],
   "source": [
    "fatality_rate = dt_cases/(con_cases+dt_cases)*100"
   ]
  },
  {
   "cell_type": "code",
   "execution_count": 34,
   "metadata": {},
   "outputs": [
    {
     "data": {
      "text/plain": [
       "5.9096084434728695"
      ]
     },
     "execution_count": 34,
     "metadata": {},
     "output_type": "execute_result"
    }
   ],
   "source": [
    "fatality_rate"
   ]
  },
  {
   "cell_type": "code",
   "execution_count": 35,
   "metadata": {},
   "outputs": [
    {
     "data": {
      "text/plain": [
       "113513"
      ]
     },
     "execution_count": 35,
     "metadata": {},
     "output_type": "execute_result"
    }
   ],
   "source": [
    "dt_cases"
   ]
  },
  {
   "cell_type": "code",
   "execution_count": 36,
   "metadata": {},
   "outputs": [
    {
     "data": {
      "text/plain": [
       "1807308"
      ]
     },
     "execution_count": 36,
     "metadata": {},
     "output_type": "execute_result"
    }
   ],
   "source": [
    "con_cases"
   ]
  },
  {
   "cell_type": "code",
   "execution_count": 37,
   "metadata": {},
   "outputs": [],
   "source": [
    "# visualization of most infected countries in the world\n",
    "\n",
    "# CHINA STATE\n",
    "df_cn = ndf[ndf['Country']=='China'].reset_index()\n",
    "# ITALY STATE               \n",
    "df_it = ndf[ndf['Country']=='Italy'].reset_index()\n",
    "# IRAN STATE\n",
    "df_ir = ndf[ndf['Country']=='Iran'].reset_index()\n",
    "# SPAIN STATE\n",
    "df_sp = ndf[ndf['Country']=='Spain'].reset_index()\n",
    "# FRANCE STATE\n",
    "df_fr = ndf[ndf['Country']=='France'].reset_index()\n",
    "# SOUTH KOREA STATE\n",
    "df_skr = ndf[ndf['Country']=='South Korea'].reset_index()\n",
    "\n",
    "# filter down on dates\n",
    "df_cn  = df_cn[df_cn['Date'] >= ('2020-01-17')]\n",
    "df_it = df_it[df_it['Date'] >= ('2020-01-17')]\n",
    "df_ir = df_ir[df_ir['Date'] >= ('2020-01-17')]\n",
    "df_sp = df_sp[df_sp['Date'] >= ('2020-01-17')]\n",
    "df_fr = df_fr[df_fr['Date'] >= ('2020-01-17')]\n",
    "df_skr = df_skr[df_skr['Date'] >= ('2020-01-17')]"
   ]
  },
  {
   "cell_type": "code",
   "execution_count": 38,
   "metadata": {},
   "outputs": [
    {
     "data": {
      "image/png": "[encoded data removed]",
      "text/plain": [
       "<Figure size 864x432 with 1 Axes>"
      ]
     },
     "metadata": {},
     "output_type": "display_data"
    }
   ],
   "source": [
    "# plotting\n",
    "\n",
    "fig, ax = plt.subplots(figsize=(12,6))\n",
    "ax.plot(df_cn['Date'], df_cn['Confirmed'],color='yellow')\n",
    "ax.plot(df_it['Date'], df_it['Confirmed'],color='green')\n",
    "ax.plot(df_ir['Date'], df_ir['Confirmed'],color='blue')\n",
    "ax.plot(df_sp['Date'], df_sp['Confirmed'],color='red')\n",
    "ax.plot(df_fr['Date'], df_fr['Confirmed'],color='black')\n",
    "ax.plot(df_skr['Date'], df_skr['Confirmed'],color='magenta')\n",
    "\n",
    "\n",
    "\n",
    "ax.set(xlabel='Date', ylabel='No. of Confirmed Cases',\n",
    "       title='COVID-19')\n",
    "ax.legend(['China','Italy','Iran','Spain','France','South Korea'])\n",
    "ax.grid()\n",
    "plt.savefig('covidstate1')"
   ]
  },
  {
   "cell_type": "code",
   "execution_count": 39,
   "metadata": {},
   "outputs": [
    {
     "data": {
      "image/png": "[encoded data removed]",
      "text/plain": [
       "<Figure size 1152x576 with 2 Axes>"
      ]
     },
     "metadata": {},
     "output_type": "display_data"
    }
   ],
   "source": [
    "wdf = ndf.groupby(['Date'])[['Confirmed','Deaths']].sum().reset_index()\n",
    "\n",
    "#plotting new cases by day worldwide\n",
    "plt.rcParams['figure.figsize'] = [16, 8]\n",
    "fig, ax = plt.subplots(2,sharex=True)\n",
    "\n",
    "# top chart of cases\n",
    "ax[0].plot(wdf['Date'], wdf['Confirmed'],color='black')\n",
    "ax[0].set(xlabel='Date', ylabel='Confirmed Cases Per Day',\n",
    "       title='COVID-19 Total Cases Worldwide')\n",
    "ax[0].grid()\n",
    "\n",
    "# bottom chart of deaths\n",
    "ax[1].plot(wdf['Date'], wdf['Deaths'],color='red')\n",
    "ax[1].set(xlabel='Date', ylabel='Deaths Per Day',\n",
    "       title='COVID-19 Total Deaths Worldwide')\n",
    "ax[1].grid()"
   ]
  },
  {
   "cell_type": "code",
   "execution_count": 40,
   "metadata": {},
   "outputs": [
    {
     "data": {
      "text/plain": [
       "1807308"
      ]
     },
     "execution_count": 40,
     "metadata": {},
     "output_type": "execute_result"
    }
   ],
   "source": [
    "ndf.Confirmed.sum()"
   ]
  },
  {
   "cell_type": "code",
   "execution_count": 41,
   "metadata": {},
   "outputs": [
    {
     "data": {
      "text/plain": [
       "113513"
      ]
     },
     "execution_count": 41,
     "metadata": {},
     "output_type": "execute_result"
    }
   ],
   "source": [
    "ndf.Deaths.sum()"
   ]
  },
  {
   "cell_type": "code",
   "execution_count": 42,
   "metadata": {},
   "outputs": [
    {
     "data": {
      "image/png": "[encoded data removed]",
      "text/plain": [
       "<Figure size 864x432 with 1 Axes>"
      ]
     },
     "metadata": {},
     "output_type": "display_data"
    }
   ],
   "source": [
    "# plotting\n",
    "\n",
    "fig, ax = plt.subplots(figsize=(12,6))\n",
    "ax.plot(df_cn['Date'], df_cn['Deaths'],color='yellow')\n",
    "ax.plot(df_it['Date'], df_it['Deaths'],color='green')\n",
    "ax.plot(df_ir['Date'], df_ir['Deaths'],color='blue')\n",
    "ax.plot(df_sp['Date'], df_sp['Deaths'],color='red')\n",
    "ax.plot(df_fr['Date'], df_fr['Deaths'],color='black')\n",
    "ax.plot(df_skr['Date'], df_skr['Deaths'],color='magenta')\n",
    "\n",
    "\n",
    "\n",
    "ax.set(xlabel='Date', ylabel='No. of Mortal Cases Per Day',\n",
    "       title='COVID-19')\n",
    "ax.legend(['China','Italy','Iran','Spain','France','South Korea'])\n",
    "ax.grid()"
   ]
  },
  {
   "cell_type": "code",
   "execution_count": 43,
   "metadata": {},
   "outputs": [
    {
     "data": {
      "text/html": [
       "<div>\n",
       "<style scoped>\n",
       "    .dataframe tbody tr th:only-of-type {\n",
       "        vertical-align: middle;\n",
       "    }\n",
       "\n",
       "    .dataframe tbody tr th {\n",
       "        vertical-align: top;\n",
       "    }\n",
       "\n",
       "    .dataframe thead th {\n",
       "        text-align: right;\n",
       "    }\n",
       "</style>\n",
       "<table border=\"1\" class=\"dataframe\">\n",
       "  <thead>\n",
       "    <tr style=\"text-align: right;\">\n",
       "      <th></th>\n",
       "      <th>Confirmed</th>\n",
       "      <th>Deaths</th>\n",
       "      <th>Country</th>\n",
       "    </tr>\n",
       "    <tr>\n",
       "      <th>Date</th>\n",
       "      <th></th>\n",
       "      <th></th>\n",
       "      <th></th>\n",
       "    </tr>\n",
       "  </thead>\n",
       "  <tbody>\n",
       "    <tr>\n",
       "      <th>2020-04-13</th>\n",
       "      <td>52</td>\n",
       "      <td>0</td>\n",
       "      <td>Afghanistan</td>\n",
       "    </tr>\n",
       "    <tr>\n",
       "      <th>2020-04-12</th>\n",
       "      <td>34</td>\n",
       "      <td>3</td>\n",
       "      <td>Afghanistan</td>\n",
       "    </tr>\n",
       "    <tr>\n",
       "      <th>2020-04-11</th>\n",
       "      <td>37</td>\n",
       "      <td>0</td>\n",
       "      <td>Afghanistan</td>\n",
       "    </tr>\n",
       "    <tr>\n",
       "      <th>2020-04-10</th>\n",
       "      <td>61</td>\n",
       "      <td>1</td>\n",
       "      <td>Afghanistan</td>\n",
       "    </tr>\n",
       "    <tr>\n",
       "      <th>2020-04-09</th>\n",
       "      <td>56</td>\n",
       "      <td>3</td>\n",
       "      <td>Afghanistan</td>\n",
       "    </tr>\n",
       "  </tbody>\n",
       "</table>\n",
       "</div>"
      ],
      "text/plain": [
       "            Confirmed  Deaths      Country\n",
       "Date                                      \n",
       "2020-04-13         52       0  Afghanistan\n",
       "2020-04-12         34       3  Afghanistan\n",
       "2020-04-11         37       0  Afghanistan\n",
       "2020-04-10         61       1  Afghanistan\n",
       "2020-04-09         56       3  Afghanistan"
      ]
     },
     "execution_count": 43,
     "metadata": {},
     "output_type": "execute_result"
    }
   ],
   "source": [
    "ndf.head()"
   ]
  },
  {
   "cell_type": "code",
   "execution_count": 44,
   "metadata": {},
   "outputs": [],
   "source": [
    "# Calculate Italy mortality rate\n",
    "df_it\n",
    "itcon = df_it['Confirmed'].sum()\n",
    "itdt = df_it['Deaths'].sum()\n",
    "it_mort_rate = itdt/(itcon+itdt)*100"
   ]
  },
  {
   "cell_type": "code",
   "execution_count": 45,
   "metadata": {},
   "outputs": [
    {
     "data": {
      "text/plain": [
       "11.290450687604956"
      ]
     },
     "execution_count": 45,
     "metadata": {},
     "output_type": "execute_result"
    }
   ],
   "source": [
    "it_mort_rate"
   ]
  },
  {
   "cell_type": "code",
   "execution_count": 46,
   "metadata": {},
   "outputs": [],
   "source": [
    "# Italy mortality rate Compared to World Average\n",
    "itw = (it_mort_rate/fatality_rate) * 100"
   ]
  },
  {
   "cell_type": "code",
   "execution_count": 47,
   "metadata": {},
   "outputs": [
    {
     "name": "stdout",
     "output_type": "stream",
     "text": [
      "Italy Mortality Rate Compared to World Average is : 191.05243258671726 %\n"
     ]
    }
   ],
   "source": [
    "print('Italy Mortality Rate Compared to World Average is :', itw ,'%')"
   ]
  },
  {
   "cell_type": "code",
   "execution_count": 48,
   "metadata": {},
   "outputs": [],
   "source": [
    "# Calculate China mortality rate\n",
    "df_cn\n",
    "chcon = df_cn['Confirmed'].sum()\n",
    "chdt = df_cn['Deaths'].sum()\n",
    "ch_mort_rate = chdt/(chcon+chdt)*100"
   ]
  },
  {
   "cell_type": "code",
   "execution_count": 49,
   "metadata": {},
   "outputs": [
    {
     "data": {
      "text/plain": [
       "3.865052663221301"
      ]
     },
     "execution_count": 49,
     "metadata": {},
     "output_type": "execute_result"
    }
   ],
   "source": [
    "ch_mort_rate"
   ]
  },
  {
   "cell_type": "code",
   "execution_count": 50,
   "metadata": {},
   "outputs": [],
   "source": [
    "# China Mortality rate compared to World Average\n",
    "chw = (ch_mort_rate/fatality_rate) * 100"
   ]
  },
  {
   "cell_type": "code",
   "execution_count": 51,
   "metadata": {},
   "outputs": [
    {
     "name": "stdout",
     "output_type": "stream",
     "text": [
      "China Mortality Rate Compared to World Average is : 65.40285537005808 %\n"
     ]
    }
   ],
   "source": [
    "print('China Mortality Rate Compared to World Average is :', chw ,'%')"
   ]
  },
  {
   "cell_type": "code",
   "execution_count": 52,
   "metadata": {},
   "outputs": [],
   "source": [
    "# Calculate Spain mortality rate\n",
    "df_sp\n",
    "spcon = df_sp['Confirmed'].sum()\n",
    "spdt = df_sp['Deaths'].sum()\n",
    "sp_mort_rate = spdt/(spcon+spdt)*100"
   ]
  },
  {
   "cell_type": "code",
   "execution_count": 53,
   "metadata": {},
   "outputs": [
    {
     "data": {
      "text/plain": [
       "9.27477307627151"
      ]
     },
     "execution_count": 53,
     "metadata": {},
     "output_type": "execute_result"
    }
   ],
   "source": [
    "sp_mort_rate"
   ]
  },
  {
   "cell_type": "code",
   "execution_count": 54,
   "metadata": {},
   "outputs": [],
   "source": [
    "# Spain Mortality rate compared to World Average\n",
    "spw = (sp_mort_rate/fatality_rate) * 100"
   ]
  },
  {
   "cell_type": "code",
   "execution_count": 55,
   "metadata": {},
   "outputs": [
    {
     "name": "stdout",
     "output_type": "stream",
     "text": [
      "Spain Mortality Rate Compared to World Average is : 156.94395263218237 %\n"
     ]
    }
   ],
   "source": [
    "print('Spain Mortality Rate Compared to World Average is :', spw ,'%')"
   ]
  },
  {
   "cell_type": "code",
   "execution_count": 56,
   "metadata": {},
   "outputs": [],
   "source": [
    "# Calculate France mortality rate\n",
    "df_fr\n",
    "frcon = df_fr['Confirmed'].sum()\n",
    "frdt = df_fr['Deaths'].sum()\n",
    "fr_mort_rate = frdt/(frcon+frdt)*100"
   ]
  },
  {
   "cell_type": "code",
   "execution_count": 57,
   "metadata": {},
   "outputs": [
    {
     "data": {
      "text/plain": [
       "13.108856424642063"
      ]
     },
     "execution_count": 57,
     "metadata": {},
     "output_type": "execute_result"
    }
   ],
   "source": [
    "fr_mort_rate"
   ]
  },
  {
   "cell_type": "code",
   "execution_count": 58,
   "metadata": {},
   "outputs": [],
   "source": [
    "# France Mortality rate compared to World Average\n",
    "frw = (fr_mort_rate/fatality_rate) * 100"
   ]
  },
  {
   "cell_type": "code",
   "execution_count": 59,
   "metadata": {},
   "outputs": [
    {
     "name": "stdout",
     "output_type": "stream",
     "text": [
      "France Mortality Rate Compared to World Average is : 221.82275780251945 %\n"
     ]
    }
   ],
   "source": [
    "print('France Mortality Rate Compared to World Average is :', frw ,'%')"
   ]
  },
  {
   "cell_type": "code",
   "execution_count": 60,
   "metadata": {},
   "outputs": [],
   "source": [
    "# Calculate Iran mortality rate\n",
    "df_ir\n",
    "ircon = df_ir['Confirmed'].sum()\n",
    "irdt = df_ir['Deaths'].sum()\n",
    "ir_mort_rate = irdt/(ircon+irdt)*100"
   ]
  },
  {
   "cell_type": "code",
   "execution_count": 61,
   "metadata": {},
   "outputs": [
    {
     "data": {
      "text/plain": [
       "5.874474789915967"
      ]
     },
     "execution_count": 61,
     "metadata": {},
     "output_type": "execute_result"
    }
   ],
   "source": [
    "ir_mort_rate"
   ]
  },
  {
   "cell_type": "code",
   "execution_count": 62,
   "metadata": {},
   "outputs": [],
   "source": [
    "# Iran Mortality rate compared to World Average\n",
    "irw = (ir_mort_rate/fatality_rate) * 100"
   ]
  },
  {
   "cell_type": "code",
   "execution_count": 63,
   "metadata": {},
   "outputs": [
    {
     "name": "stdout",
     "output_type": "stream",
     "text": [
      "Iran Mortality Rate Compared to World Average is : 99.40548254773617 %\n"
     ]
    }
   ],
   "source": [
    "print('Iran Mortality Rate Compared to World Average is :', irw ,'%')"
   ]
  },
  {
   "cell_type": "code",
   "execution_count": 64,
   "metadata": {},
   "outputs": [],
   "source": [
    "# visualization of most infected countries in the world part 2\n",
    "\n",
    "# Germany STATE\n",
    "df_gr = ndf[ndf['Country']=='Germany'].reset_index()\n",
    "# USA STATE               \n",
    "df_us = ndf[ndf['Country']=='US'].reset_index()\n",
    "# UK STATE\n",
    "df_uk = ndf[ndf['Country']=='UK'].reset_index()\n",
    "# NL STATE\n",
    "df_nl = ndf[ndf['Country']=='Netherlands'].reset_index()\n",
    "# SWISS STATE\n",
    "df_sw = ndf[ndf['Country']=='Switzerland'].reset_index()\n",
    "# Japan STATE\n",
    "df_jp = ndf[ndf['Country']=='Japan'].reset_index()\n",
    "\n",
    "# filter down on dates\n",
    "df_gr  = df_gr[df_gr['Date'] >= ('2020-01-17')]\n",
    "df_us = df_us[df_us['Date'] >= ('2020-01-17')]\n",
    "df_uk = df_uk[df_uk['Date'] >= ('2020-01-17')]\n",
    "df_nl = df_nl[df_nl['Date'] >= ('2020-01-17')]\n",
    "df_sw = df_sw[df_sw['Date'] >= ('2020-01-17')]\n",
    "df_jp = df_jp[df_jp['Date'] >= ('2020-01-17')]"
   ]
  },
  {
   "cell_type": "code",
   "execution_count": 65,
   "metadata": {},
   "outputs": [
    {
     "data": {
      "image/png": "[encoded data removed]",
      "text/plain": [
       "<Figure size 864x432 with 1 Axes>"
      ]
     },
     "metadata": {},
     "output_type": "display_data"
    }
   ],
   "source": [
    "# plotting\n",
    "\n",
    "fig, ax = plt.subplots(figsize=(12,6))\n",
    "ax.plot(df_gr['Date'], df_gr['Confirmed'],color='orange')\n",
    "ax.plot(df_us['Date'], df_us['Confirmed'],color='green')\n",
    "ax.plot(df_uk['Date'], df_uk['Confirmed'],color='blue')\n",
    "ax.plot(df_nl['Date'], df_nl['Confirmed'],color='red')\n",
    "ax.plot(df_sw['Date'], df_sw['Confirmed'],color='black')\n",
    "ax.plot(df_jp['Date'], df_jp['Confirmed'],color='magenta')\n",
    "\n",
    "\n",
    "ax.set(xlabel='Date', ylabel='No. of Confirmed Cases',\n",
    "       title='COVID-19')\n",
    "ax.legend(['Germany','US','UK','NL','Swiss','Japan'])\n",
    "ax.grid()\n",
    "plt.savefig('covidstate2')"
   ]
  },
  {
   "cell_type": "code",
   "execution_count": 66,
   "metadata": {},
   "outputs": [
    {
     "data": {
      "image/png": "[encoded data removed]",
      "text/plain": [
       "<Figure size 864x432 with 1 Axes>"
      ]
     },
     "metadata": {},
     "output_type": "display_data"
    }
   ],
   "source": [
    "# plotting\n",
    "\n",
    "fig, ax = plt.subplots(figsize=(12,6))\n",
    "ax.plot(df_gr['Date'], df_gr['Deaths'],color='orange')\n",
    "ax.plot(df_us['Date'], df_us['Deaths'],color='green')\n",
    "ax.plot(df_uk['Date'], df_uk['Deaths'],color='blue')\n",
    "ax.plot(df_nl['Date'], df_nl['Deaths'],color='red')\n",
    "ax.plot(df_sw['Date'], df_sw['Deaths'],color='black')\n",
    "ax.plot(df_jp['Date'], df_jp['Deaths'],color='magenta')\n",
    "\n",
    "\n",
    "ax.set(xlabel='Date', ylabel='No. of Mortal Cases',\n",
    "       title='COVID-19')\n",
    "ax.legend(['Germany','US','UK','NL','Swiss','Japan'])\n",
    "ax.grid()"
   ]
  },
  {
   "cell_type": "code",
   "execution_count": 67,
   "metadata": {},
   "outputs": [],
   "source": [
    "# visualization of some infected countries in the world part 3\n",
    "\n",
    "# Egypt STATE\n",
    "df_eg = ndf[ndf['Country']=='Egypt'].reset_index()\n",
    "# Israel STATE               \n",
    "df_il = ndf[ndf['Country']=='Israel'].reset_index()\n",
    "# Turkey STATE\n",
    "df_tr = ndf[ndf['Country']=='Turkey'].reset_index()\n",
    "# Iraq STATE\n",
    "df_iq = ndf[ndf['Country']=='Iraq'].reset_index()\n",
    "# Qatar STATE\n",
    "df_qr = ndf[ndf['Country']=='Qatar'].reset_index()\n",
    "# Bahrain STATE\n",
    "df_bn = ndf[ndf['Country']=='Bahrain'].reset_index()\n",
    "\n",
    "# filter down on dates\n",
    "df_eg  = df_eg[df_eg['Date'] >= ('2020-01-17')]\n",
    "df_il = df_il[df_il['Date'] >= ('2020-01-17')]\n",
    "df_tr = df_tr[df_tr['Date'] >= ('2020-01-17')]\n",
    "df_iq = df_iq[df_iq['Date'] >= ('2020-01-17')]\n",
    "df_qr = df_qr[df_qr['Date'] >= ('2020-01-17')]\n",
    "df_bn = df_bn[df_bn['Date'] >= ('2020-01-17')]"
   ]
  },
  {
   "cell_type": "code",
   "execution_count": 68,
   "metadata": {},
   "outputs": [
    {
     "data": {
      "image/png": "[encoded data removed]",
      "text/plain": [
       "<Figure size 864x432 with 1 Axes>"
      ]
     },
     "metadata": {},
     "output_type": "display_data"
    }
   ],
   "source": [
    "# plotting\n",
    "\n",
    "fig, ax = plt.subplots(figsize=(12,6))\n",
    "ax.plot(df_eg['Date'], df_eg['Confirmed'],color='red')\n",
    "ax.plot(df_il['Date'], df_il['Confirmed'],color='blue')\n",
    "ax.plot(df_tr['Date'], df_tr['Confirmed'],color='orange')\n",
    "ax.plot(df_iq['Date'], df_iq['Confirmed'],color='green')\n",
    "ax.plot(df_qr['Date'], df_qr['Confirmed'],color='black')\n",
    "ax.plot(df_bn['Date'], df_bn['Confirmed'],color='yellow')\n",
    "\n",
    "\n",
    "ax.set(xlabel='Date', ylabel='No. of Confirmed Cases',\n",
    "       title='COVID-19')\n",
    "ax.legend(['Egypt','Israel','Turkey','Iraq','Qatar','Bahrain'])\n",
    "ax.grid()\n",
    "plt.savefig('covidstate3')"
   ]
  },
  {
   "cell_type": "code",
   "execution_count": 69,
   "metadata": {},
   "outputs": [],
   "source": [
    "twc = ndf.Confirmed.sum()\n",
    "twd = ndf.Deaths.sum()"
   ]
  },
  {
   "cell_type": "code",
   "execution_count": 70,
   "metadata": {},
   "outputs": [],
   "source": [
    "# South Africa STATE\n",
    "df_sa = ndf[ndf['Country']=='South Africa'].reset_index()\n",
    "# KSA STATE               \n",
    "df_ksa = ndf[ndf['Country']=='Saudi Arabia'].reset_index()\n",
    "# India STATE\n",
    "df_in = ndf[ndf['Country']=='India'].reset_index()\n",
    "# Russia STATE\n",
    "df_ru = ndf[ndf['Country']=='Russia'].reset_index()\n",
    "# Norway STATE\n",
    "df_no = ndf[ndf['Country']=='Norway'].reset_index()\n",
    "# Australia STATE\n",
    "df_au = ndf[ndf['Country']=='Australia'].reset_index()\n",
    "# Pakistan STATE\n",
    "df_pk = ndf[ndf['Country']=='Pakistan'].reset_index()\n",
    "# Indonesia STATE\n",
    "df_inesia = ndf[ndf['Country']=='Indonesia'].reset_index()\n",
    "# Brazil STATE\n",
    "df_br = ndf[ndf['Country']=='Brazil'].reset_index()\n",
    "# Sweden STATE\n",
    "df_swd = ndf[ndf['Country']=='Sweden'].reset_index()\n",
    "\n",
    "\n",
    "# filter down on dates\n",
    "df_sa  = df_sa[df_sa['Date'] >= ('2020-01-17')]\n",
    "df_ksa = df_ksa[df_ksa['Date'] >= ('2020-01-17')]\n",
    "df_in = df_in[df_in['Date'] >= ('2020-01-17')]\n",
    "df_ru = df_ru[df_ru['Date'] >= ('2020-01-17')]\n",
    "df_no = df_no[df_no['Date'] >= ('2020-01-17')]\n",
    "df_au = df_au[df_au['Date'] >= ('2020-01-17')]\n",
    "df_pk = df_pk[df_pk['Date'] >= ('2020-01-17')]\n",
    "df_inesia = df_inesia[df_inesia['Date'] >= ('2020-01-17')]\n",
    "df_br = df_br[df_br['Date'] >= ('2020-01-17')]\n",
    "df_swd = df_swd[df_swd['Date'] >= ('2020-01-17')]"
   ]
  },
  {
   "cell_type": "code",
   "execution_count": 71,
   "metadata": {},
   "outputs": [],
   "source": [
    "#Germany\n",
    "\n",
    "df_gr\n",
    "grcon = df_gr['Confirmed'].sum()\n",
    "grdt = df_gr['Deaths'].sum()\n",
    "gr_mort_rate = grdt/(grcon+grdt)*100"
   ]
  },
  {
   "cell_type": "code",
   "execution_count": 72,
   "metadata": {},
   "outputs": [],
   "source": [
    "#US\n",
    "\n",
    "df_us\n",
    "uscon = df_us['Confirmed'].sum()\n",
    "usdt = df_us['Deaths'].sum()\n",
    "us_mort_rate = usdt/(uscon+usdt)*100"
   ]
  },
  {
   "cell_type": "code",
   "execution_count": 73,
   "metadata": {},
   "outputs": [],
   "source": [
    "#UK\n",
    "\n",
    "df_uk\n",
    "ukcon = df_uk['Confirmed'].sum()\n",
    "ukdt = df_uk['Deaths'].sum()\n",
    "uk_mort_rate = ukdt/(ukcon+ukdt)*100"
   ]
  },
  {
   "cell_type": "code",
   "execution_count": 74,
   "metadata": {},
   "outputs": [],
   "source": [
    "#Netherlands\n",
    "\n",
    "df_nl\n",
    "nlcon = df_nl['Confirmed'].sum()\n",
    "nldt = df_nl['Deaths'].sum()\n",
    "nl_mort_rate = nldt/(nlcon+nldt)*100"
   ]
  },
  {
   "cell_type": "code",
   "execution_count": 75,
   "metadata": {},
   "outputs": [],
   "source": [
    "#Swiss\n",
    "\n",
    "df_sw\n",
    "swcon = df_sw['Confirmed'].sum()\n",
    "swdt = df_sw['Deaths'].sum()\n",
    "sw_mort_rate = swdt/(swcon+swdt)*100"
   ]
  },
  {
   "cell_type": "code",
   "execution_count": 76,
   "metadata": {},
   "outputs": [],
   "source": [
    "#South Korea\n",
    "\n",
    "df_skr\n",
    "skrcon = df_skr['Confirmed'].sum()\n",
    "skrdt = df_skr['Deaths'].sum()\n",
    "skr_mort_rate = skrdt/(skrcon+skrdt)*100"
   ]
  },
  {
   "cell_type": "code",
   "execution_count": 77,
   "metadata": {},
   "outputs": [],
   "source": [
    "#Japan\n",
    "\n",
    "df_jp\n",
    "jpcon = df_jp['Confirmed'].sum()\n",
    "jpdt = df_jp['Deaths'].sum()\n",
    "jp_mort_rate = jpdt/(jpcon+jpdt)*100"
   ]
  },
  {
   "cell_type": "code",
   "execution_count": 78,
   "metadata": {},
   "outputs": [],
   "source": [
    "#Egypt\n",
    "\n",
    "df_eg\n",
    "egcon = df_eg['Confirmed'].sum()\n",
    "egdt = df_eg['Deaths'].sum()\n",
    "eg_mort_rate = egdt/(egcon+egdt)*100"
   ]
  },
  {
   "cell_type": "code",
   "execution_count": 79,
   "metadata": {},
   "outputs": [],
   "source": [
    "#Israel\n",
    "\n",
    "df_il\n",
    "ilcon = df_il['Confirmed'].sum()\n",
    "ildt = df_il['Deaths'].sum()\n",
    "il_mort_rate = ildt/(ilcon+ildt)*100"
   ]
  },
  {
   "cell_type": "code",
   "execution_count": 80,
   "metadata": {},
   "outputs": [],
   "source": [
    "#Iraq\n",
    "\n",
    "df_iq\n",
    "iqcon = df_iq['Confirmed'].sum()\n",
    "iqdt = df_iq['Deaths'].sum()\n",
    "iq_mort_rate = iqdt/(iqcon+iqdt)*100"
   ]
  },
  {
   "cell_type": "code",
   "execution_count": 81,
   "metadata": {},
   "outputs": [],
   "source": [
    "#Turkey\n",
    "\n",
    "df_tr\n",
    "trcon = df_tr['Confirmed'].sum()\n",
    "trdt = df_tr['Deaths'].sum()\n",
    "tr_mort_rate = trdt/(trcon+trdt)*100"
   ]
  },
  {
   "cell_type": "code",
   "execution_count": 82,
   "metadata": {},
   "outputs": [],
   "source": [
    "#Qatar\n",
    "\n",
    "df_qr\n",
    "qrcon = df_qr['Confirmed'].sum()\n",
    "qrdt = df_qr['Deaths'].sum()\n",
    "qr_mort_rate = qrdt/(qrcon+qrdt)*100"
   ]
  },
  {
   "cell_type": "code",
   "execution_count": 83,
   "metadata": {},
   "outputs": [],
   "source": [
    "#Bahrain\n",
    "\n",
    "df_bn\n",
    "bncon = df_bn['Confirmed'].sum()\n",
    "bndt = df_bn['Deaths'].sum()\n",
    "bn_mort_rate = bndt/(bncon+bndt)*100"
   ]
  },
  {
   "cell_type": "code",
   "execution_count": 84,
   "metadata": {},
   "outputs": [],
   "source": [
    "#South Africa\n",
    "\n",
    "df_sa\n",
    "sacon = df_sa['Confirmed'].sum()\n",
    "sadt = df_sa['Deaths'].sum()\n",
    "sa_mort_rate = sadt/(sacon+sadt)*100"
   ]
  },
  {
   "cell_type": "code",
   "execution_count": 85,
   "metadata": {},
   "outputs": [],
   "source": [
    "#India\n",
    "\n",
    "df_in\n",
    "incon = df_in['Confirmed'].sum()\n",
    "indt = df_in['Deaths'].sum()\n",
    "in_mort_rate = indt/(incon+indt)*100"
   ]
  },
  {
   "cell_type": "code",
   "execution_count": 86,
   "metadata": {},
   "outputs": [],
   "source": [
    "#Pakistan\n",
    "\n",
    "df_pk\n",
    "pkcon = df_pk['Confirmed'].sum()\n",
    "pkdt = df_pk['Deaths'].sum()\n",
    "pk_mort_rate = pkdt/(pkcon+pkdt)*100"
   ]
  },
  {
   "cell_type": "code",
   "execution_count": 87,
   "metadata": {},
   "outputs": [],
   "source": [
    "#Russia\n",
    "\n",
    "df_ru\n",
    "rucon = df_ru['Confirmed'].sum()\n",
    "rudt = df_ru['Deaths'].sum()\n",
    "ru_mort_rate = rudt/(rucon+rudt)*100"
   ]
  },
  {
   "cell_type": "code",
   "execution_count": 88,
   "metadata": {},
   "outputs": [],
   "source": [
    "# Norway\n",
    "\n",
    "df_no\n",
    "nocon = df_no['Confirmed'].sum()\n",
    "nodt = df_no['Deaths'].sum()\n",
    "no_mort_rate = nodt/(nocon+nodt)*100"
   ]
  },
  {
   "cell_type": "code",
   "execution_count": 89,
   "metadata": {},
   "outputs": [],
   "source": [
    "# KSA\n",
    "\n",
    "df_ksa\n",
    "ksacon = df_ksa['Confirmed'].sum()\n",
    "ksadt = df_ksa['Deaths'].sum()\n",
    "ksa_mort_rate = ksadt/(ksacon+ksadt)*100"
   ]
  },
  {
   "cell_type": "code",
   "execution_count": 90,
   "metadata": {},
   "outputs": [],
   "source": [
    "# Australia\n",
    "\n",
    "df_au\n",
    "aucon = df_au['Confirmed'].sum()\n",
    "audt = df_au['Deaths'].sum()\n",
    "au_mort_rate = audt/(aucon+audt)*100"
   ]
  },
  {
   "cell_type": "code",
   "execution_count": 91,
   "metadata": {},
   "outputs": [],
   "source": [
    "# Indonesia\n",
    "\n",
    "df_inesia\n",
    "inesiacon = df_inesia['Confirmed'].sum()\n",
    "inesiadt = df_inesia['Deaths'].sum()\n",
    "inesia_mort_rate = inesiadt/(inesiacon+inesiadt)*100"
   ]
  },
  {
   "cell_type": "code",
   "execution_count": 92,
   "metadata": {},
   "outputs": [],
   "source": [
    "# Brazil\n",
    "\n",
    "df_br\n",
    "brcon = df_br['Confirmed'].sum()\n",
    "brdt = df_br['Deaths'].sum()\n",
    "br_mort_rate = brdt/(brcon+brdt)*100"
   ]
  },
  {
   "cell_type": "code",
   "execution_count": 93,
   "metadata": {},
   "outputs": [],
   "source": [
    "# Sweden\n",
    "df_swd\n",
    "swdcon = df_swd['Confirmed'].sum()\n",
    "swddt = df_swd['Deaths'].sum()\n",
    "swd_mort_rate = swddt/(swdcon+swddt)*100"
   ]
  },
  {
   "cell_type": "code",
   "execution_count": 94,
   "metadata": {},
   "outputs": [
    {
     "data": {
      "text/html": [
       "<style  type=\"text/css\" >\n",
       "    #T_fb9aebe6_7db4_11ea_96b5_a4bf0127270drow0_col0 {\n",
       "            background-color:  #023858;\n",
       "            color:  #f1f1f1;\n",
       "        }    #T_fb9aebe6_7db4_11ea_96b5_a4bf0127270drow1_col0 {\n",
       "            background-color:  #f5eff6;\n",
       "            color:  #000000;\n",
       "        }    #T_fb9aebe6_7db4_11ea_96b5_a4bf0127270drow2_col0 {\n",
       "            background-color:  #fff7fb;\n",
       "            color:  #000000;\n",
       "        }    #T_fb9aebe6_7db4_11ea_96b5_a4bf0127270drow3_col0 {\n",
       "            background-color:  #f8f1f8;\n",
       "            color:  #000000;\n",
       "        }    #T_fb9aebe6_7db4_11ea_96b5_a4bf0127270drow4_col0 {\n",
       "            background-color:  #fff7fb;\n",
       "            color:  #000000;\n",
       "        }    #T_fb9aebe6_7db4_11ea_96b5_a4bf0127270drow5_col0 {\n",
       "            background-color:  #fff7fb;\n",
       "            color:  #000000;\n",
       "        }    #T_fb9aebe6_7db4_11ea_96b5_a4bf0127270drow6_col0 {\n",
       "            background-color:  #f2ecf5;\n",
       "            color:  #000000;\n",
       "        }    #T_fb9aebe6_7db4_11ea_96b5_a4bf0127270drow7_col0 {\n",
       "            background-color:  #fef6fa;\n",
       "            color:  #000000;\n",
       "        }    #T_fb9aebe6_7db4_11ea_96b5_a4bf0127270drow8_col0 {\n",
       "            background-color:  #fff7fb;\n",
       "            color:  #000000;\n",
       "        }    #T_fb9aebe6_7db4_11ea_96b5_a4bf0127270drow9_col0 {\n",
       "            background-color:  #f1ebf5;\n",
       "            color:  #000000;\n",
       "        }    #T_fb9aebe6_7db4_11ea_96b5_a4bf0127270drow10_col0 {\n",
       "            background-color:  #fef6fa;\n",
       "            color:  #000000;\n",
       "        }    #T_fb9aebe6_7db4_11ea_96b5_a4bf0127270drow11_col0 {\n",
       "            background-color:  #fff7fb;\n",
       "            color:  #000000;\n",
       "        }    #T_fb9aebe6_7db4_11ea_96b5_a4bf0127270drow12_col0 {\n",
       "            background-color:  #f7f0f7;\n",
       "            color:  #000000;\n",
       "        }    #T_fb9aebe6_7db4_11ea_96b5_a4bf0127270drow13_col0 {\n",
       "            background-color:  #fef6fa;\n",
       "            color:  #000000;\n",
       "        }    #T_fb9aebe6_7db4_11ea_96b5_a4bf0127270drow14_col0 {\n",
       "            background-color:  #fff7fb;\n",
       "            color:  #000000;\n",
       "        }    #T_fb9aebe6_7db4_11ea_96b5_a4bf0127270drow15_col0 {\n",
       "            background-color:  #f9f2f8;\n",
       "            color:  #000000;\n",
       "        }    #T_fb9aebe6_7db4_11ea_96b5_a4bf0127270drow16_col0 {\n",
       "            background-color:  #fff7fb;\n",
       "            color:  #000000;\n",
       "        }    #T_fb9aebe6_7db4_11ea_96b5_a4bf0127270drow17_col0 {\n",
       "            background-color:  #fff7fb;\n",
       "            color:  #000000;\n",
       "        }    #T_fb9aebe6_7db4_11ea_96b5_a4bf0127270drow18_col0 {\n",
       "            background-color:  #f5eef6;\n",
       "            color:  #000000;\n",
       "        }    #T_fb9aebe6_7db4_11ea_96b5_a4bf0127270drow19_col0 {\n",
       "            background-color:  #fff7fb;\n",
       "            color:  #000000;\n",
       "        }    #T_fb9aebe6_7db4_11ea_96b5_a4bf0127270drow20_col0 {\n",
       "            background-color:  #fff7fb;\n",
       "            color:  #000000;\n",
       "        }    #T_fb9aebe6_7db4_11ea_96b5_a4bf0127270drow21_col0 {\n",
       "            background-color:  #bdc8e1;\n",
       "            color:  #000000;\n",
       "        }    #T_fb9aebe6_7db4_11ea_96b5_a4bf0127270drow22_col0 {\n",
       "            background-color:  #fdf5fa;\n",
       "            color:  #000000;\n",
       "        }    #T_fb9aebe6_7db4_11ea_96b5_a4bf0127270drow23_col0 {\n",
       "            background-color:  #fff7fb;\n",
       "            color:  #000000;\n",
       "        }    #T_fb9aebe6_7db4_11ea_96b5_a4bf0127270drow24_col0 {\n",
       "            background-color:  #f8f1f8;\n",
       "            color:  #000000;\n",
       "        }    #T_fb9aebe6_7db4_11ea_96b5_a4bf0127270drow25_col0 {\n",
       "            background-color:  #fef6fb;\n",
       "            color:  #000000;\n",
       "        }    #T_fb9aebe6_7db4_11ea_96b5_a4bf0127270drow26_col0 {\n",
       "            background-color:  #fff7fb;\n",
       "            color:  #000000;\n",
       "        }    #T_fb9aebe6_7db4_11ea_96b5_a4bf0127270drow27_col0 {\n",
       "            background-color:  #fdf5fa;\n",
       "            color:  #000000;\n",
       "        }    #T_fb9aebe6_7db4_11ea_96b5_a4bf0127270drow28_col0 {\n",
       "            background-color:  #fff7fb;\n",
       "            color:  #000000;\n",
       "        }    #T_fb9aebe6_7db4_11ea_96b5_a4bf0127270drow29_col0 {\n",
       "            background-color:  #fff7fb;\n",
       "            color:  #000000;\n",
       "        }    #T_fb9aebe6_7db4_11ea_96b5_a4bf0127270drow30_col0 {\n",
       "            background-color:  #fdf5fa;\n",
       "            color:  #000000;\n",
       "        }    #T_fb9aebe6_7db4_11ea_96b5_a4bf0127270drow31_col0 {\n",
       "            background-color:  #fff7fb;\n",
       "            color:  #000000;\n",
       "        }    #T_fb9aebe6_7db4_11ea_96b5_a4bf0127270drow32_col0 {\n",
       "            background-color:  #fff7fb;\n",
       "            color:  #000000;\n",
       "        }    #T_fb9aebe6_7db4_11ea_96b5_a4bf0127270drow33_col0 {\n",
       "            background-color:  #fff7fb;\n",
       "            color:  #000000;\n",
       "        }    #T_fb9aebe6_7db4_11ea_96b5_a4bf0127270drow34_col0 {\n",
       "            background-color:  #fff7fb;\n",
       "            color:  #000000;\n",
       "        }    #T_fb9aebe6_7db4_11ea_96b5_a4bf0127270drow35_col0 {\n",
       "            background-color:  #fff7fb;\n",
       "            color:  #000000;\n",
       "        }    #T_fb9aebe6_7db4_11ea_96b5_a4bf0127270drow36_col0 {\n",
       "            background-color:  #fef6fb;\n",
       "            color:  #000000;\n",
       "        }    #T_fb9aebe6_7db4_11ea_96b5_a4bf0127270drow37_col0 {\n",
       "            background-color:  #fff7fb;\n",
       "            color:  #000000;\n",
       "        }    #T_fb9aebe6_7db4_11ea_96b5_a4bf0127270drow38_col0 {\n",
       "            background-color:  #fff7fb;\n",
       "            color:  #000000;\n",
       "        }    #T_fb9aebe6_7db4_11ea_96b5_a4bf0127270drow39_col0 {\n",
       "            background-color:  #fef6fb;\n",
       "            color:  #000000;\n",
       "        }    #T_fb9aebe6_7db4_11ea_96b5_a4bf0127270drow40_col0 {\n",
       "            background-color:  #fff7fb;\n",
       "            color:  #000000;\n",
       "        }    #T_fb9aebe6_7db4_11ea_96b5_a4bf0127270drow41_col0 {\n",
       "            background-color:  #fff7fb;\n",
       "            color:  #000000;\n",
       "        }    #T_fb9aebe6_7db4_11ea_96b5_a4bf0127270drow42_col0 {\n",
       "            background-color:  #fef6fb;\n",
       "            color:  #000000;\n",
       "        }    #T_fb9aebe6_7db4_11ea_96b5_a4bf0127270drow43_col0 {\n",
       "            background-color:  #fff7fb;\n",
       "            color:  #000000;\n",
       "        }    #T_fb9aebe6_7db4_11ea_96b5_a4bf0127270drow44_col0 {\n",
       "            background-color:  #fff7fb;\n",
       "            color:  #000000;\n",
       "        }    #T_fb9aebe6_7db4_11ea_96b5_a4bf0127270drow45_col0 {\n",
       "            background-color:  #fef6fa;\n",
       "            color:  #000000;\n",
       "        }    #T_fb9aebe6_7db4_11ea_96b5_a4bf0127270drow46_col0 {\n",
       "            background-color:  #fff7fb;\n",
       "            color:  #000000;\n",
       "        }    #T_fb9aebe6_7db4_11ea_96b5_a4bf0127270drow47_col0 {\n",
       "            background-color:  #fff7fb;\n",
       "            color:  #000000;\n",
       "        }    #T_fb9aebe6_7db4_11ea_96b5_a4bf0127270drow48_col0 {\n",
       "            background-color:  #fef6fb;\n",
       "            color:  #000000;\n",
       "        }    #T_fb9aebe6_7db4_11ea_96b5_a4bf0127270drow49_col0 {\n",
       "            background-color:  #fff7fb;\n",
       "            color:  #000000;\n",
       "        }    #T_fb9aebe6_7db4_11ea_96b5_a4bf0127270drow50_col0 {\n",
       "            background-color:  #fff7fb;\n",
       "            color:  #000000;\n",
       "        }    #T_fb9aebe6_7db4_11ea_96b5_a4bf0127270drow51_col0 {\n",
       "            background-color:  #fff7fb;\n",
       "            color:  #000000;\n",
       "        }    #T_fb9aebe6_7db4_11ea_96b5_a4bf0127270drow52_col0 {\n",
       "            background-color:  #fff7fb;\n",
       "            color:  #000000;\n",
       "        }    #T_fb9aebe6_7db4_11ea_96b5_a4bf0127270drow53_col0 {\n",
       "            background-color:  #fff7fb;\n",
       "            color:  #000000;\n",
       "        }    #T_fb9aebe6_7db4_11ea_96b5_a4bf0127270drow54_col0 {\n",
       "            background-color:  #faf3f9;\n",
       "            color:  #000000;\n",
       "        }    #T_fb9aebe6_7db4_11ea_96b5_a4bf0127270drow55_col0 {\n",
       "            background-color:  #fff7fb;\n",
       "            color:  #000000;\n",
       "        }    #T_fb9aebe6_7db4_11ea_96b5_a4bf0127270drow56_col0 {\n",
       "            background-color:  #fff7fb;\n",
       "            color:  #000000;\n",
       "        }    #T_fb9aebe6_7db4_11ea_96b5_a4bf0127270drow57_col0 {\n",
       "            background-color:  #fff7fb;\n",
       "            color:  #000000;\n",
       "        }    #T_fb9aebe6_7db4_11ea_96b5_a4bf0127270drow58_col0 {\n",
       "            background-color:  #fff7fb;\n",
       "            color:  #000000;\n",
       "        }    #T_fb9aebe6_7db4_11ea_96b5_a4bf0127270drow59_col0 {\n",
       "            background-color:  #fff7fb;\n",
       "            color:  #000000;\n",
       "        }    #T_fb9aebe6_7db4_11ea_96b5_a4bf0127270drow60_col0 {\n",
       "            background-color:  #fff7fb;\n",
       "            color:  #000000;\n",
       "        }    #T_fb9aebe6_7db4_11ea_96b5_a4bf0127270drow61_col0 {\n",
       "            background-color:  #fff7fb;\n",
       "            color:  #000000;\n",
       "        }    #T_fb9aebe6_7db4_11ea_96b5_a4bf0127270drow62_col0 {\n",
       "            background-color:  #fff7fb;\n",
       "            color:  #000000;\n",
       "        }    #T_fb9aebe6_7db4_11ea_96b5_a4bf0127270drow63_col0 {\n",
       "            background-color:  #fff7fb;\n",
       "            color:  #000000;\n",
       "        }    #T_fb9aebe6_7db4_11ea_96b5_a4bf0127270drow64_col0 {\n",
       "            background-color:  #fff7fb;\n",
       "            color:  #000000;\n",
       "        }    #T_fb9aebe6_7db4_11ea_96b5_a4bf0127270drow65_col0 {\n",
       "            background-color:  #fff7fb;\n",
       "            color:  #000000;\n",
       "        }    #T_fb9aebe6_7db4_11ea_96b5_a4bf0127270drow66_col0 {\n",
       "            background-color:  #fff7fb;\n",
       "            color:  #000000;\n",
       "        }    #T_fb9aebe6_7db4_11ea_96b5_a4bf0127270drow67_col0 {\n",
       "            background-color:  #fff7fb;\n",
       "            color:  #000000;\n",
       "        }    #T_fb9aebe6_7db4_11ea_96b5_a4bf0127270drow68_col0 {\n",
       "            background-color:  #fff7fb;\n",
       "            color:  #000000;\n",
       "        }    #T_fb9aebe6_7db4_11ea_96b5_a4bf0127270drow69_col0 {\n",
       "            background-color:  #fef6fb;\n",
       "            color:  #000000;\n",
       "        }    #T_fb9aebe6_7db4_11ea_96b5_a4bf0127270drow70_col0 {\n",
       "            background-color:  #fff7fb;\n",
       "            color:  #000000;\n",
       "        }    #T_fb9aebe6_7db4_11ea_96b5_a4bf0127270drow71_col0 {\n",
       "            background-color:  #fff7fb;\n",
       "            color:  #000000;\n",
       "        }    #T_fb9aebe6_7db4_11ea_96b5_a4bf0127270drow72_col0 {\n",
       "            background-color:  #fff7fb;\n",
       "            color:  #000000;\n",
       "        }    #T_fb9aebe6_7db4_11ea_96b5_a4bf0127270drow73_col0 {\n",
       "            background-color:  #fff7fb;\n",
       "            color:  #000000;\n",
       "        }    #T_fb9aebe6_7db4_11ea_96b5_a4bf0127270drow74_col0 {\n",
       "            background-color:  #fff7fb;\n",
       "            color:  #000000;\n",
       "        }    #T_fb9aebe6_7db4_11ea_96b5_a4bf0127270drow75_col0 {\n",
       "            background-color:  #fff7fb;\n",
       "            color:  #000000;\n",
       "        }    #T_fb9aebe6_7db4_11ea_96b5_a4bf0127270drow76_col0 {\n",
       "            background-color:  #fff7fb;\n",
       "            color:  #000000;\n",
       "        }    #T_fb9aebe6_7db4_11ea_96b5_a4bf0127270drow77_col0 {\n",
       "            background-color:  #fff7fb;\n",
       "            color:  #000000;\n",
       "        }    #T_fb9aebe6_7db4_11ea_96b5_a4bf0127270drow78_col0 {\n",
       "            background-color:  #fff7fb;\n",
       "            color:  #000000;\n",
       "        }    #T_fb9aebe6_7db4_11ea_96b5_a4bf0127270drow79_col0 {\n",
       "            background-color:  #fff7fb;\n",
       "            color:  #000000;\n",
       "        }    #T_fb9aebe6_7db4_11ea_96b5_a4bf0127270drow80_col0 {\n",
       "            background-color:  #fff7fb;\n",
       "            color:  #000000;\n",
       "        }    #T_fb9aebe6_7db4_11ea_96b5_a4bf0127270drow81_col0 {\n",
       "            background-color:  #fdf5fa;\n",
       "            color:  #000000;\n",
       "        }    #T_fb9aebe6_7db4_11ea_96b5_a4bf0127270drow82_col0 {\n",
       "            background-color:  #fff7fb;\n",
       "            color:  #000000;\n",
       "        }    #T_fb9aebe6_7db4_11ea_96b5_a4bf0127270drow83_col0 {\n",
       "            background-color:  #fff7fb;\n",
       "            color:  #000000;\n",
       "        }</style><table id=\"T_fb9aebe6_7db4_11ea_96b5_a4bf0127270d\" ><thead>    <tr>        <th class=\"blank level0\" ></th>        <th class=\"col_heading level0 col0\" >Total Count or Rate</th>    </tr></thead><tbody>\n",
       "                <tr>\n",
       "                        <th id=\"T_fb9aebe6_7db4_11ea_96b5_a4bf0127270dlevel0_row0\" class=\"row_heading level0 row0\" >Confirmed Cases Worldwide</th>\n",
       "                        <td id=\"T_fb9aebe6_7db4_11ea_96b5_a4bf0127270drow0_col0\" class=\"data row0 col0\" >1807308.000000</td>\n",
       "            </tr>\n",
       "            <tr>\n",
       "                        <th id=\"T_fb9aebe6_7db4_11ea_96b5_a4bf0127270dlevel0_row1\" class=\"row_heading level0 row1\" >Death Cases Worldwide</th>\n",
       "                        <td id=\"T_fb9aebe6_7db4_11ea_96b5_a4bf0127270drow1_col0\" class=\"data row1 col0\" >113513.000000</td>\n",
       "            </tr>\n",
       "            <tr>\n",
       "                        <th id=\"T_fb9aebe6_7db4_11ea_96b5_a4bf0127270dlevel0_row2\" class=\"row_heading level0 row2\" >World Fatality_rate %</th>\n",
       "                        <td id=\"T_fb9aebe6_7db4_11ea_96b5_a4bf0127270drow2_col0\" class=\"data row2 col0\" >5.909608</td>\n",
       "            </tr>\n",
       "            <tr>\n",
       "                        <th id=\"T_fb9aebe6_7db4_11ea_96b5_a4bf0127270dlevel0_row3\" class=\"row_heading level0 row3\" >China Confirmed Cases</th>\n",
       "                        <td id=\"T_fb9aebe6_7db4_11ea_96b5_a4bf0127270drow3_col0\" class=\"data row3 col0\" >83150.000000</td>\n",
       "            </tr>\n",
       "            <tr>\n",
       "                        <th id=\"T_fb9aebe6_7db4_11ea_96b5_a4bf0127270dlevel0_row4\" class=\"row_heading level0 row4\" >China Death Cases</th>\n",
       "                        <td id=\"T_fb9aebe6_7db4_11ea_96b5_a4bf0127270drow4_col0\" class=\"data row4 col0\" >3343.000000</td>\n",
       "            </tr>\n",
       "            <tr>\n",
       "                        <th id=\"T_fb9aebe6_7db4_11ea_96b5_a4bf0127270dlevel0_row5\" class=\"row_heading level0 row5\" >China Fatality Rate %</th>\n",
       "                        <td id=\"T_fb9aebe6_7db4_11ea_96b5_a4bf0127270drow5_col0\" class=\"data row5 col0\" >3.865053</td>\n",
       "            </tr>\n",
       "            <tr>\n",
       "                        <th id=\"T_fb9aebe6_7db4_11ea_96b5_a4bf0127270dlevel0_row6\" class=\"row_heading level0 row6\" >Italy Confirmed Cases</th>\n",
       "                        <td id=\"T_fb9aebe6_7db4_11ea_96b5_a4bf0127270drow6_col0\" class=\"data row6 col0\" >156363.000000</td>\n",
       "            </tr>\n",
       "            <tr>\n",
       "                        <th id=\"T_fb9aebe6_7db4_11ea_96b5_a4bf0127270dlevel0_row7\" class=\"row_heading level0 row7\" >Italy Death Cases</th>\n",
       "                        <td id=\"T_fb9aebe6_7db4_11ea_96b5_a4bf0127270drow7_col0\" class=\"data row7 col0\" >19901.000000</td>\n",
       "            </tr>\n",
       "            <tr>\n",
       "                        <th id=\"T_fb9aebe6_7db4_11ea_96b5_a4bf0127270dlevel0_row8\" class=\"row_heading level0 row8\" >Italy Fatality Rate %</th>\n",
       "                        <td id=\"T_fb9aebe6_7db4_11ea_96b5_a4bf0127270drow8_col0\" class=\"data row8 col0\" >11.290451</td>\n",
       "            </tr>\n",
       "            <tr>\n",
       "                        <th id=\"T_fb9aebe6_7db4_11ea_96b5_a4bf0127270dlevel0_row9\" class=\"row_heading level0 row9\" >Spain Confirmed Cases</th>\n",
       "                        <td id=\"T_fb9aebe6_7db4_11ea_96b5_a4bf0127270drow9_col0\" class=\"data row9 col0\" >166019.000000</td>\n",
       "            </tr>\n",
       "            <tr>\n",
       "                        <th id=\"T_fb9aebe6_7db4_11ea_96b5_a4bf0127270dlevel0_row10\" class=\"row_heading level0 row10\" >Spain Death Cases</th>\n",
       "                        <td id=\"T_fb9aebe6_7db4_11ea_96b5_a4bf0127270drow10_col0\" class=\"data row10 col0\" >16972.000000</td>\n",
       "            </tr>\n",
       "            <tr>\n",
       "                        <th id=\"T_fb9aebe6_7db4_11ea_96b5_a4bf0127270dlevel0_row11\" class=\"row_heading level0 row11\" >Spain Fatality Rate %</th>\n",
       "                        <td id=\"T_fb9aebe6_7db4_11ea_96b5_a4bf0127270drow11_col0\" class=\"data row11 col0\" >9.274773</td>\n",
       "            </tr>\n",
       "            <tr>\n",
       "                        <th id=\"T_fb9aebe6_7db4_11ea_96b5_a4bf0127270dlevel0_row12\" class=\"row_heading level0 row12\" >France Confirmed Cases</th>\n",
       "                        <td id=\"T_fb9aebe6_7db4_11ea_96b5_a4bf0127270drow12_col0\" class=\"data row12 col0\" >95403.000000</td>\n",
       "            </tr>\n",
       "            <tr>\n",
       "                        <th id=\"T_fb9aebe6_7db4_11ea_96b5_a4bf0127270dlevel0_row13\" class=\"row_heading level0 row13\" >France Death Cases</th>\n",
       "                        <td id=\"T_fb9aebe6_7db4_11ea_96b5_a4bf0127270drow13_col0\" class=\"data row13 col0\" >14393.000000</td>\n",
       "            </tr>\n",
       "            <tr>\n",
       "                        <th id=\"T_fb9aebe6_7db4_11ea_96b5_a4bf0127270dlevel0_row14\" class=\"row_heading level0 row14\" >France Fatality Rate %</th>\n",
       "                        <td id=\"T_fb9aebe6_7db4_11ea_96b5_a4bf0127270drow14_col0\" class=\"data row14 col0\" >13.108856</td>\n",
       "            </tr>\n",
       "            <tr>\n",
       "                        <th id=\"T_fb9aebe6_7db4_11ea_96b5_a4bf0127270dlevel0_row15\" class=\"row_heading level0 row15\" >Iran Confirmed Cases</th>\n",
       "                        <td id=\"T_fb9aebe6_7db4_11ea_96b5_a4bf0127270drow15_col0\" class=\"data row15 col0\" >71686.000000</td>\n",
       "            </tr>\n",
       "            <tr>\n",
       "                        <th id=\"T_fb9aebe6_7db4_11ea_96b5_a4bf0127270dlevel0_row16\" class=\"row_heading level0 row16\" >Iran Death Cases</th>\n",
       "                        <td id=\"T_fb9aebe6_7db4_11ea_96b5_a4bf0127270drow16_col0\" class=\"data row16 col0\" >4474.000000</td>\n",
       "            </tr>\n",
       "            <tr>\n",
       "                        <th id=\"T_fb9aebe6_7db4_11ea_96b5_a4bf0127270dlevel0_row17\" class=\"row_heading level0 row17\" >Iran Fatality Rate %</th>\n",
       "                        <td id=\"T_fb9aebe6_7db4_11ea_96b5_a4bf0127270drow17_col0\" class=\"data row17 col0\" >5.874475</td>\n",
       "            </tr>\n",
       "            <tr>\n",
       "                        <th id=\"T_fb9aebe6_7db4_11ea_96b5_a4bf0127270dlevel0_row18\" class=\"row_heading level0 row18\" >Germany Confirmed Cases</th>\n",
       "                        <td id=\"T_fb9aebe6_7db4_11ea_96b5_a4bf0127270drow18_col0\" class=\"data row18 col0\" >123016.000000</td>\n",
       "            </tr>\n",
       "            <tr>\n",
       "                        <th id=\"T_fb9aebe6_7db4_11ea_96b5_a4bf0127270dlevel0_row19\" class=\"row_heading level0 row19\" >Germany Death Cases</th>\n",
       "                        <td id=\"T_fb9aebe6_7db4_11ea_96b5_a4bf0127270drow19_col0\" class=\"data row19 col0\" >2799.000000</td>\n",
       "            </tr>\n",
       "            <tr>\n",
       "                        <th id=\"T_fb9aebe6_7db4_11ea_96b5_a4bf0127270dlevel0_row20\" class=\"row_heading level0 row20\" >Germany Fatality Rate %</th>\n",
       "                        <td id=\"T_fb9aebe6_7db4_11ea_96b5_a4bf0127270drow20_col0\" class=\"data row20 col0\" >2.224695</td>\n",
       "            </tr>\n",
       "            <tr>\n",
       "                        <th id=\"T_fb9aebe6_7db4_11ea_96b5_a4bf0127270dlevel0_row21\" class=\"row_heading level0 row21\" >US Confirmed Cases</th>\n",
       "                        <td id=\"T_fb9aebe6_7db4_11ea_96b5_a4bf0127270drow21_col0\" class=\"data row21 col0\" >557571.000000</td>\n",
       "            </tr>\n",
       "            <tr>\n",
       "                        <th id=\"T_fb9aebe6_7db4_11ea_96b5_a4bf0127270dlevel0_row22\" class=\"row_heading level0 row22\" >US Death Cases</th>\n",
       "                        <td id=\"T_fb9aebe6_7db4_11ea_96b5_a4bf0127270drow22_col0\" class=\"data row22 col0\" >22108.000000</td>\n",
       "            </tr>\n",
       "            <tr>\n",
       "                        <th id=\"T_fb9aebe6_7db4_11ea_96b5_a4bf0127270dlevel0_row23\" class=\"row_heading level0 row23\" >US Fatality Rate %</th>\n",
       "                        <td id=\"T_fb9aebe6_7db4_11ea_96b5_a4bf0127270drow23_col0\" class=\"data row23 col0\" >3.813835</td>\n",
       "            </tr>\n",
       "            <tr>\n",
       "                        <th id=\"T_fb9aebe6_7db4_11ea_96b5_a4bf0127270dlevel0_row24\" class=\"row_heading level0 row24\" >UK Confirmed Cases</th>\n",
       "                        <td id=\"T_fb9aebe6_7db4_11ea_96b5_a4bf0127270drow24_col0\" class=\"data row24 col0\" >84279.000000</td>\n",
       "            </tr>\n",
       "            <tr>\n",
       "                        <th id=\"T_fb9aebe6_7db4_11ea_96b5_a4bf0127270dlevel0_row25\" class=\"row_heading level0 row25\" >UK Death Cases</th>\n",
       "                        <td id=\"T_fb9aebe6_7db4_11ea_96b5_a4bf0127270drow25_col0\" class=\"data row25 col0\" >10612.000000</td>\n",
       "            </tr>\n",
       "            <tr>\n",
       "                        <th id=\"T_fb9aebe6_7db4_11ea_96b5_a4bf0127270dlevel0_row26\" class=\"row_heading level0 row26\" >UK Fatality Rate %</th>\n",
       "                        <td id=\"T_fb9aebe6_7db4_11ea_96b5_a4bf0127270drow26_col0\" class=\"data row26 col0\" >11.183358</td>\n",
       "            </tr>\n",
       "            <tr>\n",
       "                        <th id=\"T_fb9aebe6_7db4_11ea_96b5_a4bf0127270dlevel0_row27\" class=\"row_heading level0 row27\" >Netherlands (Holland) Confirmed Cases</th>\n",
       "                        <td id=\"T_fb9aebe6_7db4_11ea_96b5_a4bf0127270drow27_col0\" class=\"data row27 col0\" >25587.000000</td>\n",
       "            </tr>\n",
       "            <tr>\n",
       "                        <th id=\"T_fb9aebe6_7db4_11ea_96b5_a4bf0127270dlevel0_row28\" class=\"row_heading level0 row28\" >Netherlands (Holland) Death Cases</th>\n",
       "                        <td id=\"T_fb9aebe6_7db4_11ea_96b5_a4bf0127270drow28_col0\" class=\"data row28 col0\" >2737.000000</td>\n",
       "            </tr>\n",
       "            <tr>\n",
       "                        <th id=\"T_fb9aebe6_7db4_11ea_96b5_a4bf0127270dlevel0_row29\" class=\"row_heading level0 row29\" >Netherlands (Holland) Fatality Rate %</th>\n",
       "                        <td id=\"T_fb9aebe6_7db4_11ea_96b5_a4bf0127270drow29_col0\" class=\"data row29 col0\" >9.663183</td>\n",
       "            </tr>\n",
       "            <tr>\n",
       "                        <th id=\"T_fb9aebe6_7db4_11ea_96b5_a4bf0127270dlevel0_row30\" class=\"row_heading level0 row30\" >Swiss Confirmed Cases</th>\n",
       "                        <td id=\"T_fb9aebe6_7db4_11ea_96b5_a4bf0127270drow30_col0\" class=\"data row30 col0\" >25220.000000</td>\n",
       "            </tr>\n",
       "            <tr>\n",
       "                        <th id=\"T_fb9aebe6_7db4_11ea_96b5_a4bf0127270dlevel0_row31\" class=\"row_heading level0 row31\" >Swiss Death Cases</th>\n",
       "                        <td id=\"T_fb9aebe6_7db4_11ea_96b5_a4bf0127270drow31_col0\" class=\"data row31 col0\" >858.000000</td>\n",
       "            </tr>\n",
       "            <tr>\n",
       "                        <th id=\"T_fb9aebe6_7db4_11ea_96b5_a4bf0127270dlevel0_row32\" class=\"row_heading level0 row32\" >Swiss Fatality Rate %</th>\n",
       "                        <td id=\"T_fb9aebe6_7db4_11ea_96b5_a4bf0127270drow32_col0\" class=\"data row32 col0\" >3.290130</td>\n",
       "            </tr>\n",
       "            <tr>\n",
       "                        <th id=\"T_fb9aebe6_7db4_11ea_96b5_a4bf0127270dlevel0_row33\" class=\"row_heading level0 row33\" >Norway Confirmed Cases</th>\n",
       "                        <td id=\"T_fb9aebe6_7db4_11ea_96b5_a4bf0127270drow33_col0\" class=\"data row33 col0\" >6415.000000</td>\n",
       "            </tr>\n",
       "            <tr>\n",
       "                        <th id=\"T_fb9aebe6_7db4_11ea_96b5_a4bf0127270dlevel0_row34\" class=\"row_heading level0 row34\" >Norway Death Cases</th>\n",
       "                        <td id=\"T_fb9aebe6_7db4_11ea_96b5_a4bf0127270drow34_col0\" class=\"data row34 col0\" >103.000000</td>\n",
       "            </tr>\n",
       "            <tr>\n",
       "                        <th id=\"T_fb9aebe6_7db4_11ea_96b5_a4bf0127270dlevel0_row35\" class=\"row_heading level0 row35\" >Norway Fatality Rate %</th>\n",
       "                        <td id=\"T_fb9aebe6_7db4_11ea_96b5_a4bf0127270drow35_col0\" class=\"data row35 col0\" >1.580239</td>\n",
       "            </tr>\n",
       "            <tr>\n",
       "                        <th id=\"T_fb9aebe6_7db4_11ea_96b5_a4bf0127270dlevel0_row36\" class=\"row_heading level0 row36\" >Sweden Confirmed Cases</th>\n",
       "                        <td id=\"T_fb9aebe6_7db4_11ea_96b5_a4bf0127270drow36_col0\" class=\"data row36 col0\" >10483.000000</td>\n",
       "            </tr>\n",
       "            <tr>\n",
       "                        <th id=\"T_fb9aebe6_7db4_11ea_96b5_a4bf0127270dlevel0_row37\" class=\"row_heading level0 row37\" >Sweden Death Cases</th>\n",
       "                        <td id=\"T_fb9aebe6_7db4_11ea_96b5_a4bf0127270drow37_col0\" class=\"data row37 col0\" >899.000000</td>\n",
       "            </tr>\n",
       "            <tr>\n",
       "                        <th id=\"T_fb9aebe6_7db4_11ea_96b5_a4bf0127270dlevel0_row38\" class=\"row_heading level0 row38\" >Sweden Fatality Rate %</th>\n",
       "                        <td id=\"T_fb9aebe6_7db4_11ea_96b5_a4bf0127270drow38_col0\" class=\"data row38 col0\" >7.898436</td>\n",
       "            </tr>\n",
       "            <tr>\n",
       "                        <th id=\"T_fb9aebe6_7db4_11ea_96b5_a4bf0127270dlevel0_row39\" class=\"row_heading level0 row39\" >South Korea Confirmed Cases</th>\n",
       "                        <td id=\"T_fb9aebe6_7db4_11ea_96b5_a4bf0127270drow39_col0\" class=\"data row39 col0\" >10537.000000</td>\n",
       "            </tr>\n",
       "            <tr>\n",
       "                        <th id=\"T_fb9aebe6_7db4_11ea_96b5_a4bf0127270dlevel0_row40\" class=\"row_heading level0 row40\" >South Korea Death Cases</th>\n",
       "                        <td id=\"T_fb9aebe6_7db4_11ea_96b5_a4bf0127270drow40_col0\" class=\"data row40 col0\" >217.000000</td>\n",
       "            </tr>\n",
       "            <tr>\n",
       "                        <th id=\"T_fb9aebe6_7db4_11ea_96b5_a4bf0127270dlevel0_row41\" class=\"row_heading level0 row41\" >South Korea Fatality Rate %</th>\n",
       "                        <td id=\"T_fb9aebe6_7db4_11ea_96b5_a4bf0127270drow41_col0\" class=\"data row41 col0\" >2.017854</td>\n",
       "            </tr>\n",
       "            <tr>\n",
       "                        <th id=\"T_fb9aebe6_7db4_11ea_96b5_a4bf0127270dlevel0_row42\" class=\"row_heading level0 row42\" >Japan Confirmed Cases</th>\n",
       "                        <td id=\"T_fb9aebe6_7db4_11ea_96b5_a4bf0127270drow42_col0\" class=\"data row42 col0\" >7254.000000</td>\n",
       "            </tr>\n",
       "            <tr>\n",
       "                        <th id=\"T_fb9aebe6_7db4_11ea_96b5_a4bf0127270dlevel0_row43\" class=\"row_heading level0 row43\" >Japan Death Cases</th>\n",
       "                        <td id=\"T_fb9aebe6_7db4_11ea_96b5_a4bf0127270drow43_col0\" class=\"data row43 col0\" >102.000000</td>\n",
       "            </tr>\n",
       "            <tr>\n",
       "                        <th id=\"T_fb9aebe6_7db4_11ea_96b5_a4bf0127270dlevel0_row44\" class=\"row_heading level0 row44\" >Japan Fatality Rate %</th>\n",
       "                        <td id=\"T_fb9aebe6_7db4_11ea_96b5_a4bf0127270drow44_col0\" class=\"data row44 col0\" >1.386623</td>\n",
       "            </tr>\n",
       "            <tr>\n",
       "                        <th id=\"T_fb9aebe6_7db4_11ea_96b5_a4bf0127270dlevel0_row45\" class=\"row_heading level0 row45\" >Russia Confirmed Cases</th>\n",
       "                        <td id=\"T_fb9aebe6_7db4_11ea_96b5_a4bf0127270drow45_col0\" class=\"data row45 col0\" >15770.000000</td>\n",
       "            </tr>\n",
       "            <tr>\n",
       "                        <th id=\"T_fb9aebe6_7db4_11ea_96b5_a4bf0127270dlevel0_row46\" class=\"row_heading level0 row46\" >Russia Death Cases</th>\n",
       "                        <td id=\"T_fb9aebe6_7db4_11ea_96b5_a4bf0127270drow46_col0\" class=\"data row46 col0\" >130.000000</td>\n",
       "            </tr>\n",
       "            <tr>\n",
       "                        <th id=\"T_fb9aebe6_7db4_11ea_96b5_a4bf0127270dlevel0_row47\" class=\"row_heading level0 row47\" >Russia Fatality Rate %</th>\n",
       "                        <td id=\"T_fb9aebe6_7db4_11ea_96b5_a4bf0127270drow47_col0\" class=\"data row47 col0\" >0.817610</td>\n",
       "            </tr>\n",
       "            <tr>\n",
       "                        <th id=\"T_fb9aebe6_7db4_11ea_96b5_a4bf0127270dlevel0_row48\" class=\"row_heading level0 row48\" >Israel Confirmed Cases</th>\n",
       "                        <td id=\"T_fb9aebe6_7db4_11ea_96b5_a4bf0127270drow48_col0\" class=\"data row48 col0\" >11145.000000</td>\n",
       "            </tr>\n",
       "            <tr>\n",
       "                        <th id=\"T_fb9aebe6_7db4_11ea_96b5_a4bf0127270dlevel0_row49\" class=\"row_heading level0 row49\" >Israel Death Cases</th>\n",
       "                        <td id=\"T_fb9aebe6_7db4_11ea_96b5_a4bf0127270drow49_col0\" class=\"data row49 col0\" >103.000000</td>\n",
       "            </tr>\n",
       "            <tr>\n",
       "                        <th id=\"T_fb9aebe6_7db4_11ea_96b5_a4bf0127270dlevel0_row50\" class=\"row_heading level0 row50\" >Israel Fatality Rate %</th>\n",
       "                        <td id=\"T_fb9aebe6_7db4_11ea_96b5_a4bf0127270drow50_col0\" class=\"data row50 col0\" >0.915718</td>\n",
       "            </tr>\n",
       "            <tr>\n",
       "                        <th id=\"T_fb9aebe6_7db4_11ea_96b5_a4bf0127270dlevel0_row51\" class=\"row_heading level0 row51\" >Iraq Confirmed Cases</th>\n",
       "                        <td id=\"T_fb9aebe6_7db4_11ea_96b5_a4bf0127270drow51_col0\" class=\"data row51 col0\" >1352.000000</td>\n",
       "            </tr>\n",
       "            <tr>\n",
       "                        <th id=\"T_fb9aebe6_7db4_11ea_96b5_a4bf0127270dlevel0_row52\" class=\"row_heading level0 row52\" >Iraq Death Cases</th>\n",
       "                        <td id=\"T_fb9aebe6_7db4_11ea_96b5_a4bf0127270drow52_col0\" class=\"data row52 col0\" >76.000000</td>\n",
       "            </tr>\n",
       "            <tr>\n",
       "                        <th id=\"T_fb9aebe6_7db4_11ea_96b5_a4bf0127270dlevel0_row53\" class=\"row_heading level0 row53\" >Iraq Fatality Rate %</th>\n",
       "                        <td id=\"T_fb9aebe6_7db4_11ea_96b5_a4bf0127270drow53_col0\" class=\"data row53 col0\" >5.322129</td>\n",
       "            </tr>\n",
       "            <tr>\n",
       "                        <th id=\"T_fb9aebe6_7db4_11ea_96b5_a4bf0127270dlevel0_row54\" class=\"row_heading level0 row54\" >Turkey Confirmed Cases</th>\n",
       "                        <td id=\"T_fb9aebe6_7db4_11ea_96b5_a4bf0127270drow54_col0\" class=\"data row54 col0\" >56956.000000</td>\n",
       "            </tr>\n",
       "            <tr>\n",
       "                        <th id=\"T_fb9aebe6_7db4_11ea_96b5_a4bf0127270dlevel0_row55\" class=\"row_heading level0 row55\" >Turkey Death Cases</th>\n",
       "                        <td id=\"T_fb9aebe6_7db4_11ea_96b5_a4bf0127270drow55_col0\" class=\"data row55 col0\" >1198.000000</td>\n",
       "            </tr>\n",
       "            <tr>\n",
       "                        <th id=\"T_fb9aebe6_7db4_11ea_96b5_a4bf0127270dlevel0_row56\" class=\"row_heading level0 row56\" >Turkey Fatality Rate %</th>\n",
       "                        <td id=\"T_fb9aebe6_7db4_11ea_96b5_a4bf0127270drow56_col0\" class=\"data row56 col0\" >2.060047</td>\n",
       "            </tr>\n",
       "            <tr>\n",
       "                        <th id=\"T_fb9aebe6_7db4_11ea_96b5_a4bf0127270dlevel0_row57\" class=\"row_heading level0 row57\" >Qatar Confirmed Cases</th>\n",
       "                        <td id=\"T_fb9aebe6_7db4_11ea_96b5_a4bf0127270drow57_col0\" class=\"data row57 col0\" >2979.000000</td>\n",
       "            </tr>\n",
       "            <tr>\n",
       "                        <th id=\"T_fb9aebe6_7db4_11ea_96b5_a4bf0127270dlevel0_row58\" class=\"row_heading level0 row58\" >Qatar Death Cases</th>\n",
       "                        <td id=\"T_fb9aebe6_7db4_11ea_96b5_a4bf0127270drow58_col0\" class=\"data row58 col0\" >7.000000</td>\n",
       "            </tr>\n",
       "            <tr>\n",
       "                        <th id=\"T_fb9aebe6_7db4_11ea_96b5_a4bf0127270dlevel0_row59\" class=\"row_heading level0 row59\" >Qatar Fatality Rate %</th>\n",
       "                        <td id=\"T_fb9aebe6_7db4_11ea_96b5_a4bf0127270drow59_col0\" class=\"data row59 col0\" >0.234427</td>\n",
       "            </tr>\n",
       "            <tr>\n",
       "                        <th id=\"T_fb9aebe6_7db4_11ea_96b5_a4bf0127270dlevel0_row60\" class=\"row_heading level0 row60\" >Saudi Arabia Confirmed Cases</th>\n",
       "                        <td id=\"T_fb9aebe6_7db4_11ea_96b5_a4bf0127270drow60_col0\" class=\"data row60 col0\" >4462.000000</td>\n",
       "            </tr>\n",
       "            <tr>\n",
       "                        <th id=\"T_fb9aebe6_7db4_11ea_96b5_a4bf0127270dlevel0_row61\" class=\"row_heading level0 row61\" >Saudi Arabia Death Cases</th>\n",
       "                        <td id=\"T_fb9aebe6_7db4_11ea_96b5_a4bf0127270drow61_col0\" class=\"data row61 col0\" >59.000000</td>\n",
       "            </tr>\n",
       "            <tr>\n",
       "                        <th id=\"T_fb9aebe6_7db4_11ea_96b5_a4bf0127270dlevel0_row62\" class=\"row_heading level0 row62\" >Saudi Arabia Fatality Rate %</th>\n",
       "                        <td id=\"T_fb9aebe6_7db4_11ea_96b5_a4bf0127270drow62_col0\" class=\"data row62 col0\" >1.305021</td>\n",
       "            </tr>\n",
       "            <tr>\n",
       "                        <th id=\"T_fb9aebe6_7db4_11ea_96b5_a4bf0127270dlevel0_row63\" class=\"row_heading level0 row63\" >Egypt Confirmed Cases</th>\n",
       "                        <td id=\"T_fb9aebe6_7db4_11ea_96b5_a4bf0127270drow63_col0\" class=\"data row63 col0\" >2065.000000</td>\n",
       "            </tr>\n",
       "            <tr>\n",
       "                        <th id=\"T_fb9aebe6_7db4_11ea_96b5_a4bf0127270dlevel0_row64\" class=\"row_heading level0 row64\" >Egypt Death Cases</th>\n",
       "                        <td id=\"T_fb9aebe6_7db4_11ea_96b5_a4bf0127270drow64_col0\" class=\"data row64 col0\" >159.000000</td>\n",
       "            </tr>\n",
       "            <tr>\n",
       "                        <th id=\"T_fb9aebe6_7db4_11ea_96b5_a4bf0127270dlevel0_row65\" class=\"row_heading level0 row65\" >Egypt Fatality Rate %</th>\n",
       "                        <td id=\"T_fb9aebe6_7db4_11ea_96b5_a4bf0127270drow65_col0\" class=\"data row65 col0\" >7.149281</td>\n",
       "            </tr>\n",
       "            <tr>\n",
       "                        <th id=\"T_fb9aebe6_7db4_11ea_96b5_a4bf0127270dlevel0_row66\" class=\"row_heading level0 row66\" >South Africa Confirmed Cases</th>\n",
       "                        <td id=\"T_fb9aebe6_7db4_11ea_96b5_a4bf0127270drow66_col0\" class=\"data row66 col0\" >2173.000000</td>\n",
       "            </tr>\n",
       "            <tr>\n",
       "                        <th id=\"T_fb9aebe6_7db4_11ea_96b5_a4bf0127270dlevel0_row67\" class=\"row_heading level0 row67\" >South Africa Death Cases</th>\n",
       "                        <td id=\"T_fb9aebe6_7db4_11ea_96b5_a4bf0127270drow67_col0\" class=\"data row67 col0\" >25.000000</td>\n",
       "            </tr>\n",
       "            <tr>\n",
       "                        <th id=\"T_fb9aebe6_7db4_11ea_96b5_a4bf0127270dlevel0_row68\" class=\"row_heading level0 row68\" >South Africa Fatality Rate %</th>\n",
       "                        <td id=\"T_fb9aebe6_7db4_11ea_96b5_a4bf0127270drow68_col0\" class=\"data row68 col0\" >1.137398</td>\n",
       "            </tr>\n",
       "            <tr>\n",
       "                        <th id=\"T_fb9aebe6_7db4_11ea_96b5_a4bf0127270dlevel0_row69\" class=\"row_heading level0 row69\" >India Confirmed Cases</th>\n",
       "                        <td id=\"T_fb9aebe6_7db4_11ea_96b5_a4bf0127270drow69_col0\" class=\"data row69 col0\" >9152.000000</td>\n",
       "            </tr>\n",
       "            <tr>\n",
       "                        <th id=\"T_fb9aebe6_7db4_11ea_96b5_a4bf0127270dlevel0_row70\" class=\"row_heading level0 row70\" >India Death Cases</th>\n",
       "                        <td id=\"T_fb9aebe6_7db4_11ea_96b5_a4bf0127270drow70_col0\" class=\"data row70 col0\" >308.000000</td>\n",
       "            </tr>\n",
       "            <tr>\n",
       "                        <th id=\"T_fb9aebe6_7db4_11ea_96b5_a4bf0127270dlevel0_row71\" class=\"row_heading level0 row71\" >India Fatality Rate %</th>\n",
       "                        <td id=\"T_fb9aebe6_7db4_11ea_96b5_a4bf0127270drow71_col0\" class=\"data row71 col0\" >3.255814</td>\n",
       "            </tr>\n",
       "            <tr>\n",
       "                        <th id=\"T_fb9aebe6_7db4_11ea_96b5_a4bf0127270dlevel0_row72\" class=\"row_heading level0 row72\" >Pakistan Confirmed Cases</th>\n",
       "                        <td id=\"T_fb9aebe6_7db4_11ea_96b5_a4bf0127270drow72_col0\" class=\"data row72 col0\" >5374.000000</td>\n",
       "            </tr>\n",
       "            <tr>\n",
       "                        <th id=\"T_fb9aebe6_7db4_11ea_96b5_a4bf0127270dlevel0_row73\" class=\"row_heading level0 row73\" >Pakistan Death Cases</th>\n",
       "                        <td id=\"T_fb9aebe6_7db4_11ea_96b5_a4bf0127270drow73_col0\" class=\"data row73 col0\" >93.000000</td>\n",
       "            </tr>\n",
       "            <tr>\n",
       "                        <th id=\"T_fb9aebe6_7db4_11ea_96b5_a4bf0127270dlevel0_row74\" class=\"row_heading level0 row74\" >Pakistan Fatality Rate %</th>\n",
       "                        <td id=\"T_fb9aebe6_7db4_11ea_96b5_a4bf0127270drow74_col0\" class=\"data row74 col0\" >1.701116</td>\n",
       "            </tr>\n",
       "            <tr>\n",
       "                        <th id=\"T_fb9aebe6_7db4_11ea_96b5_a4bf0127270dlevel0_row75\" class=\"row_heading level0 row75\" >Australia Confirmed Cases</th>\n",
       "                        <td id=\"T_fb9aebe6_7db4_11ea_96b5_a4bf0127270drow75_col0\" class=\"data row75 col0\" >6322.000000</td>\n",
       "            </tr>\n",
       "            <tr>\n",
       "                        <th id=\"T_fb9aebe6_7db4_11ea_96b5_a4bf0127270dlevel0_row76\" class=\"row_heading level0 row76\" >Australia Death Cases</th>\n",
       "                        <td id=\"T_fb9aebe6_7db4_11ea_96b5_a4bf0127270drow76_col0\" class=\"data row76 col0\" >61.000000</td>\n",
       "            </tr>\n",
       "            <tr>\n",
       "                        <th id=\"T_fb9aebe6_7db4_11ea_96b5_a4bf0127270dlevel0_row77\" class=\"row_heading level0 row77\" >Australia Fatality Rate %</th>\n",
       "                        <td id=\"T_fb9aebe6_7db4_11ea_96b5_a4bf0127270drow77_col0\" class=\"data row77 col0\" >0.955663</td>\n",
       "            </tr>\n",
       "            <tr>\n",
       "                        <th id=\"T_fb9aebe6_7db4_11ea_96b5_a4bf0127270dlevel0_row78\" class=\"row_heading level0 row78\" >Indonesia Confirmed Cases</th>\n",
       "                        <td id=\"T_fb9aebe6_7db4_11ea_96b5_a4bf0127270drow78_col0\" class=\"data row78 col0\" >4241.000000</td>\n",
       "            </tr>\n",
       "            <tr>\n",
       "                        <th id=\"T_fb9aebe6_7db4_11ea_96b5_a4bf0127270dlevel0_row79\" class=\"row_heading level0 row79\" >Indonesia Death Cases</th>\n",
       "                        <td id=\"T_fb9aebe6_7db4_11ea_96b5_a4bf0127270drow79_col0\" class=\"data row79 col0\" >373.000000</td>\n",
       "            </tr>\n",
       "            <tr>\n",
       "                        <th id=\"T_fb9aebe6_7db4_11ea_96b5_a4bf0127270dlevel0_row80\" class=\"row_heading level0 row80\" >Indonesia Fatality Rate %</th>\n",
       "                        <td id=\"T_fb9aebe6_7db4_11ea_96b5_a4bf0127270drow80_col0\" class=\"data row80 col0\" >8.084092</td>\n",
       "            </tr>\n",
       "            <tr>\n",
       "                        <th id=\"T_fb9aebe6_7db4_11ea_96b5_a4bf0127270dlevel0_row81\" class=\"row_heading level0 row81\" >Brazil Confirmed Cases</th>\n",
       "                        <td id=\"T_fb9aebe6_7db4_11ea_96b5_a4bf0127270drow81_col0\" class=\"data row81 col0\" >22169.000000</td>\n",
       "            </tr>\n",
       "            <tr>\n",
       "                        <th id=\"T_fb9aebe6_7db4_11ea_96b5_a4bf0127270dlevel0_row82\" class=\"row_heading level0 row82\" >Brazil Death Cases</th>\n",
       "                        <td id=\"T_fb9aebe6_7db4_11ea_96b5_a4bf0127270drow82_col0\" class=\"data row82 col0\" >1223.000000</td>\n",
       "            </tr>\n",
       "            <tr>\n",
       "                        <th id=\"T_fb9aebe6_7db4_11ea_96b5_a4bf0127270dlevel0_row83\" class=\"row_heading level0 row83\" >Brazil Fatality Rate %</th>\n",
       "                        <td id=\"T_fb9aebe6_7db4_11ea_96b5_a4bf0127270drow83_col0\" class=\"data row83 col0\" >5.228283</td>\n",
       "            </tr>\n",
       "    </tbody></table>"
      ],
      "text/plain": [
       "<pandas.io.formats.style.Styler at 0x7ffa64605b70>"
      ]
     },
     "execution_count": 94,
     "metadata": {},
     "output_type": "execute_result"
    }
   ],
   "source": [
    "data = {'Confirmed Cases Worldwide':twc,'Death Cases Worldwide':twd,'World Fatality_rate %':fatality_rate, \n",
    "       'China Confirmed Cases':chcon, 'China Death Cases':chdt, 'China Fatality Rate %':ch_mort_rate,\n",
    "       'Italy Confirmed Cases':itcon, 'Italy Death Cases':itdt, 'Italy Fatality Rate %':it_mort_rate,\n",
    "       'Spain Confirmed Cases':spcon, 'Spain Death Cases':spdt, 'Spain Fatality Rate %': sp_mort_rate,\n",
    "       'France Confirmed Cases':frcon, 'France Death Cases':frdt, 'France Fatality Rate %':fr_mort_rate,\n",
    "       'Iran Confirmed Cases':ircon, 'Iran Death Cases':irdt, 'Iran Fatality Rate %':ir_mort_rate,\n",
    "       'Germany Confirmed Cases':grcon, 'Germany Death Cases':grdt, 'Germany Fatality Rate %':gr_mort_rate,\n",
    "       'US Confirmed Cases':uscon, 'US Death Cases':usdt, 'US Fatality Rate %':us_mort_rate,\n",
    "       'UK Confirmed Cases':ukcon, 'UK Death Cases':ukdt, 'UK Fatality Rate %':uk_mort_rate,\n",
    "       'Netherlands (Holland) Confirmed Cases':nlcon, 'Netherlands (Holland) Death Cases':nldt, 'Netherlands (Holland) Fatality Rate %':nl_mort_rate,\n",
    "       'Swiss Confirmed Cases':swcon, 'Swiss Death Cases':swdt, 'Swiss Fatality Rate %':sw_mort_rate,\n",
    "       'Norway Confirmed Cases':nocon, 'Norway Death Cases':nodt, 'Norway Fatality Rate %':no_mort_rate,\n",
    "       'Sweden Confirmed Cases':swdcon, 'Sweden Death Cases':swddt, 'Sweden Fatality Rate %':swd_mort_rate,\n",
    "       'South Korea Confirmed Cases':skrcon, 'South Korea Death Cases':skrdt, 'South Korea Fatality Rate %':skr_mort_rate,\n",
    "       'Japan Confirmed Cases':jpcon, 'Japan Death Cases':jpdt, 'Japan Fatality Rate %':jp_mort_rate,\n",
    "       'Russia Confirmed Cases':rucon, 'Russia Death Cases':rudt, 'Russia Fatality Rate %':ru_mort_rate,\n",
    "       'Israel Confirmed Cases':ilcon, 'Israel Death Cases':ildt, 'Israel Fatality Rate %':il_mort_rate,\n",
    "       'Iraq Confirmed Cases':iqcon, 'Iraq Death Cases':iqdt, 'Iraq Fatality Rate %':iq_mort_rate,\n",
    "       'Turkey Confirmed Cases':trcon, 'Turkey Death Cases':trdt, 'Turkey Fatality Rate %':tr_mort_rate,\n",
    "       'Qatar Confirmed Cases':qrcon, 'Qatar Death Cases':qrdt, 'Qatar Fatality Rate %':qr_mort_rate,\n",
    "       'Saudi Arabia Confirmed Cases':ksacon, 'Saudi Arabia Death Cases':ksadt, 'Saudi Arabia Fatality Rate %': ksa_mort_rate,\n",
    "       'Egypt Confirmed Cases':egcon, 'Egypt Death Cases':egdt, 'Egypt Fatality Rate %':eg_mort_rate,\n",
    "       'South Africa Confirmed Cases':sacon, 'South Africa Death Cases':sadt, 'South Africa Fatality Rate %':sa_mort_rate,\n",
    "       'India Confirmed Cases':incon, 'India Death Cases':indt, 'India Fatality Rate %': in_mort_rate,\n",
    "       'Pakistan Confirmed Cases':pkcon, 'Pakistan Death Cases':pkdt, 'Pakistan Fatality Rate %': pk_mort_rate,\n",
    "       'Australia Confirmed Cases':aucon, 'Australia Death Cases':audt, 'Australia Fatality Rate %': au_mort_rate,\n",
    "       'Indonesia Confirmed Cases':inesiacon, 'Indonesia Death Cases':inesiadt, 'Indonesia Fatality Rate %': inesia_mort_rate,\n",
    "       'Brazil Confirmed Cases':brcon, 'Brazil Death Cases':brdt, 'Brazil Fatality Rate %': br_mort_rate,\n",
    "       }\n",
    "\n",
    "data = pd.DataFrame.from_dict(data, orient='index' ,columns=['Total Count or Rate'])\n",
    "data.style.background_gradient(cmap='PuBu')"
   ]
  },
  {
   "cell_type": "code",
   "execution_count": 95,
   "metadata": {},
   "outputs": [],
   "source": [
    "df_per_day = ndf.groupby('Date')[['Confirmed','Deaths']].sum()"
   ]
  },
  {
   "cell_type": "code",
   "execution_count": 96,
   "metadata": {},
   "outputs": [
    {
     "data": {
      "text/html": [
       "<div>\n",
       "<style scoped>\n",
       "    .dataframe tbody tr th:only-of-type {\n",
       "        vertical-align: middle;\n",
       "    }\n",
       "\n",
       "    .dataframe tbody tr th {\n",
       "        vertical-align: top;\n",
       "    }\n",
       "\n",
       "    .dataframe thead th {\n",
       "        text-align: right;\n",
       "    }\n",
       "</style>\n",
       "<table border=\"1\" class=\"dataframe\">\n",
       "  <thead>\n",
       "    <tr style=\"text-align: right;\">\n",
       "      <th></th>\n",
       "      <th>Confirmed</th>\n",
       "      <th>Deaths</th>\n",
       "    </tr>\n",
       "    <tr>\n",
       "      <th>Date</th>\n",
       "      <th></th>\n",
       "      <th></th>\n",
       "    </tr>\n",
       "  </thead>\n",
       "  <tbody>\n",
       "    <tr>\n",
       "      <th>2019-12-31</th>\n",
       "      <td>27</td>\n",
       "      <td>0</td>\n",
       "    </tr>\n",
       "    <tr>\n",
       "      <th>2020-01-01</th>\n",
       "      <td>0</td>\n",
       "      <td>0</td>\n",
       "    </tr>\n",
       "    <tr>\n",
       "      <th>2020-01-02</th>\n",
       "      <td>0</td>\n",
       "      <td>0</td>\n",
       "    </tr>\n",
       "    <tr>\n",
       "      <th>2020-01-03</th>\n",
       "      <td>17</td>\n",
       "      <td>0</td>\n",
       "    </tr>\n",
       "    <tr>\n",
       "      <th>2020-01-04</th>\n",
       "      <td>0</td>\n",
       "      <td>0</td>\n",
       "    </tr>\n",
       "  </tbody>\n",
       "</table>\n",
       "</div>"
      ],
      "text/plain": [
       "            Confirmed  Deaths\n",
       "Date                         \n",
       "2019-12-31         27       0\n",
       "2020-01-01          0       0\n",
       "2020-01-02          0       0\n",
       "2020-01-03         17       0\n",
       "2020-01-04          0       0"
      ]
     },
     "execution_count": 96,
     "metadata": {},
     "output_type": "execute_result"
    }
   ],
   "source": [
    "df_per_day.head()"
   ]
  },
  {
   "cell_type": "code",
   "execution_count": 97,
   "metadata": {},
   "outputs": [
    {
     "data": {
      "text/html": [
       "<div>\n",
       "<style scoped>\n",
       "    .dataframe tbody tr th:only-of-type {\n",
       "        vertical-align: middle;\n",
       "    }\n",
       "\n",
       "    .dataframe tbody tr th {\n",
       "        vertical-align: top;\n",
       "    }\n",
       "\n",
       "    .dataframe thead th {\n",
       "        text-align: right;\n",
       "    }\n",
       "</style>\n",
       "<table border=\"1\" class=\"dataframe\">\n",
       "  <thead>\n",
       "    <tr style=\"text-align: right;\">\n",
       "      <th></th>\n",
       "      <th>Confirmed</th>\n",
       "      <th>Deaths</th>\n",
       "    </tr>\n",
       "    <tr>\n",
       "      <th>Date</th>\n",
       "      <th></th>\n",
       "      <th></th>\n",
       "    </tr>\n",
       "  </thead>\n",
       "  <tbody>\n",
       "    <tr>\n",
       "      <th>2020-04-09</th>\n",
       "      <td>84930</td>\n",
       "      <td>6339</td>\n",
       "    </tr>\n",
       "    <tr>\n",
       "      <th>2020-04-10</th>\n",
       "      <td>87039</td>\n",
       "      <td>7223</td>\n",
       "    </tr>\n",
       "    <tr>\n",
       "      <th>2020-04-11</th>\n",
       "      <td>89349</td>\n",
       "      <td>7049</td>\n",
       "    </tr>\n",
       "    <tr>\n",
       "      <th>2020-04-12</th>\n",
       "      <td>81707</td>\n",
       "      <td>6104</td>\n",
       "    </tr>\n",
       "    <tr>\n",
       "      <th>2020-04-13</th>\n",
       "      <td>72395</td>\n",
       "      <td>5321</td>\n",
       "    </tr>\n",
       "  </tbody>\n",
       "</table>\n",
       "</div>"
      ],
      "text/plain": [
       "            Confirmed  Deaths\n",
       "Date                         \n",
       "2020-04-09      84930    6339\n",
       "2020-04-10      87039    7223\n",
       "2020-04-11      89349    7049\n",
       "2020-04-12      81707    6104\n",
       "2020-04-13      72395    5321"
      ]
     },
     "execution_count": 97,
     "metadata": {},
     "output_type": "execute_result"
    }
   ],
   "source": [
    "df_per_day.tail()"
   ]
  },
  {
   "cell_type": "code",
   "execution_count": 98,
   "metadata": {},
   "outputs": [
    {
     "data": {
      "text/plain": [
       "89349"
      ]
     },
     "execution_count": 98,
     "metadata": {},
     "output_type": "execute_result"
    }
   ],
   "source": [
    "# Max. No. of confirmed cases per day\n",
    "df_per_day['Confirmed'].max()"
   ]
  },
  {
   "cell_type": "code",
   "execution_count": 99,
   "metadata": {},
   "outputs": [
    {
     "data": {
      "text/plain": [
       "Timestamp('2020-04-11 00:00:00')"
      ]
     },
     "execution_count": 99,
     "metadata": {},
     "output_type": "execute_result"
    }
   ],
   "source": [
    "# Date of Max. No. of confirmed cases\n",
    "df_per_day['Confirmed'].idxmax()"
   ]
  },
  {
   "cell_type": "code",
   "execution_count": 100,
   "metadata": {},
   "outputs": [
    {
     "data": {
      "text/plain": [
       "0"
      ]
     },
     "execution_count": 100,
     "metadata": {},
     "output_type": "execute_result"
    }
   ],
   "source": [
    "# Min. No. of confirmed cases per day\n",
    "df_per_day['Confirmed'].min()"
   ]
  },
  {
   "cell_type": "code",
   "execution_count": 101,
   "metadata": {},
   "outputs": [
    {
     "data": {
      "text/plain": [
       "Timestamp('2020-01-01 00:00:00')"
      ]
     },
     "execution_count": 101,
     "metadata": {},
     "output_type": "execute_result"
    }
   ],
   "source": [
    "# Date of Min. No. of confirmed cases\n",
    "df_per_day['Confirmed'].idxmin()"
   ]
  },
  {
   "cell_type": "code",
   "execution_count": 102,
   "metadata": {},
   "outputs": [
    {
     "data": {
      "text/plain": [
       "7412"
      ]
     },
     "execution_count": 102,
     "metadata": {},
     "output_type": "execute_result"
    }
   ],
   "source": [
    "# Max. No. of death cases per day\n",
    "df_per_day['Deaths'].max()"
   ]
  },
  {
   "cell_type": "code",
   "execution_count": 103,
   "metadata": {},
   "outputs": [
    {
     "data": {
      "text/plain": [
       "Timestamp('2020-04-08 00:00:00')"
      ]
     },
     "execution_count": 103,
     "metadata": {},
     "output_type": "execute_result"
    }
   ],
   "source": [
    "# Date of Max. No. of death cases\n",
    "df_per_day['Deaths'].idxmax()"
   ]
  },
  {
   "cell_type": "code",
   "execution_count": 104,
   "metadata": {},
   "outputs": [
    {
     "data": {
      "text/plain": [
       "0"
      ]
     },
     "execution_count": 104,
     "metadata": {},
     "output_type": "execute_result"
    }
   ],
   "source": [
    "# Min. No. of death cases per day\n",
    "df_per_day['Deaths'].min()"
   ]
  },
  {
   "cell_type": "code",
   "execution_count": 105,
   "metadata": {},
   "outputs": [
    {
     "data": {
      "text/plain": [
       "Timestamp('2019-12-31 00:00:00')"
      ]
     },
     "execution_count": 105,
     "metadata": {},
     "output_type": "execute_result"
    }
   ],
   "source": [
    "# Date of Min. No. of death cases\n",
    "df_per_day['Deaths'].idxmin()"
   ]
  },
  {
   "cell_type": "code",
   "execution_count": 106,
   "metadata": {},
   "outputs": [
    {
     "data": {
      "text/plain": [
       "Sweden                         105\n",
       "Australia                      105\n",
       "Czechia                        105\n",
       "Iceland                        105\n",
       "US                             105\n",
       "                              ... \n",
       "Malawi                          11\n",
       "Falkland_Islands_(Malvinas)     10\n",
       "South_Sudan                      8\n",
       "Sao_Tome_and_Principe            5\n",
       "Yemen                            4\n",
       "Name: Country, Length: 205, dtype: int64"
      ]
     },
     "execution_count": 106,
     "metadata": {},
     "output_type": "execute_result"
    }
   ],
   "source": [
    "ndf['Country'].value_counts()"
   ]
  },
  {
   "cell_type": "code",
   "execution_count": 107,
   "metadata": {},
   "outputs": [
    {
     "data": {
      "text/plain": [
       "205"
      ]
     },
     "execution_count": 107,
     "metadata": {},
     "output_type": "execute_result"
    }
   ],
   "source": [
    "len(ndf['Country'].unique())"
   ]
  },
  {
   "cell_type": "code",
   "execution_count": 108,
   "metadata": {},
   "outputs": [
    {
     "data": {
      "text/plain": [
       "Confirmed    9799\n",
       "Deaths        213\n",
       "dtype: int64"
      ]
     },
     "execution_count": 108,
     "metadata": {},
     "output_type": "execute_result"
    }
   ],
   "source": [
    "ndf.loc['2020-01'][['Confirmed','Deaths']].sum()"
   ]
  },
  {
   "cell_type": "code",
   "execution_count": 109,
   "metadata": {},
   "outputs": [
    {
     "data": {
      "text/html": [
       "<div>\n",
       "<style scoped>\n",
       "    .dataframe tbody tr th:only-of-type {\n",
       "        vertical-align: middle;\n",
       "    }\n",
       "\n",
       "    .dataframe tbody tr th {\n",
       "        vertical-align: top;\n",
       "    }\n",
       "\n",
       "    .dataframe thead th {\n",
       "        text-align: right;\n",
       "    }\n",
       "</style>\n",
       "<table border=\"1\" class=\"dataframe\">\n",
       "  <thead>\n",
       "    <tr style=\"text-align: right;\">\n",
       "      <th></th>\n",
       "      <th>Confirmed</th>\n",
       "      <th>Deaths</th>\n",
       "      <th>Country</th>\n",
       "    </tr>\n",
       "    <tr>\n",
       "      <th>Date</th>\n",
       "      <th></th>\n",
       "      <th></th>\n",
       "      <th></th>\n",
       "    </tr>\n",
       "  </thead>\n",
       "  <tbody>\n",
       "    <tr>\n",
       "      <th>2020-03-25</th>\n",
       "      <td>2</td>\n",
       "      <td>0</td>\n",
       "      <td>Afghanistan</td>\n",
       "    </tr>\n",
       "    <tr>\n",
       "      <th>2020-03-24</th>\n",
       "      <td>6</td>\n",
       "      <td>1</td>\n",
       "      <td>Afghanistan</td>\n",
       "    </tr>\n",
       "    <tr>\n",
       "      <th>2020-03-23</th>\n",
       "      <td>10</td>\n",
       "      <td>0</td>\n",
       "      <td>Afghanistan</td>\n",
       "    </tr>\n",
       "    <tr>\n",
       "      <th>2020-03-25</th>\n",
       "      <td>23</td>\n",
       "      <td>1</td>\n",
       "      <td>Albania</td>\n",
       "    </tr>\n",
       "    <tr>\n",
       "      <th>2020-03-24</th>\n",
       "      <td>11</td>\n",
       "      <td>2</td>\n",
       "      <td>Albania</td>\n",
       "    </tr>\n",
       "    <tr>\n",
       "      <th>...</th>\n",
       "      <td>...</td>\n",
       "      <td>...</td>\n",
       "      <td>...</td>\n",
       "    </tr>\n",
       "    <tr>\n",
       "      <th>2020-03-24</th>\n",
       "      <td>0</td>\n",
       "      <td>0</td>\n",
       "      <td>Zambia</td>\n",
       "    </tr>\n",
       "    <tr>\n",
       "      <th>2020-03-23</th>\n",
       "      <td>1</td>\n",
       "      <td>0</td>\n",
       "      <td>Zambia</td>\n",
       "    </tr>\n",
       "    <tr>\n",
       "      <th>2020-03-25</th>\n",
       "      <td>0</td>\n",
       "      <td>0</td>\n",
       "      <td>Zimbabwe</td>\n",
       "    </tr>\n",
       "    <tr>\n",
       "      <th>2020-03-24</th>\n",
       "      <td>0</td>\n",
       "      <td>1</td>\n",
       "      <td>Zimbabwe</td>\n",
       "    </tr>\n",
       "    <tr>\n",
       "      <th>2020-03-23</th>\n",
       "      <td>0</td>\n",
       "      <td>0</td>\n",
       "      <td>Zimbabwe</td>\n",
       "    </tr>\n",
       "  </tbody>\n",
       "</table>\n",
       "<p>550 rows × 3 columns</p>\n",
       "</div>"
      ],
      "text/plain": [
       "            Confirmed  Deaths      Country\n",
       "Date                                      \n",
       "2020-03-25          2       0  Afghanistan\n",
       "2020-03-24          6       1  Afghanistan\n",
       "2020-03-23         10       0  Afghanistan\n",
       "2020-03-25         23       1      Albania\n",
       "2020-03-24         11       2      Albania\n",
       "...               ...     ...          ...\n",
       "2020-03-24          0       0       Zambia\n",
       "2020-03-23          1       0       Zambia\n",
       "2020-03-25          0       0     Zimbabwe\n",
       "2020-03-24          0       1     Zimbabwe\n",
       "2020-03-23          0       0     Zimbabwe\n",
       "\n",
       "[550 rows x 3 columns]"
      ]
     },
     "execution_count": 109,
     "metadata": {},
     "output_type": "execute_result"
    }
   ],
   "source": [
    "ndf.loc['2020-03-23':'2020-03-25']"
   ]
  },
  {
   "cell_type": "code",
   "execution_count": 110,
   "metadata": {},
   "outputs": [
    {
     "data": {
      "text/plain": [
       "Confirmed    77198\n",
       "Deaths        2766\n",
       "dtype: int64"
      ]
     },
     "execution_count": 110,
     "metadata": {},
     "output_type": "execute_result"
    }
   ],
   "source": [
    "ndf.loc['2020-02-01':'2020-03-01'][['Confirmed','Deaths']].sum()"
   ]
  },
  {
   "cell_type": "code",
   "execution_count": 111,
   "metadata": {},
   "outputs": [
    {
     "data": {
      "text/plain": [
       "Confirmed    766138\n",
       "Deaths        38968\n",
       "dtype: int64"
      ]
     },
     "execution_count": 111,
     "metadata": {},
     "output_type": "execute_result"
    }
   ],
   "source": [
    "ndf.loc['2020-03-01':'2020-04-01'][['Confirmed','Deaths']].sum()"
   ]
  },
  {
   "cell_type": "code",
   "execution_count": 112,
   "metadata": {},
   "outputs": [
    {
     "data": {
      "text/plain": [
       "Confirmed    1030175\n",
       "Deaths         76241\n",
       "dtype: int64"
      ]
     },
     "execution_count": 112,
     "metadata": {},
     "output_type": "execute_result"
    }
   ],
   "source": [
    "ndf.loc['2020-04-01':'2020-04-13'][['Confirmed','Deaths']].sum()"
   ]
  },
  {
   "cell_type": "code",
   "execution_count": 113,
   "metadata": {},
   "outputs": [
    {
     "data": {
      "text/plain": [
       "<matplotlib.axes._subplots.AxesSubplot at 0x7ffa6463d978>"
      ]
     },
     "execution_count": 113,
     "metadata": {},
     "output_type": "execute_result"
    },
    {
     "data": {
      "image/png": "[encoded data removed]",
      "text/plain": [
       "<Figure size 864x576 with 1 Axes>"
      ]
     },
     "metadata": {},
     "output_type": "display_data"
    }
   ],
   "source": [
    "ndf.loc['2020-02-21':'2020-04-13'][['Confirmed','Deaths']].plot(figsize=(12,8))"
   ]
  },
  {
   "cell_type": "code",
   "execution_count": 114,
   "metadata": {},
   "outputs": [],
   "source": [
    "new_data_f = ndf.copy()"
   ]
  },
  {
   "cell_type": "code",
   "execution_count": 115,
   "metadata": {},
   "outputs": [],
   "source": [
    "df_by_date = new_data_f.groupby(['Date']).sum().reset_index(drop=None)"
   ]
  },
  {
   "cell_type": "code",
   "execution_count": 116,
   "metadata": {},
   "outputs": [
    {
     "data": {
      "text/html": [
       "<div>\n",
       "<style scoped>\n",
       "    .dataframe tbody tr th:only-of-type {\n",
       "        vertical-align: middle;\n",
       "    }\n",
       "\n",
       "    .dataframe tbody tr th {\n",
       "        vertical-align: top;\n",
       "    }\n",
       "\n",
       "    .dataframe thead th {\n",
       "        text-align: right;\n",
       "    }\n",
       "</style>\n",
       "<table border=\"1\" class=\"dataframe\">\n",
       "  <thead>\n",
       "    <tr style=\"text-align: right;\">\n",
       "      <th></th>\n",
       "      <th>Date</th>\n",
       "      <th>Confirmed</th>\n",
       "      <th>Deaths</th>\n",
       "    </tr>\n",
       "  </thead>\n",
       "  <tbody>\n",
       "    <tr>\n",
       "      <th>0</th>\n",
       "      <td>2019-12-31</td>\n",
       "      <td>27</td>\n",
       "      <td>0</td>\n",
       "    </tr>\n",
       "    <tr>\n",
       "      <th>1</th>\n",
       "      <td>2020-01-01</td>\n",
       "      <td>0</td>\n",
       "      <td>0</td>\n",
       "    </tr>\n",
       "    <tr>\n",
       "      <th>2</th>\n",
       "      <td>2020-01-02</td>\n",
       "      <td>0</td>\n",
       "      <td>0</td>\n",
       "    </tr>\n",
       "    <tr>\n",
       "      <th>3</th>\n",
       "      <td>2020-01-03</td>\n",
       "      <td>17</td>\n",
       "      <td>0</td>\n",
       "    </tr>\n",
       "    <tr>\n",
       "      <th>4</th>\n",
       "      <td>2020-01-04</td>\n",
       "      <td>0</td>\n",
       "      <td>0</td>\n",
       "    </tr>\n",
       "    <tr>\n",
       "      <th>...</th>\n",
       "      <td>...</td>\n",
       "      <td>...</td>\n",
       "      <td>...</td>\n",
       "    </tr>\n",
       "    <tr>\n",
       "      <th>100</th>\n",
       "      <td>2020-04-09</td>\n",
       "      <td>84930</td>\n",
       "      <td>6339</td>\n",
       "    </tr>\n",
       "    <tr>\n",
       "      <th>101</th>\n",
       "      <td>2020-04-10</td>\n",
       "      <td>87039</td>\n",
       "      <td>7223</td>\n",
       "    </tr>\n",
       "    <tr>\n",
       "      <th>102</th>\n",
       "      <td>2020-04-11</td>\n",
       "      <td>89349</td>\n",
       "      <td>7049</td>\n",
       "    </tr>\n",
       "    <tr>\n",
       "      <th>103</th>\n",
       "      <td>2020-04-12</td>\n",
       "      <td>81707</td>\n",
       "      <td>6104</td>\n",
       "    </tr>\n",
       "    <tr>\n",
       "      <th>104</th>\n",
       "      <td>2020-04-13</td>\n",
       "      <td>72395</td>\n",
       "      <td>5321</td>\n",
       "    </tr>\n",
       "  </tbody>\n",
       "</table>\n",
       "<p>105 rows × 3 columns</p>\n",
       "</div>"
      ],
      "text/plain": [
       "          Date  Confirmed  Deaths\n",
       "0   2019-12-31         27       0\n",
       "1   2020-01-01          0       0\n",
       "2   2020-01-02          0       0\n",
       "3   2020-01-03         17       0\n",
       "4   2020-01-04          0       0\n",
       "..         ...        ...     ...\n",
       "100 2020-04-09      84930    6339\n",
       "101 2020-04-10      87039    7223\n",
       "102 2020-04-11      89349    7049\n",
       "103 2020-04-12      81707    6104\n",
       "104 2020-04-13      72395    5321\n",
       "\n",
       "[105 rows x 3 columns]"
      ]
     },
     "execution_count": 116,
     "metadata": {},
     "output_type": "execute_result"
    }
   ],
   "source": [
    "df_by_date"
   ]
  },
  {
   "cell_type": "code",
   "execution_count": 117,
   "metadata": {},
   "outputs": [
    {
     "data": {
      "text/plain": [
       "<matplotlib.axes._subplots.AxesSubplot at 0x7ffa642a3dd8>"
      ]
     },
     "execution_count": 117,
     "metadata": {},
     "output_type": "execute_result"
    },
    {
     "data": {
      "image/png": "[encoded data removed]",
      "text/plain": [
       "<Figure size 864x432 with 1 Axes>"
      ]
     },
     "metadata": {},
     "output_type": "display_data"
    }
   ],
   "source": [
    "df_by_date[['Confirmed', 'Deaths']].plot(kind='line',figsize=(12,6))"
   ]
  },
  {
   "cell_type": "code",
   "execution_count": 118,
   "metadata": {},
   "outputs": [
    {
     "data": {
      "image/png": "[encoded data removed]",
      "text/plain": [
       "<Figure size 864x432 with 1 Axes>"
      ]
     },
     "metadata": {},
     "output_type": "display_data"
    }
   ],
   "source": [
    "df_by_date[['Deaths','Confirmed']].plot(kind='area', title='COVID-19 Cases Per Day', \n",
    "                                        grid=True, figsize=(12,6))\n",
    "plt.savefig('wcovid19daily22')"
   ]
  },
  {
   "cell_type": "code",
   "execution_count": 119,
   "metadata": {},
   "outputs": [],
   "source": [
    "# Situation in Italy "
   ]
  },
  {
   "cell_type": "code",
   "execution_count": 120,
   "metadata": {},
   "outputs": [
    {
     "data": {
      "text/html": [
       "<div>\n",
       "<style scoped>\n",
       "    .dataframe tbody tr th:only-of-type {\n",
       "        vertical-align: middle;\n",
       "    }\n",
       "\n",
       "    .dataframe tbody tr th {\n",
       "        vertical-align: top;\n",
       "    }\n",
       "\n",
       "    .dataframe thead th {\n",
       "        text-align: right;\n",
       "    }\n",
       "</style>\n",
       "<table border=\"1\" class=\"dataframe\">\n",
       "  <thead>\n",
       "    <tr style=\"text-align: right;\">\n",
       "      <th></th>\n",
       "      <th>Date</th>\n",
       "      <th>Confirmed</th>\n",
       "      <th>Deaths</th>\n",
       "      <th>Country</th>\n",
       "    </tr>\n",
       "  </thead>\n",
       "  <tbody>\n",
       "    <tr>\n",
       "      <th>0</th>\n",
       "      <td>2020-04-13</td>\n",
       "      <td>4092</td>\n",
       "      <td>431</td>\n",
       "      <td>Italy</td>\n",
       "    </tr>\n",
       "    <tr>\n",
       "      <th>1</th>\n",
       "      <td>2020-04-12</td>\n",
       "      <td>4694</td>\n",
       "      <td>619</td>\n",
       "      <td>Italy</td>\n",
       "    </tr>\n",
       "    <tr>\n",
       "      <th>2</th>\n",
       "      <td>2020-04-11</td>\n",
       "      <td>3951</td>\n",
       "      <td>570</td>\n",
       "      <td>Italy</td>\n",
       "    </tr>\n",
       "    <tr>\n",
       "      <th>3</th>\n",
       "      <td>2020-04-10</td>\n",
       "      <td>4204</td>\n",
       "      <td>612</td>\n",
       "      <td>Italy</td>\n",
       "    </tr>\n",
       "    <tr>\n",
       "      <th>4</th>\n",
       "      <td>2020-04-09</td>\n",
       "      <td>3836</td>\n",
       "      <td>540</td>\n",
       "      <td>Italy</td>\n",
       "    </tr>\n",
       "  </tbody>\n",
       "</table>\n",
       "</div>"
      ],
      "text/plain": [
       "        Date  Confirmed  Deaths Country\n",
       "0 2020-04-13       4092     431   Italy\n",
       "1 2020-04-12       4694     619   Italy\n",
       "2 2020-04-11       3951     570   Italy\n",
       "3 2020-04-10       4204     612   Italy\n",
       "4 2020-04-09       3836     540   Italy"
      ]
     },
     "execution_count": 120,
     "metadata": {},
     "output_type": "execute_result"
    }
   ],
   "source": [
    "df_it.head()"
   ]
  },
  {
   "cell_type": "code",
   "execution_count": 121,
   "metadata": {},
   "outputs": [],
   "source": [
    "it_ndf = df_it.copy()"
   ]
  },
  {
   "cell_type": "code",
   "execution_count": 122,
   "metadata": {},
   "outputs": [
    {
     "data": {
      "text/html": [
       "<div>\n",
       "<style scoped>\n",
       "    .dataframe tbody tr th:only-of-type {\n",
       "        vertical-align: middle;\n",
       "    }\n",
       "\n",
       "    .dataframe tbody tr th {\n",
       "        vertical-align: top;\n",
       "    }\n",
       "\n",
       "    .dataframe thead th {\n",
       "        text-align: right;\n",
       "    }\n",
       "</style>\n",
       "<table border=\"1\" class=\"dataframe\">\n",
       "  <thead>\n",
       "    <tr style=\"text-align: right;\">\n",
       "      <th></th>\n",
       "      <th>Date</th>\n",
       "      <th>Confirmed</th>\n",
       "      <th>Deaths</th>\n",
       "      <th>Country</th>\n",
       "    </tr>\n",
       "  </thead>\n",
       "  <tbody>\n",
       "    <tr>\n",
       "      <th>0</th>\n",
       "      <td>2020-04-13</td>\n",
       "      <td>4092</td>\n",
       "      <td>431</td>\n",
       "      <td>Italy</td>\n",
       "    </tr>\n",
       "    <tr>\n",
       "      <th>1</th>\n",
       "      <td>2020-04-12</td>\n",
       "      <td>4694</td>\n",
       "      <td>619</td>\n",
       "      <td>Italy</td>\n",
       "    </tr>\n",
       "    <tr>\n",
       "      <th>2</th>\n",
       "      <td>2020-04-11</td>\n",
       "      <td>3951</td>\n",
       "      <td>570</td>\n",
       "      <td>Italy</td>\n",
       "    </tr>\n",
       "  </tbody>\n",
       "</table>\n",
       "</div>"
      ],
      "text/plain": [
       "        Date  Confirmed  Deaths Country\n",
       "0 2020-04-13       4092     431   Italy\n",
       "1 2020-04-12       4694     619   Italy\n",
       "2 2020-04-11       3951     570   Italy"
      ]
     },
     "execution_count": 122,
     "metadata": {},
     "output_type": "execute_result"
    }
   ],
   "source": [
    "it_ndf.head(3)"
   ]
  },
  {
   "cell_type": "code",
   "execution_count": 123,
   "metadata": {},
   "outputs": [
    {
     "data": {
      "text/html": [
       "<div>\n",
       "<style scoped>\n",
       "    .dataframe tbody tr th:only-of-type {\n",
       "        vertical-align: middle;\n",
       "    }\n",
       "\n",
       "    .dataframe tbody tr th {\n",
       "        vertical-align: top;\n",
       "    }\n",
       "\n",
       "    .dataframe thead th {\n",
       "        text-align: right;\n",
       "    }\n",
       "</style>\n",
       "<table border=\"1\" class=\"dataframe\">\n",
       "  <thead>\n",
       "    <tr style=\"text-align: right;\">\n",
       "      <th></th>\n",
       "      <th>Date</th>\n",
       "      <th>Confirmed</th>\n",
       "      <th>Deaths</th>\n",
       "      <th>Country</th>\n",
       "    </tr>\n",
       "  </thead>\n",
       "  <tbody>\n",
       "    <tr>\n",
       "      <th>85</th>\n",
       "      <td>2020-01-19</td>\n",
       "      <td>0</td>\n",
       "      <td>0</td>\n",
       "      <td>Italy</td>\n",
       "    </tr>\n",
       "    <tr>\n",
       "      <th>86</th>\n",
       "      <td>2020-01-18</td>\n",
       "      <td>0</td>\n",
       "      <td>0</td>\n",
       "      <td>Italy</td>\n",
       "    </tr>\n",
       "    <tr>\n",
       "      <th>87</th>\n",
       "      <td>2020-01-17</td>\n",
       "      <td>0</td>\n",
       "      <td>0</td>\n",
       "      <td>Italy</td>\n",
       "    </tr>\n",
       "  </tbody>\n",
       "</table>\n",
       "</div>"
      ],
      "text/plain": [
       "         Date  Confirmed  Deaths Country\n",
       "85 2020-01-19          0       0   Italy\n",
       "86 2020-01-18          0       0   Italy\n",
       "87 2020-01-17          0       0   Italy"
      ]
     },
     "execution_count": 123,
     "metadata": {},
     "output_type": "execute_result"
    }
   ],
   "source": [
    "it_ndf.tail(3)"
   ]
  },
  {
   "cell_type": "code",
   "execution_count": 124,
   "metadata": {},
   "outputs": [],
   "source": [
    "it_ndf.set_index('Date', inplace=True)\n",
    "it_ndf.sort_index(inplace=True)"
   ]
  },
  {
   "cell_type": "code",
   "execution_count": 125,
   "metadata": {},
   "outputs": [
    {
     "data": {
      "text/html": [
       "<div>\n",
       "<style scoped>\n",
       "    .dataframe tbody tr th:only-of-type {\n",
       "        vertical-align: middle;\n",
       "    }\n",
       "\n",
       "    .dataframe tbody tr th {\n",
       "        vertical-align: top;\n",
       "    }\n",
       "\n",
       "    .dataframe thead th {\n",
       "        text-align: right;\n",
       "    }\n",
       "</style>\n",
       "<table border=\"1\" class=\"dataframe\">\n",
       "  <thead>\n",
       "    <tr style=\"text-align: right;\">\n",
       "      <th></th>\n",
       "      <th>Confirmed</th>\n",
       "      <th>Deaths</th>\n",
       "      <th>Country</th>\n",
       "    </tr>\n",
       "    <tr>\n",
       "      <th>Date</th>\n",
       "      <th></th>\n",
       "      <th></th>\n",
       "      <th></th>\n",
       "    </tr>\n",
       "  </thead>\n",
       "  <tbody>\n",
       "    <tr>\n",
       "      <th>2020-01-17</th>\n",
       "      <td>0</td>\n",
       "      <td>0</td>\n",
       "      <td>Italy</td>\n",
       "    </tr>\n",
       "    <tr>\n",
       "      <th>2020-01-18</th>\n",
       "      <td>0</td>\n",
       "      <td>0</td>\n",
       "      <td>Italy</td>\n",
       "    </tr>\n",
       "    <tr>\n",
       "      <th>2020-01-19</th>\n",
       "      <td>0</td>\n",
       "      <td>0</td>\n",
       "      <td>Italy</td>\n",
       "    </tr>\n",
       "  </tbody>\n",
       "</table>\n",
       "</div>"
      ],
      "text/plain": [
       "            Confirmed  Deaths Country\n",
       "Date                                 \n",
       "2020-01-17          0       0   Italy\n",
       "2020-01-18          0       0   Italy\n",
       "2020-01-19          0       0   Italy"
      ]
     },
     "execution_count": 125,
     "metadata": {},
     "output_type": "execute_result"
    }
   ],
   "source": [
    "it_ndf.head(3)"
   ]
  },
  {
   "cell_type": "code",
   "execution_count": 126,
   "metadata": {},
   "outputs": [
    {
     "data": {
      "text/plain": [
       "Confirmed    1125\n",
       "Deaths         29\n",
       "dtype: int64"
      ]
     },
     "execution_count": 126,
     "metadata": {},
     "output_type": "execute_result"
    }
   ],
   "source": [
    "it_ndf.loc['2020-02-01':'2020-03-01'][['Confirmed','Deaths']].sum()"
   ]
  },
  {
   "cell_type": "code",
   "execution_count": 127,
   "metadata": {},
   "outputs": [
    {
     "data": {
      "text/plain": [
       "Confirmed    104904\n",
       "Deaths        12409\n",
       "dtype: int64"
      ]
     },
     "execution_count": 127,
     "metadata": {},
     "output_type": "execute_result"
    }
   ],
   "source": [
    "it_ndf.loc['2020-03-01':'2020-04-01'][['Confirmed','Deaths']].sum()"
   ]
  },
  {
   "cell_type": "code",
   "execution_count": 128,
   "metadata": {},
   "outputs": [
    {
     "data": {
      "text/plain": [
       "Confirmed    54624\n",
       "Deaths        8310\n",
       "dtype: int64"
      ]
     },
     "execution_count": 128,
     "metadata": {},
     "output_type": "execute_result"
    }
   ],
   "source": [
    "it_ndf.loc['2020-04-01':'2020-04-13'][['Confirmed','Deaths']].sum()"
   ]
  },
  {
   "cell_type": "code",
   "execution_count": 129,
   "metadata": {},
   "outputs": [
    {
     "data": {
      "text/plain": [
       "<matplotlib.axes._subplots.AxesSubplot at 0x7ffa7790a7f0>"
      ]
     },
     "execution_count": 129,
     "metadata": {},
     "output_type": "execute_result"
    },
    {
     "data": {
      "image/png": "[encoded data removed]",
      "text/plain": [
       "<Figure size 1152x576 with 1 Axes>"
      ]
     },
     "metadata": {},
     "output_type": "display_data"
    }
   ],
   "source": [
    "it_ndf.plot()"
   ]
  },
  {
   "cell_type": "code",
   "execution_count": 130,
   "metadata": {},
   "outputs": [
    {
     "data": {
      "text/html": [
       "<div>\n",
       "<style scoped>\n",
       "    .dataframe tbody tr th:only-of-type {\n",
       "        vertical-align: middle;\n",
       "    }\n",
       "\n",
       "    .dataframe tbody tr th {\n",
       "        vertical-align: top;\n",
       "    }\n",
       "\n",
       "    .dataframe thead th {\n",
       "        text-align: right;\n",
       "    }\n",
       "</style>\n",
       "<table border=\"1\" class=\"dataframe\">\n",
       "  <thead>\n",
       "    <tr style=\"text-align: right;\">\n",
       "      <th></th>\n",
       "      <th>Date</th>\n",
       "      <th>Confirmed</th>\n",
       "      <th>Deaths</th>\n",
       "      <th>Country</th>\n",
       "    </tr>\n",
       "  </thead>\n",
       "  <tbody>\n",
       "    <tr>\n",
       "      <th>0</th>\n",
       "      <td>2020-04-13</td>\n",
       "      <td>126</td>\n",
       "      <td>13</td>\n",
       "      <td>Egypt</td>\n",
       "    </tr>\n",
       "    <tr>\n",
       "      <th>1</th>\n",
       "      <td>2020-04-12</td>\n",
       "      <td>145</td>\n",
       "      <td>11</td>\n",
       "      <td>Egypt</td>\n",
       "    </tr>\n",
       "    <tr>\n",
       "      <th>2</th>\n",
       "      <td>2020-04-11</td>\n",
       "      <td>95</td>\n",
       "      <td>17</td>\n",
       "      <td>Egypt</td>\n",
       "    </tr>\n",
       "    <tr>\n",
       "      <th>3</th>\n",
       "      <td>2020-04-10</td>\n",
       "      <td>139</td>\n",
       "      <td>15</td>\n",
       "      <td>Egypt</td>\n",
       "    </tr>\n",
       "    <tr>\n",
       "      <th>4</th>\n",
       "      <td>2020-04-09</td>\n",
       "      <td>238</td>\n",
       "      <td>18</td>\n",
       "      <td>Egypt</td>\n",
       "    </tr>\n",
       "  </tbody>\n",
       "</table>\n",
       "</div>"
      ],
      "text/plain": [
       "        Date  Confirmed  Deaths Country\n",
       "0 2020-04-13        126      13   Egypt\n",
       "1 2020-04-12        145      11   Egypt\n",
       "2 2020-04-11         95      17   Egypt\n",
       "3 2020-04-10        139      15   Egypt\n",
       "4 2020-04-09        238      18   Egypt"
      ]
     },
     "execution_count": 130,
     "metadata": {},
     "output_type": "execute_result"
    }
   ],
   "source": [
    "# Egypt State\n",
    "df_eg.head()"
   ]
  },
  {
   "cell_type": "code",
   "execution_count": 131,
   "metadata": {},
   "outputs": [],
   "source": [
    "eg_ndf = df_eg.copy()"
   ]
  },
  {
   "cell_type": "code",
   "execution_count": 132,
   "metadata": {},
   "outputs": [],
   "source": [
    "eg_ndf.set_index('Date', inplace=True)\n",
    "eg_ndf.sort_index(inplace=True)"
   ]
  },
  {
   "cell_type": "code",
   "execution_count": 133,
   "metadata": {},
   "outputs": [
    {
     "data": {
      "text/plain": [
       "Confirmed    1\n",
       "Deaths       0\n",
       "dtype: int64"
      ]
     },
     "execution_count": 133,
     "metadata": {},
     "output_type": "execute_result"
    }
   ],
   "source": [
    "eg_ndf.loc['2020-02-01':'2020-03-01'][['Confirmed','Deaths']].sum()"
   ]
  },
  {
   "cell_type": "code",
   "execution_count": 134,
   "metadata": {},
   "outputs": [
    {
     "data": {
      "text/plain": [
       "Confirmed    92\n",
       "Deaths        2\n",
       "dtype: int64"
      ]
     },
     "execution_count": 134,
     "metadata": {},
     "output_type": "execute_result"
    }
   ],
   "source": [
    "eg_ndf.loc['2020-03-01':'2020-03-15'][['Confirmed','Deaths']].sum()"
   ]
  },
  {
   "cell_type": "code",
   "execution_count": 135,
   "metadata": {},
   "outputs": [
    {
     "data": {
      "text/plain": [
       "Confirmed    563\n",
       "Deaths        39\n",
       "dtype: int64"
      ]
     },
     "execution_count": 135,
     "metadata": {},
     "output_type": "execute_result"
    }
   ],
   "source": [
    "eg_ndf.loc['2020-03-15':'2020-04-01'][['Confirmed','Deaths']].sum()"
   ]
  },
  {
   "cell_type": "code",
   "execution_count": 136,
   "metadata": {},
   "outputs": [
    {
     "data": {
      "text/plain": [
       "Confirmed    1456\n",
       "Deaths        119\n",
       "dtype: int64"
      ]
     },
     "execution_count": 136,
     "metadata": {},
     "output_type": "execute_result"
    }
   ],
   "source": [
    "eg_ndf.loc['2020-04-01':'2020-04-13'][['Confirmed','Deaths']].sum()"
   ]
  },
  {
   "cell_type": "code",
   "execution_count": null,
   "metadata": {},
   "outputs": [],
   "source": []
  }
 ],
 "metadata": {
  "kernelspec": {
   "display_name": "Python 3",
   "language": "python",
   "name": "python3"
  },
  "language_info": {
   "codemirror_mode": {
    "name": "ipython",
    "version": 3
   },
   "file_extension": ".py",
   "mimetype": "text/x-python",
   "name": "python",
   "nbconvert_exporter": "python",
   "pygments_lexer": "ipython3",
   "version": "3.7.7"
  },
  "latex_envs": {
   "LaTeX_envs_menu_present": true,
   "autoclose": false,
   "autocomplete": true,
   "bibliofile": "biblio.bib",
   "cite_by": "apalike",
   "current_citInitial": 1,
   "eqLabelWithNumbers": true,
   "eqNumInitial": 1,
   "hotkeys": {
    "equation": "Ctrl-E",
    "itemize": "Ctrl-I"
   },
   "labels_anchors": false,
   "latex_user_defs": false,
   "report_style_numbering": false,
   "user_envs_cfg": false
  }
 },
 "nbformat": 4,
 "nbformat_minor": 4
}
