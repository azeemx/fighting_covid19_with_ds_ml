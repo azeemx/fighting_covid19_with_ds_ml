{
 "cells": [
  {
   "cell_type": "markdown",
   "metadata": {},
   "source": [
    "# Fighting Novel Coronavirus COVID-19 with Data Science & Machine Learning.\n",
    "\n",
    "*By: Ahmed A.Azeem (Biomedical Engineer), Cairo, Egypt.\n",
    "email: eng.aa.azeem80@outlook.com*"
   ]
  },
  {
   "cell_type": "markdown",
   "metadata": {},
   "source": [
    "## Abstract\n",
    "\n",
    "In December 2019, A novel Coronavirus was found in a seafood wholesale market located in Wuhan, China., On 11 February 2020, WHO announced a name for the new coronavirus disease: COVID-19., And was recognised as a pandemic on 11 March 2020.\n",
    "\n",
    "Coronavirus disease 2019 (COVID-19) is an infectious disease caused by severe acute respiratory syndrome coronavirus 2 (SARS-CoV-2) a virus closely related to the SARS virus., The disease was discovered and named during the 2019–20 coronavirus outbreak, Those affected may develop a fever, dry cough, fatigue, and shortness of breath. A sore throat, runny nose or sneezing is less common. While the majority of cases result in mild symptoms, some can progress to pneumonia and multi-organ failure.\n",
    "\n",
    "For more information & sources of trusted data:\n",
    "\n",
    "- https://en.wikipedia.org/wiki/Coronavirus_disease_2019\n",
    "- https://www.who.int/emergencies/diseases/novel-coronavirus-2019\n",
    "- https://www.cdc.gov/coronavirus/2019-ncov/index.html\n",
    "- https://www.ecdc.europa.eu/en/novel-coronavirus-china\n",
    "- https://www.ecdc.europa.eu/en/publications-data/download-todays-data-geographic-distribution-covid-19-cases-worldwide\n",
    "- https://www.arcgis.com/apps/opsdashboard/index.html#/bda7594740fd40299423467b48e9ecf6\n",
    "- https://github.com/CSSEGISandData/COVID-19/tree/master/csse_covid_19_data/csse_covid_19_time_series"
   ]
  },
  {
   "cell_type": "markdown",
   "metadata": {},
   "source": [
    "#### Methodology / Approach\n",
    "CRISP-DM used as a data science methodology.\n",
    "\n",
    "For more information:\n",
    "- https://www.ibm.com/support/knowledgecenter/SS3RA7_15.0.0/com.ibm.spss.crispdm.help/crisp_overview.htm"
   ]
  },
  {
   "cell_type": "markdown",
   "metadata": {},
   "source": [
    "- CRISP-DM consists of six iterative stages.\n",
    "\n",
    "  1. **Business Understanding**: Focuses on understanding the project objectives and requirements from a business perspective, and then converting this knowledge into a data mining problem definition and a preliminary plan.\n",
    "  \n",
    "  2. **Data Understanding**: Starts with initial data collection and proceeds with activities to get familiar with the data, identify data quality problems, discover first insights into the data, or detect interesting subsets to form hypotheses for hidden information.\n",
    "  \n",
    "  3. **Data Preparation**: The data preparation phase covers all activities to construct the final data set from the initial raw data.\n",
    "  \n",
    "  4. **Modeling**: Modeling techniques are selected and applied. Because some techniques like neural networks (a type of a predictive model) have specific requirements regarding the form of the data, there can be a loop back to data preparation.\n",
    "  \n",
    "  5. **Evaluation**: After one or more models are built that appear to have high quality based on whatever we are trying to predict, they need to be tested to ensure that they work against unseen data and that all key business issues are sufficiently considered. The result is the selection of the champion model.\n",
    "  \n",
    "  6. **Deployment**: Generally, deployment means deploying a code representation of the model into an operating system to score or categorize new unseen data as it arises and create a mechanism for the use of that new information in the solution of the original business problem. Importantly, the code representation must include all the data preparation steps leading up to modeling so that the model treats new raw data in the same manner as during model development."
   ]
  },
  {
   "cell_type": "markdown",
   "metadata": {},
   "source": [
    "### Dataset Source\n",
    "\n",
    "*European Centre for Disease Prevention and Control*\n",
    "\n",
    "Situation update worldwide, as of 20 April 2020. (The data has been collected between 6:00 and 10:00 CET)"
   ]
  },
  {
   "cell_type": "code",
   "execution_count": 1,
   "metadata": {},
   "outputs": [],
   "source": [
    "import os\n",
    "import numpy as np\n",
    "import pandas as pd\n",
    "from datetime import datetime\n",
    "import matplotlib.pyplot as plt\n",
    "import seaborn as sns\n",
    "from scipy.optimize import curve_fit\n",
    "\n",
    "%matplotlib inline"
   ]
  },
  {
   "cell_type": "code",
   "execution_count": 2,
   "metadata": {},
   "outputs": [],
   "source": [
    "#last updated dataset\n",
    "url = 'https://www.ecdc.europa.eu/sites/default/files/documents/COVID-19-geographic-disbtribution-worldwide-2020-04-20.xlsx'"
   ]
  },
  {
   "cell_type": "code",
   "execution_count": 3,
   "metadata": {},
   "outputs": [
    {
     "data": {
      "text/plain": [
       "('covid_state_M.xlsx', <http.client.HTTPMessage at 0x7fc0bf7bf0f0>)"
      ]
     },
     "execution_count": 3,
     "metadata": {},
     "output_type": "execute_result"
    }
   ],
   "source": [
    "import urllib.request\n",
    "urllib.request.urlretrieve (url, \"covid_state_M.xlsx\")"
   ]
  },
  {
   "cell_type": "code",
   "execution_count": 4,
   "metadata": {},
   "outputs": [],
   "source": [
    "# Get data from European Centre for Disease Prevention and Control\n",
    "covid_df = pd.read_excel('covid_state_M.xlsx')"
   ]
  },
  {
   "cell_type": "code",
   "execution_count": 5,
   "metadata": {},
   "outputs": [],
   "source": [
    "#covid_df = pd.read_csv('ecdc_2703.csv',encoding='ISO-8859-1')"
   ]
  },
  {
   "cell_type": "code",
   "execution_count": 6,
   "metadata": {},
   "outputs": [
    {
     "data": {
      "text/html": [
       "<div>\n",
       "<style scoped>\n",
       "    .dataframe tbody tr th:only-of-type {\n",
       "        vertical-align: middle;\n",
       "    }\n",
       "\n",
       "    .dataframe tbody tr th {\n",
       "        vertical-align: top;\n",
       "    }\n",
       "\n",
       "    .dataframe thead th {\n",
       "        text-align: right;\n",
       "    }\n",
       "</style>\n",
       "<table border=\"1\" class=\"dataframe\">\n",
       "  <thead>\n",
       "    <tr style=\"text-align: right;\">\n",
       "      <th></th>\n",
       "      <th>dateRep</th>\n",
       "      <th>day</th>\n",
       "      <th>month</th>\n",
       "      <th>year</th>\n",
       "      <th>cases</th>\n",
       "      <th>deaths</th>\n",
       "      <th>geoId</th>\n",
       "      <th>continentExp</th>\n",
       "      <th>countryterritoryCode</th>\n",
       "      <th>popData2018</th>\n",
       "      <th>countriesAndTerritories</th>\n",
       "    </tr>\n",
       "  </thead>\n",
       "  <tbody>\n",
       "    <tr>\n",
       "      <th>0</th>\n",
       "      <td>2020-04-20</td>\n",
       "      <td>20</td>\n",
       "      <td>4</td>\n",
       "      <td>2020</td>\n",
       "      <td>88</td>\n",
       "      <td>3</td>\n",
       "      <td>AF</td>\n",
       "      <td>Asia</td>\n",
       "      <td>AFG</td>\n",
       "      <td>37172386.0</td>\n",
       "      <td>Afghanistan</td>\n",
       "    </tr>\n",
       "    <tr>\n",
       "      <th>1</th>\n",
       "      <td>2020-04-19</td>\n",
       "      <td>19</td>\n",
       "      <td>4</td>\n",
       "      <td>2020</td>\n",
       "      <td>63</td>\n",
       "      <td>0</td>\n",
       "      <td>AF</td>\n",
       "      <td>Asia</td>\n",
       "      <td>AFG</td>\n",
       "      <td>37172386.0</td>\n",
       "      <td>Afghanistan</td>\n",
       "    </tr>\n",
       "    <tr>\n",
       "      <th>2</th>\n",
       "      <td>2020-04-18</td>\n",
       "      <td>18</td>\n",
       "      <td>4</td>\n",
       "      <td>2020</td>\n",
       "      <td>51</td>\n",
       "      <td>1</td>\n",
       "      <td>AF</td>\n",
       "      <td>Asia</td>\n",
       "      <td>AFG</td>\n",
       "      <td>37172386.0</td>\n",
       "      <td>Afghanistan</td>\n",
       "    </tr>\n",
       "    <tr>\n",
       "      <th>3</th>\n",
       "      <td>2020-04-17</td>\n",
       "      <td>17</td>\n",
       "      <td>4</td>\n",
       "      <td>2020</td>\n",
       "      <td>10</td>\n",
       "      <td>4</td>\n",
       "      <td>AF</td>\n",
       "      <td>Asia</td>\n",
       "      <td>AFG</td>\n",
       "      <td>37172386.0</td>\n",
       "      <td>Afghanistan</td>\n",
       "    </tr>\n",
       "    <tr>\n",
       "      <th>4</th>\n",
       "      <td>2020-04-16</td>\n",
       "      <td>16</td>\n",
       "      <td>4</td>\n",
       "      <td>2020</td>\n",
       "      <td>70</td>\n",
       "      <td>2</td>\n",
       "      <td>AF</td>\n",
       "      <td>Asia</td>\n",
       "      <td>AFG</td>\n",
       "      <td>37172386.0</td>\n",
       "      <td>Afghanistan</td>\n",
       "    </tr>\n",
       "  </tbody>\n",
       "</table>\n",
       "</div>"
      ],
      "text/plain": [
       "     dateRep  day  month  year  cases  deaths geoId continentExp  \\\n",
       "0 2020-04-20   20      4  2020     88       3    AF         Asia   \n",
       "1 2020-04-19   19      4  2020     63       0    AF         Asia   \n",
       "2 2020-04-18   18      4  2020     51       1    AF         Asia   \n",
       "3 2020-04-17   17      4  2020     10       4    AF         Asia   \n",
       "4 2020-04-16   16      4  2020     70       2    AF         Asia   \n",
       "\n",
       "  countryterritoryCode  popData2018 countriesAndTerritories  \n",
       "0                  AFG   37172386.0             Afghanistan  \n",
       "1                  AFG   37172386.0             Afghanistan  \n",
       "2                  AFG   37172386.0             Afghanistan  \n",
       "3                  AFG   37172386.0             Afghanistan  \n",
       "4                  AFG   37172386.0             Afghanistan  "
      ]
     },
     "execution_count": 6,
     "metadata": {},
     "output_type": "execute_result"
    }
   ],
   "source": [
    "covid_df.head()"
   ]
  },
  {
   "cell_type": "code",
   "execution_count": 7,
   "metadata": {},
   "outputs": [],
   "source": [
    "covid_df['dateRep'] = pd.to_datetime(covid_df['dateRep'], format='%d/%m/%Y')"
   ]
  },
  {
   "cell_type": "code",
   "execution_count": 8,
   "metadata": {},
   "outputs": [
    {
     "data": {
      "text/plain": [
       "geoId                    37\n",
       "countryterritoryCode    125\n",
       "popData2018              91\n",
       "dtype: int64"
      ]
     },
     "execution_count": 8,
     "metadata": {},
     "output_type": "execute_result"
    }
   ],
   "source": [
    "covid_df.isna().sum()[covid_df.isna().sum()>0]"
   ]
  },
  {
   "cell_type": "code",
   "execution_count": 9,
   "metadata": {},
   "outputs": [
    {
     "data": {
      "text/plain": [
       "dateRep                    datetime64[ns]\n",
       "day                                 int64\n",
       "month                               int64\n",
       "year                                int64\n",
       "cases                               int64\n",
       "deaths                              int64\n",
       "geoId                              object\n",
       "continentExp                       object\n",
       "countryterritoryCode               object\n",
       "popData2018                       float64\n",
       "countriesAndTerritories            object\n",
       "dtype: object"
      ]
     },
     "execution_count": 9,
     "metadata": {},
     "output_type": "execute_result"
    }
   ],
   "source": [
    "covid_df.dtypes"
   ]
  },
  {
   "cell_type": "code",
   "execution_count": 10,
   "metadata": {},
   "outputs": [],
   "source": [
    "covid_df.rename(columns={'dateRep': 'Date', 'countriesAndTerritories': 'Country', 'cases': 'Confirmed','deaths': 'Deaths', 'continentExp': 'Continent'}, inplace=True)"
   ]
  },
  {
   "cell_type": "code",
   "execution_count": 11,
   "metadata": {},
   "outputs": [],
   "source": [
    "covid_df.to_csv('updated.csv')"
   ]
  },
  {
   "cell_type": "code",
   "execution_count": 12,
   "metadata": {},
   "outputs": [],
   "source": [
    "ndf = pd.read_csv('updated.csv',parse_dates=['Date'], index_col='Date')"
   ]
  },
  {
   "cell_type": "code",
   "execution_count": 13,
   "metadata": {},
   "outputs": [],
   "source": [
    "ndf = ndf.drop(['Unnamed: 0', 'geoId', 'day', 'month', 'year', 'countryterritoryCode', 'popData2018'], axis=1)"
   ]
  },
  {
   "cell_type": "code",
   "execution_count": 14,
   "metadata": {},
   "outputs": [
    {
     "data": {
      "text/html": [
       "<div>\n",
       "<style scoped>\n",
       "    .dataframe tbody tr th:only-of-type {\n",
       "        vertical-align: middle;\n",
       "    }\n",
       "\n",
       "    .dataframe tbody tr th {\n",
       "        vertical-align: top;\n",
       "    }\n",
       "\n",
       "    .dataframe thead th {\n",
       "        text-align: right;\n",
       "    }\n",
       "</style>\n",
       "<table border=\"1\" class=\"dataframe\">\n",
       "  <thead>\n",
       "    <tr style=\"text-align: right;\">\n",
       "      <th></th>\n",
       "      <th>Confirmed</th>\n",
       "      <th>Deaths</th>\n",
       "      <th>Continent</th>\n",
       "      <th>Country</th>\n",
       "    </tr>\n",
       "    <tr>\n",
       "      <th>Date</th>\n",
       "      <th></th>\n",
       "      <th></th>\n",
       "      <th></th>\n",
       "      <th></th>\n",
       "    </tr>\n",
       "  </thead>\n",
       "  <tbody>\n",
       "    <tr>\n",
       "      <th>2020-04-20</th>\n",
       "      <td>88</td>\n",
       "      <td>3</td>\n",
       "      <td>Asia</td>\n",
       "      <td>Afghanistan</td>\n",
       "    </tr>\n",
       "    <tr>\n",
       "      <th>2020-04-19</th>\n",
       "      <td>63</td>\n",
       "      <td>0</td>\n",
       "      <td>Asia</td>\n",
       "      <td>Afghanistan</td>\n",
       "    </tr>\n",
       "    <tr>\n",
       "      <th>2020-04-18</th>\n",
       "      <td>51</td>\n",
       "      <td>1</td>\n",
       "      <td>Asia</td>\n",
       "      <td>Afghanistan</td>\n",
       "    </tr>\n",
       "    <tr>\n",
       "      <th>2020-04-17</th>\n",
       "      <td>10</td>\n",
       "      <td>4</td>\n",
       "      <td>Asia</td>\n",
       "      <td>Afghanistan</td>\n",
       "    </tr>\n",
       "    <tr>\n",
       "      <th>2020-04-16</th>\n",
       "      <td>70</td>\n",
       "      <td>2</td>\n",
       "      <td>Asia</td>\n",
       "      <td>Afghanistan</td>\n",
       "    </tr>\n",
       "  </tbody>\n",
       "</table>\n",
       "</div>"
      ],
      "text/plain": [
       "            Confirmed  Deaths Continent      Country\n",
       "Date                                                \n",
       "2020-04-20         88       3      Asia  Afghanistan\n",
       "2020-04-19         63       0      Asia  Afghanistan\n",
       "2020-04-18         51       1      Asia  Afghanistan\n",
       "2020-04-17         10       4      Asia  Afghanistan\n",
       "2020-04-16         70       2      Asia  Afghanistan"
      ]
     },
     "execution_count": 14,
     "metadata": {},
     "output_type": "execute_result"
    }
   ],
   "source": [
    "ndf.head()"
   ]
  },
  {
   "cell_type": "code",
   "execution_count": 15,
   "metadata": {},
   "outputs": [],
   "source": [
    "#ndf.Country.unique()"
   ]
  },
  {
   "cell_type": "code",
   "execution_count": 16,
   "metadata": {},
   "outputs": [],
   "source": [
    "# Rename Countries\n",
    "ndf['Country']= ndf['Country'].str.replace('Antigua_and_Barbuda','Antigua & Barbuda')\n",
    "ndf['Country']= ndf['Country'].str.replace('United_Kingdom', 'UK')\n",
    "ndf['Country']= ndf['Country'].str.replace('United_States_of_America', 'US')\n",
    "ndf['Country']= ndf['Country'].str.replace('United_Arab_Emirates', 'Emirates')\n",
    "ndf['Country']= ndf['Country'].str.replace('Holy_See', 'Vatican')\n",
    "ndf['Country']= ndf['Country'].str.replace('Bosnia_and_Herzegovina','Bosnia & Herzegovina')\n",
    "ndf['Country']= ndf['Country'].str.replace('Brunei_Darussalam','Brunei')\n",
    "ndf['Country']= ndf['Country'].str.replace('Burkina_Faso','Burkina Faso')\n",
    "ndf['Country']= ndf['Country'].str.replace('CANADA','Canada')\n",
    "ndf['Country']= ndf['Country'].str.replace('Cases_on_an_international_conveyance_Japan','The Diamond Princess')\n",
    "ndf['Country']= ndf['Country'].str.replace('Central_African_Republic','Central African Rep.')\n",
    "ndf['Country']= ndf['Country'].str.replace('Costa_Rica','Costa Rica')\n",
    "ndf['Country']= ndf['Country'].str.replace(\"Cote_dIvoire\",\"Cote d'ivoire\")\n",
    "ndf['Country']= ndf['Country'].str.replace('Czech_Republic','Czech Rep.')\n",
    "ndf['Country']= ndf['Country'].str.replace('Democratic_Republic_of_the_Congo','Congo-Kinshasa')\n",
    "ndf['Country']= ndf['Country'].str.replace('Equatorial_Guinea','Guinea')\n",
    "ndf['Country']= ndf['Country'].str.replace('Eswatini','Eswatini-Swaziland')\n",
    "ndf['Country']= ndf['Country'].str.replace('New_Zealand','New Zealand')\n",
    "ndf['Country']= ndf['Country'].str.replace('North_Macedonia','Macedonia')\n",
    "ndf['Country']= ndf['Country'].str.replace('Saint_Lucia','Saint Lucia')\n",
    "ndf['Country']= ndf['Country'].str.replace('Saint_Vincent_and_the_Grenadines','Saint Vincent')\n",
    "ndf['Country']= ndf['Country'].str.replace('San_Marino','San Marino')\n",
    "ndf['Country']= ndf['Country'].str.replace('Saudi_Arabia','Saudi Arabia')\n",
    "ndf['Country']= ndf['Country'].str.replace('South_Africa','South Africa')\n",
    "ndf['Country']= ndf['Country'].str.replace('South_Korea','South Korea')\n",
    "ndf['Country']= ndf['Country'].str.replace('Sri_Lanka','Sri Lanka')\n",
    "ndf['Country']= ndf['Country'].str.replace('Trinidad_and_Tobago','Trinidad & Tobago')\n",
    "ndf['Country']= ndf['Country'].str.replace('United_Republic_of_Tanzania','Tanzania')\n",
    "ndf['Country']= ndf['Country'].str.replace('Dominican_Republic','Dominican Rep.')"
   ]
  },
  {
   "cell_type": "code",
   "execution_count": 17,
   "metadata": {},
   "outputs": [],
   "source": [
    "#ndf.Country.duplicated()"
   ]
  },
  {
   "cell_type": "code",
   "execution_count": 18,
   "metadata": {},
   "outputs": [],
   "source": [
    "#duplicateRows = ndf[ndf.duplicated()]\n",
    "#print(duplicateRows)"
   ]
  },
  {
   "cell_type": "code",
   "execution_count": 19,
   "metadata": {},
   "outputs": [],
   "source": [
    "# Select all duplicate rows based on one column\n",
    "#duplicateRows = ndf[ndf.duplicated(['Country', 'Confirmed', 'Deaths'])]\n",
    "#print(\"Duplicate Rows based on a 3 columns are:\", duplicateRows, sep='\\n')"
   ]
  },
  {
   "cell_type": "code",
   "execution_count": 20,
   "metadata": {},
   "outputs": [
    {
     "data": {
      "text/html": [
       "<div>\n",
       "<style scoped>\n",
       "    .dataframe tbody tr th:only-of-type {\n",
       "        vertical-align: middle;\n",
       "    }\n",
       "\n",
       "    .dataframe tbody tr th {\n",
       "        vertical-align: top;\n",
       "    }\n",
       "\n",
       "    .dataframe thead th {\n",
       "        text-align: right;\n",
       "    }\n",
       "</style>\n",
       "<table border=\"1\" class=\"dataframe\">\n",
       "  <thead>\n",
       "    <tr style=\"text-align: right;\">\n",
       "      <th></th>\n",
       "      <th>Confirmed</th>\n",
       "      <th>Deaths</th>\n",
       "      <th>Continent</th>\n",
       "      <th>Country</th>\n",
       "    </tr>\n",
       "    <tr>\n",
       "      <th>Date</th>\n",
       "      <th></th>\n",
       "      <th></th>\n",
       "      <th></th>\n",
       "      <th></th>\n",
       "    </tr>\n",
       "  </thead>\n",
       "  <tbody>\n",
       "    <tr>\n",
       "      <th>2020-04-20</th>\n",
       "      <td>88</td>\n",
       "      <td>3</td>\n",
       "      <td>Asia</td>\n",
       "      <td>Afghanistan</td>\n",
       "    </tr>\n",
       "    <tr>\n",
       "      <th>2020-04-19</th>\n",
       "      <td>63</td>\n",
       "      <td>0</td>\n",
       "      <td>Asia</td>\n",
       "      <td>Afghanistan</td>\n",
       "    </tr>\n",
       "    <tr>\n",
       "      <th>2020-04-18</th>\n",
       "      <td>51</td>\n",
       "      <td>1</td>\n",
       "      <td>Asia</td>\n",
       "      <td>Afghanistan</td>\n",
       "    </tr>\n",
       "    <tr>\n",
       "      <th>2020-04-17</th>\n",
       "      <td>10</td>\n",
       "      <td>4</td>\n",
       "      <td>Asia</td>\n",
       "      <td>Afghanistan</td>\n",
       "    </tr>\n",
       "    <tr>\n",
       "      <th>2020-04-16</th>\n",
       "      <td>70</td>\n",
       "      <td>2</td>\n",
       "      <td>Asia</td>\n",
       "      <td>Afghanistan</td>\n",
       "    </tr>\n",
       "  </tbody>\n",
       "</table>\n",
       "</div>"
      ],
      "text/plain": [
       "            Confirmed  Deaths Continent      Country\n",
       "Date                                                \n",
       "2020-04-20         88       3      Asia  Afghanistan\n",
       "2020-04-19         63       0      Asia  Afghanistan\n",
       "2020-04-18         51       1      Asia  Afghanistan\n",
       "2020-04-17         10       4      Asia  Afghanistan\n",
       "2020-04-16         70       2      Asia  Afghanistan"
      ]
     },
     "execution_count": 20,
     "metadata": {},
     "output_type": "execute_result"
    }
   ],
   "source": [
    "ndf.head()"
   ]
  },
  {
   "cell_type": "code",
   "execution_count": 21,
   "metadata": {},
   "outputs": [
    {
     "data": {
      "text/html": [
       "<div>\n",
       "<style scoped>\n",
       "    .dataframe tbody tr th:only-of-type {\n",
       "        vertical-align: middle;\n",
       "    }\n",
       "\n",
       "    .dataframe tbody tr th {\n",
       "        vertical-align: top;\n",
       "    }\n",
       "\n",
       "    .dataframe thead th {\n",
       "        text-align: right;\n",
       "    }\n",
       "</style>\n",
       "<table border=\"1\" class=\"dataframe\">\n",
       "  <thead>\n",
       "    <tr style=\"text-align: right;\">\n",
       "      <th></th>\n",
       "      <th>Country</th>\n",
       "      <th>Deaths</th>\n",
       "    </tr>\n",
       "  </thead>\n",
       "  <tbody>\n",
       "    <tr>\n",
       "      <th>193</th>\n",
       "      <td>US</td>\n",
       "      <td>40682</td>\n",
       "    </tr>\n",
       "    <tr>\n",
       "      <th>96</th>\n",
       "      <td>Italy</td>\n",
       "      <td>23660</td>\n",
       "    </tr>\n",
       "    <tr>\n",
       "      <th>175</th>\n",
       "      <td>Spain</td>\n",
       "      <td>20453</td>\n",
       "    </tr>\n",
       "    <tr>\n",
       "      <th>68</th>\n",
       "      <td>France</td>\n",
       "      <td>19718</td>\n",
       "    </tr>\n",
       "    <tr>\n",
       "      <th>192</th>\n",
       "      <td>UK</td>\n",
       "      <td>16060</td>\n",
       "    </tr>\n",
       "    <tr>\n",
       "      <th>18</th>\n",
       "      <td>Belgium</td>\n",
       "      <td>5683</td>\n",
       "    </tr>\n",
       "    <tr>\n",
       "      <th>91</th>\n",
       "      <td>Iran</td>\n",
       "      <td>5118</td>\n",
       "    </tr>\n",
       "    <tr>\n",
       "      <th>41</th>\n",
       "      <td>China</td>\n",
       "      <td>4636</td>\n",
       "    </tr>\n",
       "    <tr>\n",
       "      <th>73</th>\n",
       "      <td>Germany</td>\n",
       "      <td>4404</td>\n",
       "    </tr>\n",
       "    <tr>\n",
       "      <th>134</th>\n",
       "      <td>Netherlands</td>\n",
       "      <td>3684</td>\n",
       "    </tr>\n",
       "    <tr>\n",
       "      <th>27</th>\n",
       "      <td>Brazil</td>\n",
       "      <td>2462</td>\n",
       "    </tr>\n",
       "    <tr>\n",
       "      <th>190</th>\n",
       "      <td>Turkey</td>\n",
       "      <td>2017</td>\n",
       "    </tr>\n",
       "    <tr>\n",
       "      <th>35</th>\n",
       "      <td>Canada</td>\n",
       "      <td>1580</td>\n",
       "    </tr>\n",
       "    <tr>\n",
       "      <th>179</th>\n",
       "      <td>Sweden</td>\n",
       "      <td>1540</td>\n",
       "    </tr>\n",
       "    <tr>\n",
       "      <th>180</th>\n",
       "      <td>Switzerland</td>\n",
       "      <td>1134</td>\n",
       "    </tr>\n",
       "    <tr>\n",
       "      <th>151</th>\n",
       "      <td>Portugal</td>\n",
       "      <td>714</td>\n",
       "    </tr>\n",
       "    <tr>\n",
       "      <th>123</th>\n",
       "      <td>Mexico</td>\n",
       "      <td>686</td>\n",
       "    </tr>\n",
       "    <tr>\n",
       "      <th>93</th>\n",
       "      <td>Ireland</td>\n",
       "      <td>610</td>\n",
       "    </tr>\n",
       "    <tr>\n",
       "      <th>90</th>\n",
       "      <td>Indonesia</td>\n",
       "      <td>582</td>\n",
       "    </tr>\n",
       "    <tr>\n",
       "      <th>89</th>\n",
       "      <td>India</td>\n",
       "      <td>543</td>\n",
       "    </tr>\n",
       "    <tr>\n",
       "      <th>56</th>\n",
       "      <td>Ecuador</td>\n",
       "      <td>474</td>\n",
       "    </tr>\n",
       "    <tr>\n",
       "      <th>11</th>\n",
       "      <td>Austria</td>\n",
       "      <td>452</td>\n",
       "    </tr>\n",
       "    <tr>\n",
       "      <th>154</th>\n",
       "      <td>Romania</td>\n",
       "      <td>434</td>\n",
       "    </tr>\n",
       "    <tr>\n",
       "      <th>149</th>\n",
       "      <td>Philippines</td>\n",
       "      <td>409</td>\n",
       "    </tr>\n",
       "    <tr>\n",
       "      <th>148</th>\n",
       "      <td>Peru</td>\n",
       "      <td>400</td>\n",
       "    </tr>\n",
       "    <tr>\n",
       "      <th>2</th>\n",
       "      <td>Algeria</td>\n",
       "      <td>375</td>\n",
       "    </tr>\n",
       "    <tr>\n",
       "      <th>155</th>\n",
       "      <td>Russia</td>\n",
       "      <td>361</td>\n",
       "    </tr>\n",
       "    <tr>\n",
       "      <th>150</th>\n",
       "      <td>Poland</td>\n",
       "      <td>360</td>\n",
       "    </tr>\n",
       "    <tr>\n",
       "      <th>52</th>\n",
       "      <td>Denmark</td>\n",
       "      <td>355</td>\n",
       "    </tr>\n",
       "    <tr>\n",
       "      <th>57</th>\n",
       "      <td>Egypt</td>\n",
       "      <td>239</td>\n",
       "    </tr>\n",
       "  </tbody>\n",
       "</table>\n",
       "</div>"
      ],
      "text/plain": [
       "         Country  Deaths\n",
       "193           US   40682\n",
       "96         Italy   23660\n",
       "175        Spain   20453\n",
       "68        France   19718\n",
       "192           UK   16060\n",
       "18       Belgium    5683\n",
       "91          Iran    5118\n",
       "41         China    4636\n",
       "73       Germany    4404\n",
       "134  Netherlands    3684\n",
       "27        Brazil    2462\n",
       "190       Turkey    2017\n",
       "35        Canada    1580\n",
       "179       Sweden    1540\n",
       "180  Switzerland    1134\n",
       "151     Portugal     714\n",
       "123       Mexico     686\n",
       "93       Ireland     610\n",
       "90     Indonesia     582\n",
       "89         India     543\n",
       "56       Ecuador     474\n",
       "11       Austria     452\n",
       "154      Romania     434\n",
       "149  Philippines     409\n",
       "148         Peru     400\n",
       "2        Algeria     375\n",
       "155       Russia     361\n",
       "150       Poland     360\n",
       "52       Denmark     355\n",
       "57         Egypt     239"
      ]
     },
     "execution_count": 21,
     "metadata": {},
     "output_type": "execute_result"
    }
   ],
   "source": [
    "# By Country\n",
    "deaths_by_country = ndf.groupby(['Country'])['Deaths'].sum().to_frame(name = 'Deaths').reset_index()\n",
    "deaths_by_country.columns = ['Country','Deaths']\n",
    "deaths_by_country.sort_values(by='Deaths', ascending=False, inplace=True)\n",
    "deaths_by_country.head(30)"
   ]
  },
  {
   "cell_type": "code",
   "execution_count": 22,
   "metadata": {},
   "outputs": [
    {
     "data": {
      "text/html": [
       "<div>\n",
       "<style scoped>\n",
       "    .dataframe tbody tr th:only-of-type {\n",
       "        vertical-align: middle;\n",
       "    }\n",
       "\n",
       "    .dataframe tbody tr th {\n",
       "        vertical-align: top;\n",
       "    }\n",
       "\n",
       "    .dataframe thead th {\n",
       "        text-align: right;\n",
       "    }\n",
       "</style>\n",
       "<table border=\"1\" class=\"dataframe\">\n",
       "  <thead>\n",
       "    <tr style=\"text-align: right;\">\n",
       "      <th></th>\n",
       "      <th>Continent</th>\n",
       "      <th>Deaths</th>\n",
       "    </tr>\n",
       "  </thead>\n",
       "  <tbody>\n",
       "    <tr>\n",
       "      <th>3</th>\n",
       "      <td>Europe</td>\n",
       "      <td>101408</td>\n",
       "    </tr>\n",
       "    <tr>\n",
       "      <th>1</th>\n",
       "      <td>America</td>\n",
       "      <td>47369</td>\n",
       "    </tr>\n",
       "    <tr>\n",
       "      <th>2</th>\n",
       "      <td>Asia</td>\n",
       "      <td>14663</td>\n",
       "    </tr>\n",
       "    <tr>\n",
       "      <th>0</th>\n",
       "      <td>Africa</td>\n",
       "      <td>1120</td>\n",
       "    </tr>\n",
       "    <tr>\n",
       "      <th>4</th>\n",
       "      <td>Oceania</td>\n",
       "      <td>89</td>\n",
       "    </tr>\n",
       "  </tbody>\n",
       "</table>\n",
       "</div>"
      ],
      "text/plain": [
       "  Continent  Deaths\n",
       "3    Europe  101408\n",
       "1   America   47369\n",
       "2      Asia   14663\n",
       "0    Africa    1120\n",
       "4   Oceania      89"
      ]
     },
     "execution_count": 22,
     "metadata": {},
     "output_type": "execute_result"
    }
   ],
   "source": [
    "# By Continent\n",
    "deaths_by_continent = ndf.groupby(['Continent'])['Deaths'].sum().to_frame(name = 'Deaths').reset_index()\n",
    "deaths_by_continent.columns = ['Continent','Deaths']\n",
    "deaths_by_continent.sort_values(by='Deaths', ascending=False, inplace=True)\n",
    "deaths_by_continent.head()"
   ]
  },
  {
   "cell_type": "code",
   "execution_count": 23,
   "metadata": {},
   "outputs": [
    {
     "data": {
      "text/plain": [
       "<matplotlib.axes._subplots.AxesSubplot at 0x7fc0bf14e160>"
      ]
     },
     "execution_count": 23,
     "metadata": {},
     "output_type": "execute_result"
    },
    {
     "data": {
      "image/png": "[encoded data removed]",
      "text/plain": [
       "<Figure size 432x288 with 1 Axes>"
      ]
     },
     "metadata": {},
     "output_type": "display_data"
    }
   ],
   "source": [
    "deaths_by_continent.plot(kind='bar', x='Continent', y='Deaths', legend=True)"
   ]
  },
  {
   "cell_type": "code",
   "execution_count": 24,
   "metadata": {},
   "outputs": [
    {
     "data": {
      "text/html": [
       "<div>\n",
       "<style scoped>\n",
       "    .dataframe tbody tr th:only-of-type {\n",
       "        vertical-align: middle;\n",
       "    }\n",
       "\n",
       "    .dataframe tbody tr th {\n",
       "        vertical-align: top;\n",
       "    }\n",
       "\n",
       "    .dataframe thead th {\n",
       "        text-align: right;\n",
       "    }\n",
       "</style>\n",
       "<table border=\"1\" class=\"dataframe\">\n",
       "  <thead>\n",
       "    <tr style=\"text-align: right;\">\n",
       "      <th></th>\n",
       "      <th>Country</th>\n",
       "      <th>Confirmed</th>\n",
       "    </tr>\n",
       "  </thead>\n",
       "  <tbody>\n",
       "    <tr>\n",
       "      <th>193</th>\n",
       "      <td>US</td>\n",
       "      <td>759687</td>\n",
       "    </tr>\n",
       "    <tr>\n",
       "      <th>175</th>\n",
       "      <td>Spain</td>\n",
       "      <td>195944</td>\n",
       "    </tr>\n",
       "    <tr>\n",
       "      <th>96</th>\n",
       "      <td>Italy</td>\n",
       "      <td>178972</td>\n",
       "    </tr>\n",
       "    <tr>\n",
       "      <th>73</th>\n",
       "      <td>Germany</td>\n",
       "      <td>141672</td>\n",
       "    </tr>\n",
       "    <tr>\n",
       "      <th>192</th>\n",
       "      <td>UK</td>\n",
       "      <td>120067</td>\n",
       "    </tr>\n",
       "    <tr>\n",
       "      <th>68</th>\n",
       "      <td>France</td>\n",
       "      <td>112606</td>\n",
       "    </tr>\n",
       "    <tr>\n",
       "      <th>190</th>\n",
       "      <td>Turkey</td>\n",
       "      <td>86306</td>\n",
       "    </tr>\n",
       "    <tr>\n",
       "      <th>41</th>\n",
       "      <td>China</td>\n",
       "      <td>83817</td>\n",
       "    </tr>\n",
       "    <tr>\n",
       "      <th>91</th>\n",
       "      <td>Iran</td>\n",
       "      <td>82211</td>\n",
       "    </tr>\n",
       "    <tr>\n",
       "      <th>155</th>\n",
       "      <td>Russia</td>\n",
       "      <td>42853</td>\n",
       "    </tr>\n",
       "    <tr>\n",
       "      <th>27</th>\n",
       "      <td>Brazil</td>\n",
       "      <td>38654</td>\n",
       "    </tr>\n",
       "    <tr>\n",
       "      <th>18</th>\n",
       "      <td>Belgium</td>\n",
       "      <td>38496</td>\n",
       "    </tr>\n",
       "    <tr>\n",
       "      <th>35</th>\n",
       "      <td>Canada</td>\n",
       "      <td>34777</td>\n",
       "    </tr>\n",
       "    <tr>\n",
       "      <th>134</th>\n",
       "      <td>Netherlands</td>\n",
       "      <td>32655</td>\n",
       "    </tr>\n",
       "    <tr>\n",
       "      <th>180</th>\n",
       "      <td>Switzerland</td>\n",
       "      <td>27658</td>\n",
       "    </tr>\n",
       "    <tr>\n",
       "      <th>151</th>\n",
       "      <td>Portugal</td>\n",
       "      <td>20206</td>\n",
       "    </tr>\n",
       "    <tr>\n",
       "      <th>89</th>\n",
       "      <td>India</td>\n",
       "      <td>17265</td>\n",
       "    </tr>\n",
       "    <tr>\n",
       "      <th>148</th>\n",
       "      <td>Peru</td>\n",
       "      <td>15628</td>\n",
       "    </tr>\n",
       "    <tr>\n",
       "      <th>93</th>\n",
       "      <td>Ireland</td>\n",
       "      <td>15251</td>\n",
       "    </tr>\n",
       "    <tr>\n",
       "      <th>11</th>\n",
       "      <td>Austria</td>\n",
       "      <td>14710</td>\n",
       "    </tr>\n",
       "    <tr>\n",
       "      <th>179</th>\n",
       "      <td>Sweden</td>\n",
       "      <td>14385</td>\n",
       "    </tr>\n",
       "    <tr>\n",
       "      <th>95</th>\n",
       "      <td>Israel</td>\n",
       "      <td>13491</td>\n",
       "    </tr>\n",
       "    <tr>\n",
       "      <th>98</th>\n",
       "      <td>Japan</td>\n",
       "      <td>10751</td>\n",
       "    </tr>\n",
       "    <tr>\n",
       "      <th>173</th>\n",
       "      <td>South Korea</td>\n",
       "      <td>10674</td>\n",
       "    </tr>\n",
       "    <tr>\n",
       "      <th>40</th>\n",
       "      <td>Chile</td>\n",
       "      <td>10088</td>\n",
       "    </tr>\n",
       "    <tr>\n",
       "      <th>56</th>\n",
       "      <td>Ecuador</td>\n",
       "      <td>9468</td>\n",
       "    </tr>\n",
       "    <tr>\n",
       "      <th>162</th>\n",
       "      <td>Saudi Arabia</td>\n",
       "      <td>9362</td>\n",
       "    </tr>\n",
       "    <tr>\n",
       "      <th>150</th>\n",
       "      <td>Poland</td>\n",
       "      <td>9287</td>\n",
       "    </tr>\n",
       "    <tr>\n",
       "      <th>154</th>\n",
       "      <td>Romania</td>\n",
       "      <td>8746</td>\n",
       "    </tr>\n",
       "    <tr>\n",
       "      <th>143</th>\n",
       "      <td>Pakistan</td>\n",
       "      <td>8418</td>\n",
       "    </tr>\n",
       "    <tr>\n",
       "      <th>123</th>\n",
       "      <td>Mexico</td>\n",
       "      <td>8261</td>\n",
       "    </tr>\n",
       "    <tr>\n",
       "      <th>52</th>\n",
       "      <td>Denmark</td>\n",
       "      <td>7384</td>\n",
       "    </tr>\n",
       "    <tr>\n",
       "      <th>141</th>\n",
       "      <td>Norway</td>\n",
       "      <td>7068</td>\n",
       "    </tr>\n",
       "    <tr>\n",
       "      <th>51</th>\n",
       "      <td>Czechia</td>\n",
       "      <td>6787</td>\n",
       "    </tr>\n",
       "    <tr>\n",
       "      <th>59</th>\n",
       "      <td>Emirates</td>\n",
       "      <td>6781</td>\n",
       "    </tr>\n",
       "    <tr>\n",
       "      <th>10</th>\n",
       "      <td>Australia</td>\n",
       "      <td>6612</td>\n",
       "    </tr>\n",
       "    <tr>\n",
       "      <th>167</th>\n",
       "      <td>Singapore</td>\n",
       "      <td>6588</td>\n",
       "    </tr>\n",
       "    <tr>\n",
       "      <th>90</th>\n",
       "      <td>Indonesia</td>\n",
       "      <td>6575</td>\n",
       "    </tr>\n",
       "    <tr>\n",
       "      <th>164</th>\n",
       "      <td>Serbia</td>\n",
       "      <td>6318</td>\n",
       "    </tr>\n",
       "    <tr>\n",
       "      <th>149</th>\n",
       "      <td>Philippines</td>\n",
       "      <td>6259</td>\n",
       "    </tr>\n",
       "    <tr>\n",
       "      <th>195</th>\n",
       "      <td>Ukraine</td>\n",
       "      <td>5710</td>\n",
       "    </tr>\n",
       "    <tr>\n",
       "      <th>153</th>\n",
       "      <td>Qatar</td>\n",
       "      <td>5448</td>\n",
       "    </tr>\n",
       "    <tr>\n",
       "      <th>117</th>\n",
       "      <td>Malaysia</td>\n",
       "      <td>5389</td>\n",
       "    </tr>\n",
       "    <tr>\n",
       "      <th>17</th>\n",
       "      <td>Belarus</td>\n",
       "      <td>4779</td>\n",
       "    </tr>\n",
       "    <tr>\n",
       "      <th>55</th>\n",
       "      <td>Dominican Rep.</td>\n",
       "      <td>4680</td>\n",
       "    </tr>\n",
       "    <tr>\n",
       "      <th>145</th>\n",
       "      <td>Panama</td>\n",
       "      <td>4467</td>\n",
       "    </tr>\n",
       "    <tr>\n",
       "      <th>42</th>\n",
       "      <td>Colombia</td>\n",
       "      <td>3792</td>\n",
       "    </tr>\n",
       "    <tr>\n",
       "      <th>67</th>\n",
       "      <td>Finland</td>\n",
       "      <td>3783</td>\n",
       "    </tr>\n",
       "    <tr>\n",
       "      <th>113</th>\n",
       "      <td>Luxembourg</td>\n",
       "      <td>3550</td>\n",
       "    </tr>\n",
       "    <tr>\n",
       "      <th>172</th>\n",
       "      <td>South Africa</td>\n",
       "      <td>3158</td>\n",
       "    </tr>\n",
       "  </tbody>\n",
       "</table>\n",
       "</div>"
      ],
      "text/plain": [
       "            Country  Confirmed\n",
       "193              US     759687\n",
       "175           Spain     195944\n",
       "96            Italy     178972\n",
       "73          Germany     141672\n",
       "192              UK     120067\n",
       "68           France     112606\n",
       "190          Turkey      86306\n",
       "41            China      83817\n",
       "91             Iran      82211\n",
       "155          Russia      42853\n",
       "27           Brazil      38654\n",
       "18          Belgium      38496\n",
       "35           Canada      34777\n",
       "134     Netherlands      32655\n",
       "180     Switzerland      27658\n",
       "151        Portugal      20206\n",
       "89            India      17265\n",
       "148            Peru      15628\n",
       "93          Ireland      15251\n",
       "11          Austria      14710\n",
       "179          Sweden      14385\n",
       "95           Israel      13491\n",
       "98            Japan      10751\n",
       "173     South Korea      10674\n",
       "40            Chile      10088\n",
       "56          Ecuador       9468\n",
       "162    Saudi Arabia       9362\n",
       "150          Poland       9287\n",
       "154         Romania       8746\n",
       "143        Pakistan       8418\n",
       "123          Mexico       8261\n",
       "52          Denmark       7384\n",
       "141          Norway       7068\n",
       "51          Czechia       6787\n",
       "59         Emirates       6781\n",
       "10        Australia       6612\n",
       "167       Singapore       6588\n",
       "90        Indonesia       6575\n",
       "164          Serbia       6318\n",
       "149     Philippines       6259\n",
       "195         Ukraine       5710\n",
       "153           Qatar       5448\n",
       "117        Malaysia       5389\n",
       "17          Belarus       4779\n",
       "55   Dominican Rep.       4680\n",
       "145          Panama       4467\n",
       "42         Colombia       3792\n",
       "67          Finland       3783\n",
       "113      Luxembourg       3550\n",
       "172    South Africa       3158"
      ]
     },
     "execution_count": 24,
     "metadata": {},
     "output_type": "execute_result"
    }
   ],
   "source": [
    "# By Country\n",
    "confirmed_by_country = ndf.groupby(['Country'])['Confirmed'].sum().to_frame(name = 'Confirmed').reset_index()\n",
    "confirmed_by_country.columns = ['Country','Confirmed']\n",
    "confirmed_by_country.sort_values(by='Confirmed', ascending=False, inplace=True)\n",
    "confirmed_by_country.head(50)"
   ]
  },
  {
   "cell_type": "code",
   "execution_count": 25,
   "metadata": {},
   "outputs": [
    {
     "data": {
      "text/html": [
       "<div>\n",
       "<style scoped>\n",
       "    .dataframe tbody tr th:only-of-type {\n",
       "        vertical-align: middle;\n",
       "    }\n",
       "\n",
       "    .dataframe tbody tr th {\n",
       "        vertical-align: top;\n",
       "    }\n",
       "\n",
       "    .dataframe thead th {\n",
       "        text-align: right;\n",
       "    }\n",
       "</style>\n",
       "<table border=\"1\" class=\"dataframe\">\n",
       "  <thead>\n",
       "    <tr style=\"text-align: right;\">\n",
       "      <th></th>\n",
       "      <th>Continent</th>\n",
       "      <th>Confirmed</th>\n",
       "    </tr>\n",
       "  </thead>\n",
       "  <tbody>\n",
       "    <tr>\n",
       "      <th>3</th>\n",
       "      <td>Europe</td>\n",
       "      <td>1046854</td>\n",
       "    </tr>\n",
       "    <tr>\n",
       "      <th>1</th>\n",
       "      <td>America</td>\n",
       "      <td>899051</td>\n",
       "    </tr>\n",
       "    <tr>\n",
       "      <th>2</th>\n",
       "      <td>Asia</td>\n",
       "      <td>378985</td>\n",
       "    </tr>\n",
       "    <tr>\n",
       "      <th>0</th>\n",
       "      <td>Africa</td>\n",
       "      <td>22303</td>\n",
       "    </tr>\n",
       "    <tr>\n",
       "      <th>4</th>\n",
       "      <td>Oceania</td>\n",
       "      <td>7964</td>\n",
       "    </tr>\n",
       "  </tbody>\n",
       "</table>\n",
       "</div>"
      ],
      "text/plain": [
       "  Continent  Confirmed\n",
       "3    Europe    1046854\n",
       "1   America     899051\n",
       "2      Asia     378985\n",
       "0    Africa      22303\n",
       "4   Oceania       7964"
      ]
     },
     "execution_count": 25,
     "metadata": {},
     "output_type": "execute_result"
    }
   ],
   "source": [
    "# By Continent\n",
    "confirmed_by_continent = ndf.groupby(['Continent'])['Confirmed'].sum().to_frame(name = 'Confirmed').reset_index()\n",
    "confirmed_by_continent.columns = ['Continent','Confirmed']\n",
    "confirmed_by_continent.sort_values(by='Confirmed', ascending=False, inplace=True)\n",
    "confirmed_by_continent.head()"
   ]
  },
  {
   "cell_type": "code",
   "execution_count": 26,
   "metadata": {},
   "outputs": [
    {
     "data": {
      "text/plain": [
       "<matplotlib.axes._subplots.AxesSubplot at 0x7fc0bebb24a8>"
      ]
     },
     "execution_count": 26,
     "metadata": {},
     "output_type": "execute_result"
    },
    {
     "data": {
      "image/png": "[encoded data removed]",
      "text/plain": [
       "<Figure size 432x288 with 1 Axes>"
      ]
     },
     "metadata": {},
     "output_type": "display_data"
    }
   ],
   "source": [
    "confirmed_by_continent.plot(kind='bar', x='Continent', y='Confirmed', legend=True)"
   ]
  },
  {
   "cell_type": "code",
   "execution_count": 27,
   "metadata": {},
   "outputs": [
    {
     "data": {
      "text/plain": [
       "[<matplotlib.lines.Line2D at 0x7fc0bf0f2160>]"
      ]
     },
     "execution_count": 27,
     "metadata": {},
     "output_type": "execute_result"
    },
    {
     "data": {
      "image/png": "[encoded data removed]",
      "text/plain": [
       "<Figure size 432x288 with 1 Axes>"
      ]
     },
     "metadata": {},
     "output_type": "display_data"
    }
   ],
   "source": [
    "# Plot confirmed cases worldwide\n",
    "cf = ndf.groupby('Date')[['Country','Confirmed']].sum()\n",
    "\n",
    "plt.xlabel('Date (Time)')\n",
    "plt.ylabel('Number of Daily Cases')\n",
    "plt.title('World COVID-19 Confirmed Cases (Daily)')\n",
    "\n",
    "plt.plot(cf, color='blue')"
   ]
  },
  {
   "cell_type": "code",
   "execution_count": 28,
   "metadata": {},
   "outputs": [],
   "source": [
    "# Plot and save trendline graph\n",
    "def create_trend_line(ndf, col3, col4):\n",
    "    fig, ax = plt.subplots(figsize=(10,6))\n",
    "    ndf.groupby(['Date'])[['Confirmed', 'Deaths']].sum().plot(ax=ax, marker='+')\n",
    "    fig = ax.get_figure()"
   ]
  },
  {
   "cell_type": "code",
   "execution_count": 29,
   "metadata": {},
   "outputs": [
    {
     "data": {
      "image/png": "[encoded data removed]",
      "text/plain": [
       "<Figure size 720x432 with 1 Axes>"
      ]
     },
     "metadata": {},
     "output_type": "display_data"
    }
   ],
   "source": [
    "create_trend_line(ndf, 'Confirmed', 'Deaths')\n",
    "plt.xlabel('Date (Time)')\n",
    "plt.ylabel('Number of Records')\n",
    "plt.title('World COVID-19 Cases-Daily')\n",
    "plt.savefig('wcovid19daily')"
   ]
  },
  {
   "cell_type": "code",
   "execution_count": 30,
   "metadata": {},
   "outputs": [
    {
     "data": {
      "text/plain": [
       "<matplotlib.axes._subplots.AxesSubplot at 0x7fc0bf09e828>"
      ]
     },
     "execution_count": 30,
     "metadata": {},
     "output_type": "execute_result"
    },
    {
     "data": {
      "image/png": "[encoded data removed]",
      "text/plain": [
       "<Figure size 432x288 with 1 Axes>"
      ]
     },
     "metadata": {},
     "output_type": "display_data"
    }
   ],
   "source": [
    "ndf['Confirmed'].resample('M').sum().plot(kind='bar', title='Total Confirmed Cases Per Month')"
   ]
  },
  {
   "cell_type": "code",
   "execution_count": 31,
   "metadata": {},
   "outputs": [
    {
     "data": {
      "text/plain": [
       "<matplotlib.axes._subplots.AxesSubplot at 0x7fc0befe2898>"
      ]
     },
     "execution_count": 31,
     "metadata": {},
     "output_type": "execute_result"
    },
    {
     "data": {
      "image/png": "[encoded data removed]",
      "text/plain": [
       "<Figure size 432x288 with 1 Axes>"
      ]
     },
     "metadata": {},
     "output_type": "display_data"
    }
   ],
   "source": [
    "ndf['Confirmed'].resample('W').sum().plot(kind='bar', color='orange')"
   ]
  },
  {
   "cell_type": "code",
   "execution_count": 32,
   "metadata": {},
   "outputs": [
    {
     "data": {
      "text/plain": [
       "<matplotlib.axes._subplots.AxesSubplot at 0x7fc0bef504e0>"
      ]
     },
     "execution_count": 32,
     "metadata": {},
     "output_type": "execute_result"
    },
    {
     "data": {
      "image/png": "[encoded data removed]",
      "text/plain": [
       "<Figure size 432x288 with 1 Axes>"
      ]
     },
     "metadata": {},
     "output_type": "display_data"
    }
   ],
   "source": [
    "ndf['Deaths'].resample('M').sum().plot(kind='bar', color='red', title='Total Death Cases Per Month')"
   ]
  },
  {
   "cell_type": "code",
   "execution_count": 33,
   "metadata": {},
   "outputs": [
    {
     "data": {
      "text/plain": [
       "<matplotlib.axes._subplots.AxesSubplot at 0x7fc0beeb1978>"
      ]
     },
     "execution_count": 33,
     "metadata": {},
     "output_type": "execute_result"
    },
    {
     "data": {
      "image/png": "[encoded data removed]",
      "text/plain": [
       "<Figure size 432x288 with 1 Axes>"
      ]
     },
     "metadata": {},
     "output_type": "display_data"
    }
   ],
   "source": [
    "ndf['Deaths'].resample('W').sum().plot(kind='bar', color='red', title='Deaths Per Week')"
   ]
  },
  {
   "cell_type": "code",
   "execution_count": 34,
   "metadata": {},
   "outputs": [
    {
     "data": {
      "text/plain": [
       "<matplotlib.axes._subplots.AxesSubplot at 0x7fc0bee584e0>"
      ]
     },
     "execution_count": 34,
     "metadata": {},
     "output_type": "execute_result"
    },
    {
     "data": {
      "image/png": "[encoded data removed]",
      "text/plain": [
       "<Figure size 432x288 with 1 Axes>"
      ]
     },
     "metadata": {},
     "output_type": "display_data"
    }
   ],
   "source": [
    "ndf['Confirmed'].plot()"
   ]
  },
  {
   "cell_type": "code",
   "execution_count": 35,
   "metadata": {},
   "outputs": [
    {
     "data": {
      "text/html": [
       "<div>\n",
       "<style scoped>\n",
       "    .dataframe tbody tr th:only-of-type {\n",
       "        vertical-align: middle;\n",
       "    }\n",
       "\n",
       "    .dataframe tbody tr th {\n",
       "        vertical-align: top;\n",
       "    }\n",
       "\n",
       "    .dataframe thead th {\n",
       "        text-align: right;\n",
       "    }\n",
       "</style>\n",
       "<table border=\"1\" class=\"dataframe\">\n",
       "  <thead>\n",
       "    <tr style=\"text-align: right;\">\n",
       "      <th></th>\n",
       "      <th>Confirmed</th>\n",
       "      <th>Deaths</th>\n",
       "      <th>Continent</th>\n",
       "      <th>Country</th>\n",
       "    </tr>\n",
       "    <tr>\n",
       "      <th>Date</th>\n",
       "      <th></th>\n",
       "      <th></th>\n",
       "      <th></th>\n",
       "      <th></th>\n",
       "    </tr>\n",
       "  </thead>\n",
       "  <tbody>\n",
       "    <tr>\n",
       "      <th>2020-04-20</th>\n",
       "      <td>88</td>\n",
       "      <td>3</td>\n",
       "      <td>Asia</td>\n",
       "      <td>Afghanistan</td>\n",
       "    </tr>\n",
       "    <tr>\n",
       "      <th>2020-04-19</th>\n",
       "      <td>63</td>\n",
       "      <td>0</td>\n",
       "      <td>Asia</td>\n",
       "      <td>Afghanistan</td>\n",
       "    </tr>\n",
       "    <tr>\n",
       "      <th>2020-04-18</th>\n",
       "      <td>51</td>\n",
       "      <td>1</td>\n",
       "      <td>Asia</td>\n",
       "      <td>Afghanistan</td>\n",
       "    </tr>\n",
       "    <tr>\n",
       "      <th>2020-04-17</th>\n",
       "      <td>10</td>\n",
       "      <td>4</td>\n",
       "      <td>Asia</td>\n",
       "      <td>Afghanistan</td>\n",
       "    </tr>\n",
       "    <tr>\n",
       "      <th>2020-04-16</th>\n",
       "      <td>70</td>\n",
       "      <td>2</td>\n",
       "      <td>Asia</td>\n",
       "      <td>Afghanistan</td>\n",
       "    </tr>\n",
       "  </tbody>\n",
       "</table>\n",
       "</div>"
      ],
      "text/plain": [
       "            Confirmed  Deaths Continent      Country\n",
       "Date                                                \n",
       "2020-04-20         88       3      Asia  Afghanistan\n",
       "2020-04-19         63       0      Asia  Afghanistan\n",
       "2020-04-18         51       1      Asia  Afghanistan\n",
       "2020-04-17         10       4      Asia  Afghanistan\n",
       "2020-04-16         70       2      Asia  Afghanistan"
      ]
     },
     "execution_count": 35,
     "metadata": {},
     "output_type": "execute_result"
    }
   ],
   "source": [
    "ndf.head()"
   ]
  },
  {
   "cell_type": "code",
   "execution_count": 36,
   "metadata": {},
   "outputs": [],
   "source": [
    "con_cases = ndf['Confirmed'].sum()\n",
    "dt_cases = ndf['Deaths'].sum()"
   ]
  },
  {
   "cell_type": "code",
   "execution_count": 37,
   "metadata": {},
   "outputs": [],
   "source": [
    "fatality_rate = dt_cases/(con_cases+dt_cases)*100"
   ]
  },
  {
   "cell_type": "code",
   "execution_count": 38,
   "metadata": {},
   "outputs": [
    {
     "data": {
      "text/plain": [
       "6.5326487626110445"
      ]
     },
     "execution_count": 38,
     "metadata": {},
     "output_type": "execute_result"
    }
   ],
   "source": [
    "fatality_rate"
   ]
  },
  {
   "cell_type": "code",
   "execution_count": 39,
   "metadata": {},
   "outputs": [
    {
     "data": {
      "text/plain": [
       "164656"
      ]
     },
     "execution_count": 39,
     "metadata": {},
     "output_type": "execute_result"
    }
   ],
   "source": [
    "dt_cases"
   ]
  },
  {
   "cell_type": "code",
   "execution_count": 40,
   "metadata": {},
   "outputs": [
    {
     "data": {
      "text/plain": [
       "2355853"
      ]
     },
     "execution_count": 40,
     "metadata": {},
     "output_type": "execute_result"
    }
   ],
   "source": [
    "con_cases"
   ]
  },
  {
   "cell_type": "code",
   "execution_count": 41,
   "metadata": {},
   "outputs": [],
   "source": [
    "# visualization of most infected countries in the world\n",
    "\n",
    "# CHINA STATE\n",
    "df_cn = ndf[ndf['Country']=='China'].reset_index()\n",
    "# ITALY STATE               \n",
    "df_it = ndf[ndf['Country']=='Italy'].reset_index()\n",
    "# IRAN STATE\n",
    "df_ir = ndf[ndf['Country']=='Iran'].reset_index()\n",
    "# SPAIN STATE\n",
    "df_sp = ndf[ndf['Country']=='Spain'].reset_index()\n",
    "# FRANCE STATE\n",
    "df_fr = ndf[ndf['Country']=='France'].reset_index()\n",
    "# SOUTH KOREA STATE\n",
    "df_skr = ndf[ndf['Country']=='South Korea'].reset_index()\n",
    "\n",
    "# filter down on dates\n",
    "df_cn  = df_cn[df_cn['Date'] >= ('2020-01-17')]\n",
    "df_it = df_it[df_it['Date'] >= ('2020-01-17')]\n",
    "df_ir = df_ir[df_ir['Date'] >= ('2020-01-17')]\n",
    "df_sp = df_sp[df_sp['Date'] >= ('2020-01-17')]\n",
    "df_fr = df_fr[df_fr['Date'] >= ('2020-01-17')]\n",
    "df_skr = df_skr[df_skr['Date'] >= ('2020-01-17')]"
   ]
  },
  {
   "cell_type": "code",
   "execution_count": 42,
   "metadata": {},
   "outputs": [
    {
     "data": {
      "image/png": "[encoded data removed]",
      "text/plain": [
       "<Figure size 864x432 with 1 Axes>"
      ]
     },
     "metadata": {},
     "output_type": "display_data"
    }
   ],
   "source": [
    "# plotting\n",
    "\n",
    "fig, ax = plt.subplots(figsize=(12,6))\n",
    "ax.plot(df_cn['Date'], df_cn['Confirmed'],color='yellow')\n",
    "ax.plot(df_it['Date'], df_it['Confirmed'],color='green')\n",
    "ax.plot(df_ir['Date'], df_ir['Confirmed'],color='blue')\n",
    "ax.plot(df_sp['Date'], df_sp['Confirmed'],color='red')\n",
    "ax.plot(df_fr['Date'], df_fr['Confirmed'],color='black')\n",
    "ax.plot(df_skr['Date'], df_skr['Confirmed'],color='magenta')\n",
    "\n",
    "\n",
    "\n",
    "ax.set(xlabel='Date', ylabel='No. of Confirmed Cases',\n",
    "       title='COVID-19')\n",
    "ax.legend(['China','Italy','Iran','Spain','France','South Korea'])\n",
    "ax.grid()\n",
    "plt.savefig('covidstate1')"
   ]
  },
  {
   "cell_type": "code",
   "execution_count": 43,
   "metadata": {},
   "outputs": [
    {
     "data": {
      "image/png": "[encoded data removed]",
      "text/plain": [
       "<Figure size 1152x576 with 2 Axes>"
      ]
     },
     "metadata": {},
     "output_type": "display_data"
    }
   ],
   "source": [
    "wdf = ndf.groupby(['Date'])[['Confirmed','Deaths']].sum().reset_index()\n",
    "\n",
    "#plotting new cases by day worldwide\n",
    "plt.rcParams['figure.figsize'] = [16, 8]\n",
    "fig, ax = plt.subplots(2,sharex=True)\n",
    "\n",
    "# top chart of cases\n",
    "ax[0].plot(wdf['Date'], wdf['Confirmed'],color='black')\n",
    "ax[0].set(xlabel='Date', ylabel='Confirmed Cases Per Day',\n",
    "       title='COVID-19 Total Cases Worldwide')\n",
    "ax[0].grid()\n",
    "\n",
    "# bottom chart of deaths\n",
    "ax[1].plot(wdf['Date'], wdf['Deaths'],color='red')\n",
    "ax[1].set(xlabel='Date', ylabel='Deaths Per Day',\n",
    "       title='COVID-19 Total Deaths Worldwide')\n",
    "ax[1].grid()"
   ]
  },
  {
   "cell_type": "code",
   "execution_count": 44,
   "metadata": {},
   "outputs": [
    {
     "data": {
      "text/plain": [
       "2355853"
      ]
     },
     "execution_count": 44,
     "metadata": {},
     "output_type": "execute_result"
    }
   ],
   "source": [
    "ndf.Confirmed.sum()"
   ]
  },
  {
   "cell_type": "code",
   "execution_count": 45,
   "metadata": {},
   "outputs": [
    {
     "data": {
      "text/plain": [
       "164656"
      ]
     },
     "execution_count": 45,
     "metadata": {},
     "output_type": "execute_result"
    }
   ],
   "source": [
    "ndf.Deaths.sum()"
   ]
  },
  {
   "cell_type": "code",
   "execution_count": 46,
   "metadata": {},
   "outputs": [
    {
     "data": {
      "image/png": "[encoded data removed]",
      "text/plain": [
       "<Figure size 864x432 with 1 Axes>"
      ]
     },
     "metadata": {},
     "output_type": "display_data"
    }
   ],
   "source": [
    "# plotting\n",
    "\n",
    "fig, ax = plt.subplots(figsize=(12,6))\n",
    "ax.plot(df_cn['Date'], df_cn['Deaths'],color='yellow')\n",
    "ax.plot(df_it['Date'], df_it['Deaths'],color='green')\n",
    "ax.plot(df_ir['Date'], df_ir['Deaths'],color='blue')\n",
    "ax.plot(df_sp['Date'], df_sp['Deaths'],color='red')\n",
    "ax.plot(df_fr['Date'], df_fr['Deaths'],color='black')\n",
    "ax.plot(df_skr['Date'], df_skr['Deaths'],color='magenta')\n",
    "\n",
    "\n",
    "\n",
    "ax.set(xlabel='Date', ylabel='No. of Mortal Cases Per Day',\n",
    "       title='COVID-19')\n",
    "ax.legend(['China','Italy','Iran','Spain','France','South Korea'])\n",
    "ax.grid()"
   ]
  },
  {
   "cell_type": "code",
   "execution_count": 47,
   "metadata": {},
   "outputs": [
    {
     "data": {
      "text/html": [
       "<div>\n",
       "<style scoped>\n",
       "    .dataframe tbody tr th:only-of-type {\n",
       "        vertical-align: middle;\n",
       "    }\n",
       "\n",
       "    .dataframe tbody tr th {\n",
       "        vertical-align: top;\n",
       "    }\n",
       "\n",
       "    .dataframe thead th {\n",
       "        text-align: right;\n",
       "    }\n",
       "</style>\n",
       "<table border=\"1\" class=\"dataframe\">\n",
       "  <thead>\n",
       "    <tr style=\"text-align: right;\">\n",
       "      <th></th>\n",
       "      <th>Confirmed</th>\n",
       "      <th>Deaths</th>\n",
       "      <th>Continent</th>\n",
       "      <th>Country</th>\n",
       "    </tr>\n",
       "    <tr>\n",
       "      <th>Date</th>\n",
       "      <th></th>\n",
       "      <th></th>\n",
       "      <th></th>\n",
       "      <th></th>\n",
       "    </tr>\n",
       "  </thead>\n",
       "  <tbody>\n",
       "    <tr>\n",
       "      <th>2020-04-20</th>\n",
       "      <td>88</td>\n",
       "      <td>3</td>\n",
       "      <td>Asia</td>\n",
       "      <td>Afghanistan</td>\n",
       "    </tr>\n",
       "    <tr>\n",
       "      <th>2020-04-19</th>\n",
       "      <td>63</td>\n",
       "      <td>0</td>\n",
       "      <td>Asia</td>\n",
       "      <td>Afghanistan</td>\n",
       "    </tr>\n",
       "    <tr>\n",
       "      <th>2020-04-18</th>\n",
       "      <td>51</td>\n",
       "      <td>1</td>\n",
       "      <td>Asia</td>\n",
       "      <td>Afghanistan</td>\n",
       "    </tr>\n",
       "    <tr>\n",
       "      <th>2020-04-17</th>\n",
       "      <td>10</td>\n",
       "      <td>4</td>\n",
       "      <td>Asia</td>\n",
       "      <td>Afghanistan</td>\n",
       "    </tr>\n",
       "    <tr>\n",
       "      <th>2020-04-16</th>\n",
       "      <td>70</td>\n",
       "      <td>2</td>\n",
       "      <td>Asia</td>\n",
       "      <td>Afghanistan</td>\n",
       "    </tr>\n",
       "  </tbody>\n",
       "</table>\n",
       "</div>"
      ],
      "text/plain": [
       "            Confirmed  Deaths Continent      Country\n",
       "Date                                                \n",
       "2020-04-20         88       3      Asia  Afghanistan\n",
       "2020-04-19         63       0      Asia  Afghanistan\n",
       "2020-04-18         51       1      Asia  Afghanistan\n",
       "2020-04-17         10       4      Asia  Afghanistan\n",
       "2020-04-16         70       2      Asia  Afghanistan"
      ]
     },
     "execution_count": 47,
     "metadata": {},
     "output_type": "execute_result"
    }
   ],
   "source": [
    "ndf.head()"
   ]
  },
  {
   "cell_type": "code",
   "execution_count": 48,
   "metadata": {},
   "outputs": [],
   "source": [
    "# Calculate Italy mortality rate\n",
    "df_it\n",
    "itcon = df_it['Confirmed'].sum()\n",
    "itdt = df_it['Deaths'].sum()\n",
    "it_mort_rate = itdt/(itcon+itdt)*100"
   ]
  },
  {
   "cell_type": "code",
   "execution_count": 49,
   "metadata": {},
   "outputs": [
    {
     "data": {
      "text/plain": [
       "11.676339373840262"
      ]
     },
     "execution_count": 49,
     "metadata": {},
     "output_type": "execute_result"
    }
   ],
   "source": [
    "it_mort_rate"
   ]
  },
  {
   "cell_type": "code",
   "execution_count": 50,
   "metadata": {},
   "outputs": [],
   "source": [
    "# Italy mortality rate Compared to World Average\n",
    "itw = (it_mort_rate/fatality_rate) * 100"
   ]
  },
  {
   "cell_type": "code",
   "execution_count": 51,
   "metadata": {},
   "outputs": [
    {
     "name": "stdout",
     "output_type": "stream",
     "text": [
      "Italy Mortality Rate Compared to World Average is : 178.73820862172497 %\n"
     ]
    }
   ],
   "source": [
    "print('Italy Mortality Rate Compared to World Average is :', itw ,'%')"
   ]
  },
  {
   "cell_type": "code",
   "execution_count": 52,
   "metadata": {},
   "outputs": [],
   "source": [
    "# Calculate China mortality rate\n",
    "df_cn\n",
    "chcon = df_cn['Confirmed'].sum()\n",
    "chdt = df_cn['Deaths'].sum()\n",
    "ch_mort_rate = chdt/(chcon+chdt)*100"
   ]
  },
  {
   "cell_type": "code",
   "execution_count": 53,
   "metadata": {},
   "outputs": [
    {
     "data": {
      "text/plain": [
       "5.242555887410625"
      ]
     },
     "execution_count": 53,
     "metadata": {},
     "output_type": "execute_result"
    }
   ],
   "source": [
    "ch_mort_rate"
   ]
  },
  {
   "cell_type": "code",
   "execution_count": 54,
   "metadata": {},
   "outputs": [],
   "source": [
    "# China Mortality rate compared to World Average\n",
    "chw = (ch_mort_rate/fatality_rate) * 100"
   ]
  },
  {
   "cell_type": "code",
   "execution_count": 55,
   "metadata": {},
   "outputs": [
    {
     "name": "stdout",
     "output_type": "stream",
     "text": [
      "China Mortality Rate Compared to World Average is : 80.25161122110015 %\n"
     ]
    }
   ],
   "source": [
    "print('China Mortality Rate Compared to World Average is :', chw ,'%')"
   ]
  },
  {
   "cell_type": "code",
   "execution_count": 56,
   "metadata": {},
   "outputs": [],
   "source": [
    "# Calculate Spain mortality rate\n",
    "df_sp\n",
    "spcon = df_sp['Confirmed'].sum()\n",
    "spdt = df_sp['Deaths'].sum()\n",
    "sp_mort_rate = spdt/(spcon+spdt)*100"
   ]
  },
  {
   "cell_type": "code",
   "execution_count": 57,
   "metadata": {},
   "outputs": [
    {
     "data": {
      "text/plain": [
       "9.451609772778735"
      ]
     },
     "execution_count": 57,
     "metadata": {},
     "output_type": "execute_result"
    }
   ],
   "source": [
    "sp_mort_rate"
   ]
  },
  {
   "cell_type": "code",
   "execution_count": 58,
   "metadata": {},
   "outputs": [],
   "source": [
    "# Spain Mortality rate compared to World Average\n",
    "spw = (sp_mort_rate/fatality_rate) * 100"
   ]
  },
  {
   "cell_type": "code",
   "execution_count": 59,
   "metadata": {},
   "outputs": [
    {
     "name": "stdout",
     "output_type": "stream",
     "text": [
      "Spain Mortality Rate Compared to World Average is : 144.68265654927092 %\n"
     ]
    }
   ],
   "source": [
    "print('Spain Mortality Rate Compared to World Average is :', spw ,'%')"
   ]
  },
  {
   "cell_type": "code",
   "execution_count": 60,
   "metadata": {},
   "outputs": [],
   "source": [
    "# Calculate France mortality rate\n",
    "df_fr\n",
    "frcon = df_fr['Confirmed'].sum()\n",
    "frdt = df_fr['Deaths'].sum()\n",
    "fr_mort_rate = frdt/(frcon+frdt)*100"
   ]
  },
  {
   "cell_type": "code",
   "execution_count": 61,
   "metadata": {},
   "outputs": [
    {
     "data": {
      "text/plain": [
       "14.901302862670414"
      ]
     },
     "execution_count": 61,
     "metadata": {},
     "output_type": "execute_result"
    }
   ],
   "source": [
    "fr_mort_rate"
   ]
  },
  {
   "cell_type": "code",
   "execution_count": 62,
   "metadata": {},
   "outputs": [],
   "source": [
    "# France Mortality rate compared to World Average\n",
    "frw = (fr_mort_rate/fatality_rate) * 100"
   ]
  },
  {
   "cell_type": "code",
   "execution_count": 63,
   "metadata": {},
   "outputs": [
    {
     "name": "stdout",
     "output_type": "stream",
     "text": [
      "France Mortality Rate Compared to World Average is : 228.1050673955795 %\n"
     ]
    }
   ],
   "source": [
    "print('France Mortality Rate Compared to World Average is :', frw ,'%')"
   ]
  },
  {
   "cell_type": "code",
   "execution_count": 64,
   "metadata": {},
   "outputs": [],
   "source": [
    "# Calculate Iran mortality rate\n",
    "df_ir\n",
    "ircon = df_ir['Confirmed'].sum()\n",
    "irdt = df_ir['Deaths'].sum()\n",
    "ir_mort_rate = irdt/(ircon+irdt)*100"
   ]
  },
  {
   "cell_type": "code",
   "execution_count": 65,
   "metadata": {},
   "outputs": [
    {
     "data": {
      "text/plain": [
       "5.8605961364495185"
      ]
     },
     "execution_count": 65,
     "metadata": {},
     "output_type": "execute_result"
    }
   ],
   "source": [
    "ir_mort_rate"
   ]
  },
  {
   "cell_type": "code",
   "execution_count": 66,
   "metadata": {},
   "outputs": [],
   "source": [
    "# Iran Mortality rate compared to World Average\n",
    "irw = (ir_mort_rate/fatality_rate) * 100"
   ]
  },
  {
   "cell_type": "code",
   "execution_count": 67,
   "metadata": {},
   "outputs": [
    {
     "name": "stdout",
     "output_type": "stream",
     "text": [
      "Iran Mortality Rate Compared to World Average is : 89.71240226463803 %\n"
     ]
    }
   ],
   "source": [
    "print('Iran Mortality Rate Compared to World Average is :', irw ,'%')"
   ]
  },
  {
   "cell_type": "code",
   "execution_count": 68,
   "metadata": {},
   "outputs": [],
   "source": [
    "# visualization of most infected countries in the world part 2\n",
    "\n",
    "# Germany STATE\n",
    "df_gr = ndf[ndf['Country']=='Germany'].reset_index()\n",
    "# USA STATE               \n",
    "df_us = ndf[ndf['Country']=='US'].reset_index()\n",
    "# UK STATE\n",
    "df_uk = ndf[ndf['Country']=='UK'].reset_index()\n",
    "# NL STATE\n",
    "df_nl = ndf[ndf['Country']=='Netherlands'].reset_index()\n",
    "# SWISS STATE\n",
    "df_sw = ndf[ndf['Country']=='Switzerland'].reset_index()\n",
    "# Japan STATE\n",
    "df_jp = ndf[ndf['Country']=='Japan'].reset_index()\n",
    "\n",
    "# filter down on dates\n",
    "df_gr  = df_gr[df_gr['Date'] >= ('2020-01-17')]\n",
    "df_us = df_us[df_us['Date'] >= ('2020-01-17')]\n",
    "df_uk = df_uk[df_uk['Date'] >= ('2020-01-17')]\n",
    "df_nl = df_nl[df_nl['Date'] >= ('2020-01-17')]\n",
    "df_sw = df_sw[df_sw['Date'] >= ('2020-01-17')]\n",
    "df_jp = df_jp[df_jp['Date'] >= ('2020-01-17')]"
   ]
  },
  {
   "cell_type": "code",
   "execution_count": 69,
   "metadata": {},
   "outputs": [
    {
     "data": {
      "image/png": "[encoded data removed]",
      "text/plain": [
       "<Figure size 864x432 with 1 Axes>"
      ]
     },
     "metadata": {},
     "output_type": "display_data"
    }
   ],
   "source": [
    "# plotting\n",
    "\n",
    "fig, ax = plt.subplots(figsize=(12,6))\n",
    "ax.plot(df_gr['Date'], df_gr['Confirmed'],color='orange')\n",
    "ax.plot(df_us['Date'], df_us['Confirmed'],color='green')\n",
    "ax.plot(df_uk['Date'], df_uk['Confirmed'],color='blue')\n",
    "ax.plot(df_nl['Date'], df_nl['Confirmed'],color='red')\n",
    "ax.plot(df_sw['Date'], df_sw['Confirmed'],color='black')\n",
    "ax.plot(df_jp['Date'], df_jp['Confirmed'],color='magenta')\n",
    "\n",
    "\n",
    "ax.set(xlabel='Date', ylabel='No. of Confirmed Cases',\n",
    "       title='COVID-19')\n",
    "ax.legend(['Germany','US','UK','NL','Swiss','Japan'])\n",
    "ax.grid()\n",
    "plt.savefig('covidstate2')"
   ]
  },
  {
   "cell_type": "code",
   "execution_count": 70,
   "metadata": {},
   "outputs": [
    {
     "data": {
      "image/png": "[encoded data removed]",
      "text/plain": [
       "<Figure size 864x432 with 1 Axes>"
      ]
     },
     "metadata": {},
     "output_type": "display_data"
    }
   ],
   "source": [
    "# plotting\n",
    "\n",
    "fig, ax = plt.subplots(figsize=(12,6))\n",
    "ax.plot(df_gr['Date'], df_gr['Deaths'],color='orange')\n",
    "ax.plot(df_us['Date'], df_us['Deaths'],color='green')\n",
    "ax.plot(df_uk['Date'], df_uk['Deaths'],color='blue')\n",
    "ax.plot(df_nl['Date'], df_nl['Deaths'],color='red')\n",
    "ax.plot(df_sw['Date'], df_sw['Deaths'],color='black')\n",
    "ax.plot(df_jp['Date'], df_jp['Deaths'],color='magenta')\n",
    "\n",
    "\n",
    "ax.set(xlabel='Date', ylabel='No. of Mortal Cases',\n",
    "       title='COVID-19')\n",
    "ax.legend(['Germany','US','UK','NL','Swiss','Japan'])\n",
    "ax.grid()"
   ]
  },
  {
   "cell_type": "code",
   "execution_count": 71,
   "metadata": {},
   "outputs": [],
   "source": [
    "# visualization of some infected countries in the world part 3\n",
    "\n",
    "# Egypt STATE\n",
    "df_eg = ndf[ndf['Country']=='Egypt'].reset_index()\n",
    "# Israel STATE               \n",
    "df_il = ndf[ndf['Country']=='Israel'].reset_index()\n",
    "# Turkey STATE\n",
    "df_tr = ndf[ndf['Country']=='Turkey'].reset_index()\n",
    "# Iraq STATE\n",
    "df_iq = ndf[ndf['Country']=='Iraq'].reset_index()\n",
    "# Qatar STATE\n",
    "df_qr = ndf[ndf['Country']=='Qatar'].reset_index()\n",
    "# Bahrain STATE\n",
    "df_bn = ndf[ndf['Country']=='Bahrain'].reset_index()\n",
    "\n",
    "# filter down on dates\n",
    "df_eg  = df_eg[df_eg['Date'] >= ('2020-01-17')]\n",
    "df_il = df_il[df_il['Date'] >= ('2020-01-17')]\n",
    "df_tr = df_tr[df_tr['Date'] >= ('2020-01-17')]\n",
    "df_iq = df_iq[df_iq['Date'] >= ('2020-01-17')]\n",
    "df_qr = df_qr[df_qr['Date'] >= ('2020-01-17')]\n",
    "df_bn = df_bn[df_bn['Date'] >= ('2020-01-17')]"
   ]
  },
  {
   "cell_type": "code",
   "execution_count": 72,
   "metadata": {},
   "outputs": [
    {
     "data": {
      "image/png": "[encoded data removed]",
      "text/plain": [
       "<Figure size 864x432 with 1 Axes>"
      ]
     },
     "metadata": {},
     "output_type": "display_data"
    }
   ],
   "source": [
    "# plotting\n",
    "\n",
    "fig, ax = plt.subplots(figsize=(12,6))\n",
    "ax.plot(df_eg['Date'], df_eg['Confirmed'],color='red')\n",
    "ax.plot(df_il['Date'], df_il['Confirmed'],color='blue')\n",
    "ax.plot(df_tr['Date'], df_tr['Confirmed'],color='orange')\n",
    "ax.plot(df_iq['Date'], df_iq['Confirmed'],color='green')\n",
    "ax.plot(df_qr['Date'], df_qr['Confirmed'],color='black')\n",
    "ax.plot(df_bn['Date'], df_bn['Confirmed'],color='yellow')\n",
    "\n",
    "\n",
    "ax.set(xlabel='Date', ylabel='No. of Confirmed Cases',\n",
    "       title='COVID-19')\n",
    "ax.legend(['Egypt','Israel','Turkey','Iraq','Qatar','Bahrain'])\n",
    "ax.grid()\n",
    "plt.savefig('covidstate3')"
   ]
  },
  {
   "cell_type": "code",
   "execution_count": 73,
   "metadata": {},
   "outputs": [],
   "source": [
    "twc = ndf.Confirmed.sum()\n",
    "twd = ndf.Deaths.sum()"
   ]
  },
  {
   "cell_type": "code",
   "execution_count": 74,
   "metadata": {},
   "outputs": [],
   "source": [
    "# South Africa STATE\n",
    "df_sa = ndf[ndf['Country']=='South Africa'].reset_index()\n",
    "# KSA STATE               \n",
    "df_ksa = ndf[ndf['Country']=='Saudi Arabia'].reset_index()\n",
    "# India STATE\n",
    "df_in = ndf[ndf['Country']=='India'].reset_index()\n",
    "# Russia STATE\n",
    "df_ru = ndf[ndf['Country']=='Russia'].reset_index()\n",
    "# Norway STATE\n",
    "df_no = ndf[ndf['Country']=='Norway'].reset_index()\n",
    "# Australia STATE\n",
    "df_au = ndf[ndf['Country']=='Australia'].reset_index()\n",
    "# Pakistan STATE\n",
    "df_pk = ndf[ndf['Country']=='Pakistan'].reset_index()\n",
    "# Indonesia STATE\n",
    "df_inesia = ndf[ndf['Country']=='Indonesia'].reset_index()\n",
    "# Brazil STATE\n",
    "df_br = ndf[ndf['Country']=='Brazil'].reset_index()\n",
    "# Sweden STATE\n",
    "df_swd = ndf[ndf['Country']=='Sweden'].reset_index()\n",
    "\n",
    "\n",
    "# filter down on dates\n",
    "df_sa  = df_sa[df_sa['Date'] >= ('2020-01-17')]\n",
    "df_ksa = df_ksa[df_ksa['Date'] >= ('2020-01-17')]\n",
    "df_in = df_in[df_in['Date'] >= ('2020-01-17')]\n",
    "df_ru = df_ru[df_ru['Date'] >= ('2020-01-17')]\n",
    "df_no = df_no[df_no['Date'] >= ('2020-01-17')]\n",
    "df_au = df_au[df_au['Date'] >= ('2020-01-17')]\n",
    "df_pk = df_pk[df_pk['Date'] >= ('2020-01-17')]\n",
    "df_inesia = df_inesia[df_inesia['Date'] >= ('2020-01-17')]\n",
    "df_br = df_br[df_br['Date'] >= ('2020-01-17')]\n",
    "df_swd = df_swd[df_swd['Date'] >= ('2020-01-17')]"
   ]
  },
  {
   "cell_type": "code",
   "execution_count": 75,
   "metadata": {},
   "outputs": [],
   "source": [
    "#Germany\n",
    "\n",
    "df_gr\n",
    "grcon = df_gr['Confirmed'].sum()\n",
    "grdt = df_gr['Deaths'].sum()\n",
    "gr_mort_rate = grdt/(grcon+grdt)*100"
   ]
  },
  {
   "cell_type": "code",
   "execution_count": 76,
   "metadata": {},
   "outputs": [],
   "source": [
    "#US\n",
    "\n",
    "df_us\n",
    "uscon = df_us['Confirmed'].sum()\n",
    "usdt = df_us['Deaths'].sum()\n",
    "us_mort_rate = usdt/(uscon+usdt)*100"
   ]
  },
  {
   "cell_type": "code",
   "execution_count": 77,
   "metadata": {},
   "outputs": [],
   "source": [
    "#UK\n",
    "\n",
    "df_uk\n",
    "ukcon = df_uk['Confirmed'].sum()\n",
    "ukdt = df_uk['Deaths'].sum()\n",
    "uk_mort_rate = ukdt/(ukcon+ukdt)*100"
   ]
  },
  {
   "cell_type": "code",
   "execution_count": 78,
   "metadata": {},
   "outputs": [],
   "source": [
    "#Netherlands\n",
    "\n",
    "df_nl\n",
    "nlcon = df_nl['Confirmed'].sum()\n",
    "nldt = df_nl['Deaths'].sum()\n",
    "nl_mort_rate = nldt/(nlcon+nldt)*100"
   ]
  },
  {
   "cell_type": "code",
   "execution_count": 79,
   "metadata": {},
   "outputs": [],
   "source": [
    "#Swiss\n",
    "\n",
    "df_sw\n",
    "swcon = df_sw['Confirmed'].sum()\n",
    "swdt = df_sw['Deaths'].sum()\n",
    "sw_mort_rate = swdt/(swcon+swdt)*100"
   ]
  },
  {
   "cell_type": "code",
   "execution_count": 80,
   "metadata": {},
   "outputs": [],
   "source": [
    "#South Korea\n",
    "\n",
    "df_skr\n",
    "skrcon = df_skr['Confirmed'].sum()\n",
    "skrdt = df_skr['Deaths'].sum()\n",
    "skr_mort_rate = skrdt/(skrcon+skrdt)*100"
   ]
  },
  {
   "cell_type": "code",
   "execution_count": 81,
   "metadata": {},
   "outputs": [],
   "source": [
    "#Japan\n",
    "\n",
    "df_jp\n",
    "jpcon = df_jp['Confirmed'].sum()\n",
    "jpdt = df_jp['Deaths'].sum()\n",
    "jp_mort_rate = jpdt/(jpcon+jpdt)*100"
   ]
  },
  {
   "cell_type": "code",
   "execution_count": 82,
   "metadata": {},
   "outputs": [],
   "source": [
    "#Egypt\n",
    "\n",
    "df_eg\n",
    "egcon = df_eg['Confirmed'].sum()\n",
    "egdt = df_eg['Deaths'].sum()\n",
    "eg_mort_rate = egdt/(egcon+egdt)*100"
   ]
  },
  {
   "cell_type": "code",
   "execution_count": 83,
   "metadata": {},
   "outputs": [],
   "source": [
    "#Israel\n",
    "\n",
    "df_il\n",
    "ilcon = df_il['Confirmed'].sum()\n",
    "ildt = df_il['Deaths'].sum()\n",
    "il_mort_rate = ildt/(ilcon+ildt)*100"
   ]
  },
  {
   "cell_type": "code",
   "execution_count": 84,
   "metadata": {},
   "outputs": [],
   "source": [
    "#Iraq\n",
    "\n",
    "df_iq\n",
    "iqcon = df_iq['Confirmed'].sum()\n",
    "iqdt = df_iq['Deaths'].sum()\n",
    "iq_mort_rate = iqdt/(iqcon+iqdt)*100"
   ]
  },
  {
   "cell_type": "code",
   "execution_count": 85,
   "metadata": {},
   "outputs": [],
   "source": [
    "#Turkey\n",
    "\n",
    "df_tr\n",
    "trcon = df_tr['Confirmed'].sum()\n",
    "trdt = df_tr['Deaths'].sum()\n",
    "tr_mort_rate = trdt/(trcon+trdt)*100"
   ]
  },
  {
   "cell_type": "code",
   "execution_count": 86,
   "metadata": {},
   "outputs": [],
   "source": [
    "#Qatar\n",
    "\n",
    "df_qr\n",
    "qrcon = df_qr['Confirmed'].sum()\n",
    "qrdt = df_qr['Deaths'].sum()\n",
    "qr_mort_rate = qrdt/(qrcon+qrdt)*100"
   ]
  },
  {
   "cell_type": "code",
   "execution_count": 87,
   "metadata": {},
   "outputs": [],
   "source": [
    "#Bahrain\n",
    "\n",
    "df_bn\n",
    "bncon = df_bn['Confirmed'].sum()\n",
    "bndt = df_bn['Deaths'].sum()\n",
    "bn_mort_rate = bndt/(bncon+bndt)*100"
   ]
  },
  {
   "cell_type": "code",
   "execution_count": 88,
   "metadata": {},
   "outputs": [],
   "source": [
    "#South Africa\n",
    "\n",
    "df_sa\n",
    "sacon = df_sa['Confirmed'].sum()\n",
    "sadt = df_sa['Deaths'].sum()\n",
    "sa_mort_rate = sadt/(sacon+sadt)*100"
   ]
  },
  {
   "cell_type": "code",
   "execution_count": 89,
   "metadata": {},
   "outputs": [],
   "source": [
    "#India\n",
    "\n",
    "df_in\n",
    "incon = df_in['Confirmed'].sum()\n",
    "indt = df_in['Deaths'].sum()\n",
    "in_mort_rate = indt/(incon+indt)*100"
   ]
  },
  {
   "cell_type": "code",
   "execution_count": 90,
   "metadata": {},
   "outputs": [],
   "source": [
    "#Pakistan\n",
    "\n",
    "df_pk\n",
    "pkcon = df_pk['Confirmed'].sum()\n",
    "pkdt = df_pk['Deaths'].sum()\n",
    "pk_mort_rate = pkdt/(pkcon+pkdt)*100"
   ]
  },
  {
   "cell_type": "code",
   "execution_count": 91,
   "metadata": {},
   "outputs": [],
   "source": [
    "#Russia\n",
    "\n",
    "df_ru\n",
    "rucon = df_ru['Confirmed'].sum()\n",
    "rudt = df_ru['Deaths'].sum()\n",
    "ru_mort_rate = rudt/(rucon+rudt)*100"
   ]
  },
  {
   "cell_type": "code",
   "execution_count": 92,
   "metadata": {},
   "outputs": [],
   "source": [
    "# Norway\n",
    "\n",
    "df_no\n",
    "nocon = df_no['Confirmed'].sum()\n",
    "nodt = df_no['Deaths'].sum()\n",
    "no_mort_rate = nodt/(nocon+nodt)*100"
   ]
  },
  {
   "cell_type": "code",
   "execution_count": 93,
   "metadata": {},
   "outputs": [],
   "source": [
    "# KSA\n",
    "\n",
    "df_ksa\n",
    "ksacon = df_ksa['Confirmed'].sum()\n",
    "ksadt = df_ksa['Deaths'].sum()\n",
    "ksa_mort_rate = ksadt/(ksacon+ksadt)*100"
   ]
  },
  {
   "cell_type": "code",
   "execution_count": 94,
   "metadata": {},
   "outputs": [],
   "source": [
    "# Australia\n",
    "\n",
    "df_au\n",
    "aucon = df_au['Confirmed'].sum()\n",
    "audt = df_au['Deaths'].sum()\n",
    "au_mort_rate = audt/(aucon+audt)*100"
   ]
  },
  {
   "cell_type": "code",
   "execution_count": 95,
   "metadata": {},
   "outputs": [],
   "source": [
    "# Indonesia\n",
    "\n",
    "df_inesia\n",
    "inesiacon = df_inesia['Confirmed'].sum()\n",
    "inesiadt = df_inesia['Deaths'].sum()\n",
    "inesia_mort_rate = inesiadt/(inesiacon+inesiadt)*100"
   ]
  },
  {
   "cell_type": "code",
   "execution_count": 96,
   "metadata": {},
   "outputs": [],
   "source": [
    "# Brazil\n",
    "\n",
    "df_br\n",
    "brcon = df_br['Confirmed'].sum()\n",
    "brdt = df_br['Deaths'].sum()\n",
    "br_mort_rate = brdt/(brcon+brdt)*100"
   ]
  },
  {
   "cell_type": "code",
   "execution_count": 97,
   "metadata": {},
   "outputs": [],
   "source": [
    "# Sweden\n",
    "df_swd\n",
    "swdcon = df_swd['Confirmed'].sum()\n",
    "swddt = df_swd['Deaths'].sum()\n",
    "swd_mort_rate = swddt/(swdcon+swddt)*100"
   ]
  },
  {
   "cell_type": "code",
   "execution_count": 98,
   "metadata": {},
   "outputs": [
    {
     "data": {
      "text/html": [
       "<style  type=\"text/css\" >\n",
       "    #T_4c2ca232_8352_11ea_9b37_a4bf0138e068row0_col0 {\n",
       "            background-color:  #023858;\n",
       "            color:  #f1f1f1;\n",
       "        }    #T_4c2ca232_8352_11ea_9b37_a4bf0138e068row1_col0 {\n",
       "            background-color:  #f5eef6;\n",
       "            color:  #000000;\n",
       "        }    #T_4c2ca232_8352_11ea_9b37_a4bf0138e068row2_col0 {\n",
       "            background-color:  #fff7fb;\n",
       "            color:  #000000;\n",
       "        }    #T_4c2ca232_8352_11ea_9b37_a4bf0138e068row3_col0 {\n",
       "            background-color:  #faf2f8;\n",
       "            color:  #000000;\n",
       "        }    #T_4c2ca232_8352_11ea_9b37_a4bf0138e068row4_col0 {\n",
       "            background-color:  #fff7fb;\n",
       "            color:  #000000;\n",
       "        }    #T_4c2ca232_8352_11ea_9b37_a4bf0138e068row5_col0 {\n",
       "            background-color:  #fff7fb;\n",
       "            color:  #000000;\n",
       "        }    #T_4c2ca232_8352_11ea_9b37_a4bf0138e068row6_col0 {\n",
       "            background-color:  #f4edf6;\n",
       "            color:  #000000;\n",
       "        }    #T_4c2ca232_8352_11ea_9b37_a4bf0138e068row7_col0 {\n",
       "            background-color:  #fef6fa;\n",
       "            color:  #000000;\n",
       "        }    #T_4c2ca232_8352_11ea_9b37_a4bf0138e068row8_col0 {\n",
       "            background-color:  #fff7fb;\n",
       "            color:  #000000;\n",
       "        }    #T_4c2ca232_8352_11ea_9b37_a4bf0138e068row9_col0 {\n",
       "            background-color:  #f2ecf5;\n",
       "            color:  #000000;\n",
       "        }    #T_4c2ca232_8352_11ea_9b37_a4bf0138e068row10_col0 {\n",
       "            background-color:  #fef6fa;\n",
       "            color:  #000000;\n",
       "        }    #T_4c2ca232_8352_11ea_9b37_a4bf0138e068row11_col0 {\n",
       "            background-color:  #fff7fb;\n",
       "            color:  #000000;\n",
       "        }    #T_4c2ca232_8352_11ea_9b37_a4bf0138e068row12_col0 {\n",
       "            background-color:  #f8f1f8;\n",
       "            color:  #000000;\n",
       "        }    #T_4c2ca232_8352_11ea_9b37_a4bf0138e068row13_col0 {\n",
       "            background-color:  #fef6fa;\n",
       "            color:  #000000;\n",
       "        }    #T_4c2ca232_8352_11ea_9b37_a4bf0138e068row14_col0 {\n",
       "            background-color:  #fff7fb;\n",
       "            color:  #000000;\n",
       "        }    #T_4c2ca232_8352_11ea_9b37_a4bf0138e068row15_col0 {\n",
       "            background-color:  #faf3f9;\n",
       "            color:  #000000;\n",
       "        }    #T_4c2ca232_8352_11ea_9b37_a4bf0138e068row16_col0 {\n",
       "            background-color:  #fff7fb;\n",
       "            color:  #000000;\n",
       "        }    #T_4c2ca232_8352_11ea_9b37_a4bf0138e068row17_col0 {\n",
       "            background-color:  #fff7fb;\n",
       "            color:  #000000;\n",
       "        }    #T_4c2ca232_8352_11ea_9b37_a4bf0138e068row18_col0 {\n",
       "            background-color:  #f6eff7;\n",
       "            color:  #000000;\n",
       "        }    #T_4c2ca232_8352_11ea_9b37_a4bf0138e068row19_col0 {\n",
       "            background-color:  #fff7fb;\n",
       "            color:  #000000;\n",
       "        }    #T_4c2ca232_8352_11ea_9b37_a4bf0138e068row20_col0 {\n",
       "            background-color:  #fff7fb;\n",
       "            color:  #000000;\n",
       "        }    #T_4c2ca232_8352_11ea_9b37_a4bf0138e068row21_col0 {\n",
       "            background-color:  #b8c6e0;\n",
       "            color:  #000000;\n",
       "        }    #T_4c2ca232_8352_11ea_9b37_a4bf0138e068row22_col0 {\n",
       "            background-color:  #fdf5fa;\n",
       "            color:  #000000;\n",
       "        }    #T_4c2ca232_8352_11ea_9b37_a4bf0138e068row23_col0 {\n",
       "            background-color:  #fff7fb;\n",
       "            color:  #000000;\n",
       "        }    #T_4c2ca232_8352_11ea_9b37_a4bf0138e068row24_col0 {\n",
       "            background-color:  #f7f0f7;\n",
       "            color:  #000000;\n",
       "        }    #T_4c2ca232_8352_11ea_9b37_a4bf0138e068row25_col0 {\n",
       "            background-color:  #fef6fb;\n",
       "            color:  #000000;\n",
       "        }    #T_4c2ca232_8352_11ea_9b37_a4bf0138e068row26_col0 {\n",
       "            background-color:  #fff7fb;\n",
       "            color:  #000000;\n",
       "        }    #T_4c2ca232_8352_11ea_9b37_a4bf0138e068row27_col0 {\n",
       "            background-color:  #fdf5fa;\n",
       "            color:  #000000;\n",
       "        }    #T_4c2ca232_8352_11ea_9b37_a4bf0138e068row28_col0 {\n",
       "            background-color:  #fff7fb;\n",
       "            color:  #000000;\n",
       "        }    #T_4c2ca232_8352_11ea_9b37_a4bf0138e068row29_col0 {\n",
       "            background-color:  #fff7fb;\n",
       "            color:  #000000;\n",
       "        }    #T_4c2ca232_8352_11ea_9b37_a4bf0138e068row30_col0 {\n",
       "            background-color:  #fdf5fa;\n",
       "            color:  #000000;\n",
       "        }    #T_4c2ca232_8352_11ea_9b37_a4bf0138e068row31_col0 {\n",
       "            background-color:  #fff7fb;\n",
       "            color:  #000000;\n",
       "        }    #T_4c2ca232_8352_11ea_9b37_a4bf0138e068row32_col0 {\n",
       "            background-color:  #fff7fb;\n",
       "            color:  #000000;\n",
       "        }    #T_4c2ca232_8352_11ea_9b37_a4bf0138e068row33_col0 {\n",
       "            background-color:  #fff7fb;\n",
       "            color:  #000000;\n",
       "        }    #T_4c2ca232_8352_11ea_9b37_a4bf0138e068row34_col0 {\n",
       "            background-color:  #fff7fb;\n",
       "            color:  #000000;\n",
       "        }    #T_4c2ca232_8352_11ea_9b37_a4bf0138e068row35_col0 {\n",
       "            background-color:  #fff7fb;\n",
       "            color:  #000000;\n",
       "        }    #T_4c2ca232_8352_11ea_9b37_a4bf0138e068row36_col0 {\n",
       "            background-color:  #fef6fb;\n",
       "            color:  #000000;\n",
       "        }    #T_4c2ca232_8352_11ea_9b37_a4bf0138e068row37_col0 {\n",
       "            background-color:  #fff7fb;\n",
       "            color:  #000000;\n",
       "        }    #T_4c2ca232_8352_11ea_9b37_a4bf0138e068row38_col0 {\n",
       "            background-color:  #fff7fb;\n",
       "            color:  #000000;\n",
       "        }    #T_4c2ca232_8352_11ea_9b37_a4bf0138e068row39_col0 {\n",
       "            background-color:  #fef6fb;\n",
       "            color:  #000000;\n",
       "        }    #T_4c2ca232_8352_11ea_9b37_a4bf0138e068row40_col0 {\n",
       "            background-color:  #fff7fb;\n",
       "            color:  #000000;\n",
       "        }    #T_4c2ca232_8352_11ea_9b37_a4bf0138e068row41_col0 {\n",
       "            background-color:  #fff7fb;\n",
       "            color:  #000000;\n",
       "        }    #T_4c2ca232_8352_11ea_9b37_a4bf0138e068row42_col0 {\n",
       "            background-color:  #fef6fb;\n",
       "            color:  #000000;\n",
       "        }    #T_4c2ca232_8352_11ea_9b37_a4bf0138e068row43_col0 {\n",
       "            background-color:  #fff7fb;\n",
       "            color:  #000000;\n",
       "        }    #T_4c2ca232_8352_11ea_9b37_a4bf0138e068row44_col0 {\n",
       "            background-color:  #fff7fb;\n",
       "            color:  #000000;\n",
       "        }    #T_4c2ca232_8352_11ea_9b37_a4bf0138e068row45_col0 {\n",
       "            background-color:  #fdf5fa;\n",
       "            color:  #000000;\n",
       "        }    #T_4c2ca232_8352_11ea_9b37_a4bf0138e068row46_col0 {\n",
       "            background-color:  #fff7fb;\n",
       "            color:  #000000;\n",
       "        }    #T_4c2ca232_8352_11ea_9b37_a4bf0138e068row47_col0 {\n",
       "            background-color:  #fff7fb;\n",
       "            color:  #000000;\n",
       "        }    #T_4c2ca232_8352_11ea_9b37_a4bf0138e068row48_col0 {\n",
       "            background-color:  #fef6fb;\n",
       "            color:  #000000;\n",
       "        }    #T_4c2ca232_8352_11ea_9b37_a4bf0138e068row49_col0 {\n",
       "            background-color:  #fff7fb;\n",
       "            color:  #000000;\n",
       "        }    #T_4c2ca232_8352_11ea_9b37_a4bf0138e068row50_col0 {\n",
       "            background-color:  #fff7fb;\n",
       "            color:  #000000;\n",
       "        }    #T_4c2ca232_8352_11ea_9b37_a4bf0138e068row51_col0 {\n",
       "            background-color:  #fff7fb;\n",
       "            color:  #000000;\n",
       "        }    #T_4c2ca232_8352_11ea_9b37_a4bf0138e068row52_col0 {\n",
       "            background-color:  #fff7fb;\n",
       "            color:  #000000;\n",
       "        }    #T_4c2ca232_8352_11ea_9b37_a4bf0138e068row53_col0 {\n",
       "            background-color:  #fff7fb;\n",
       "            color:  #000000;\n",
       "        }    #T_4c2ca232_8352_11ea_9b37_a4bf0138e068row54_col0 {\n",
       "            background-color:  #faf2f8;\n",
       "            color:  #000000;\n",
       "        }    #T_4c2ca232_8352_11ea_9b37_a4bf0138e068row55_col0 {\n",
       "            background-color:  #fff7fb;\n",
       "            color:  #000000;\n",
       "        }    #T_4c2ca232_8352_11ea_9b37_a4bf0138e068row56_col0 {\n",
       "            background-color:  #fff7fb;\n",
       "            color:  #000000;\n",
       "        }    #T_4c2ca232_8352_11ea_9b37_a4bf0138e068row57_col0 {\n",
       "            background-color:  #fff7fb;\n",
       "            color:  #000000;\n",
       "        }    #T_4c2ca232_8352_11ea_9b37_a4bf0138e068row58_col0 {\n",
       "            background-color:  #fff7fb;\n",
       "            color:  #000000;\n",
       "        }    #T_4c2ca232_8352_11ea_9b37_a4bf0138e068row59_col0 {\n",
       "            background-color:  #fff7fb;\n",
       "            color:  #000000;\n",
       "        }    #T_4c2ca232_8352_11ea_9b37_a4bf0138e068row60_col0 {\n",
       "            background-color:  #fef6fb;\n",
       "            color:  #000000;\n",
       "        }    #T_4c2ca232_8352_11ea_9b37_a4bf0138e068row61_col0 {\n",
       "            background-color:  #fff7fb;\n",
       "            color:  #000000;\n",
       "        }    #T_4c2ca232_8352_11ea_9b37_a4bf0138e068row62_col0 {\n",
       "            background-color:  #fff7fb;\n",
       "            color:  #000000;\n",
       "        }    #T_4c2ca232_8352_11ea_9b37_a4bf0138e068row63_col0 {\n",
       "            background-color:  #fff7fb;\n",
       "            color:  #000000;\n",
       "        }    #T_4c2ca232_8352_11ea_9b37_a4bf0138e068row64_col0 {\n",
       "            background-color:  #fff7fb;\n",
       "            color:  #000000;\n",
       "        }    #T_4c2ca232_8352_11ea_9b37_a4bf0138e068row65_col0 {\n",
       "            background-color:  #fff7fb;\n",
       "            color:  #000000;\n",
       "        }    #T_4c2ca232_8352_11ea_9b37_a4bf0138e068row66_col0 {\n",
       "            background-color:  #fff7fb;\n",
       "            color:  #000000;\n",
       "        }    #T_4c2ca232_8352_11ea_9b37_a4bf0138e068row67_col0 {\n",
       "            background-color:  #fff7fb;\n",
       "            color:  #000000;\n",
       "        }    #T_4c2ca232_8352_11ea_9b37_a4bf0138e068row68_col0 {\n",
       "            background-color:  #fff7fb;\n",
       "            color:  #000000;\n",
       "        }    #T_4c2ca232_8352_11ea_9b37_a4bf0138e068row69_col0 {\n",
       "            background-color:  #fef6fb;\n",
       "            color:  #000000;\n",
       "        }    #T_4c2ca232_8352_11ea_9b37_a4bf0138e068row70_col0 {\n",
       "            background-color:  #fff7fb;\n",
       "            color:  #000000;\n",
       "        }    #T_4c2ca232_8352_11ea_9b37_a4bf0138e068row71_col0 {\n",
       "            background-color:  #fff7fb;\n",
       "            color:  #000000;\n",
       "        }    #T_4c2ca232_8352_11ea_9b37_a4bf0138e068row72_col0 {\n",
       "            background-color:  #fff7fb;\n",
       "            color:  #000000;\n",
       "        }    #T_4c2ca232_8352_11ea_9b37_a4bf0138e068row73_col0 {\n",
       "            background-color:  #fff7fb;\n",
       "            color:  #000000;\n",
       "        }    #T_4c2ca232_8352_11ea_9b37_a4bf0138e068row74_col0 {\n",
       "            background-color:  #fff7fb;\n",
       "            color:  #000000;\n",
       "        }    #T_4c2ca232_8352_11ea_9b37_a4bf0138e068row75_col0 {\n",
       "            background-color:  #fff7fb;\n",
       "            color:  #000000;\n",
       "        }    #T_4c2ca232_8352_11ea_9b37_a4bf0138e068row76_col0 {\n",
       "            background-color:  #fff7fb;\n",
       "            color:  #000000;\n",
       "        }    #T_4c2ca232_8352_11ea_9b37_a4bf0138e068row77_col0 {\n",
       "            background-color:  #fff7fb;\n",
       "            color:  #000000;\n",
       "        }    #T_4c2ca232_8352_11ea_9b37_a4bf0138e068row78_col0 {\n",
       "            background-color:  #fff7fb;\n",
       "            color:  #000000;\n",
       "        }    #T_4c2ca232_8352_11ea_9b37_a4bf0138e068row79_col0 {\n",
       "            background-color:  #fff7fb;\n",
       "            color:  #000000;\n",
       "        }    #T_4c2ca232_8352_11ea_9b37_a4bf0138e068row80_col0 {\n",
       "            background-color:  #fff7fb;\n",
       "            color:  #000000;\n",
       "        }    #T_4c2ca232_8352_11ea_9b37_a4bf0138e068row81_col0 {\n",
       "            background-color:  #fdf5fa;\n",
       "            color:  #000000;\n",
       "        }    #T_4c2ca232_8352_11ea_9b37_a4bf0138e068row82_col0 {\n",
       "            background-color:  #fff7fb;\n",
       "            color:  #000000;\n",
       "        }    #T_4c2ca232_8352_11ea_9b37_a4bf0138e068row83_col0 {\n",
       "            background-color:  #fff7fb;\n",
       "            color:  #000000;\n",
       "        }</style><table id=\"T_4c2ca232_8352_11ea_9b37_a4bf0138e068\" ><thead>    <tr>        <th class=\"blank level0\" ></th>        <th class=\"col_heading level0 col0\" >Total Count or Rate</th>    </tr></thead><tbody>\n",
       "                <tr>\n",
       "                        <th id=\"T_4c2ca232_8352_11ea_9b37_a4bf0138e068level0_row0\" class=\"row_heading level0 row0\" >Confirmed Cases Worldwide</th>\n",
       "                        <td id=\"T_4c2ca232_8352_11ea_9b37_a4bf0138e068row0_col0\" class=\"data row0 col0\" >2355853.000000</td>\n",
       "            </tr>\n",
       "            <tr>\n",
       "                        <th id=\"T_4c2ca232_8352_11ea_9b37_a4bf0138e068level0_row1\" class=\"row_heading level0 row1\" >Death Cases Worldwide</th>\n",
       "                        <td id=\"T_4c2ca232_8352_11ea_9b37_a4bf0138e068row1_col0\" class=\"data row1 col0\" >164656.000000</td>\n",
       "            </tr>\n",
       "            <tr>\n",
       "                        <th id=\"T_4c2ca232_8352_11ea_9b37_a4bf0138e068level0_row2\" class=\"row_heading level0 row2\" >World Fatality_rate %</th>\n",
       "                        <td id=\"T_4c2ca232_8352_11ea_9b37_a4bf0138e068row2_col0\" class=\"data row2 col0\" >6.532649</td>\n",
       "            </tr>\n",
       "            <tr>\n",
       "                        <th id=\"T_4c2ca232_8352_11ea_9b37_a4bf0138e068level0_row3\" class=\"row_heading level0 row3\" >China Confirmed Cases</th>\n",
       "                        <td id=\"T_4c2ca232_8352_11ea_9b37_a4bf0138e068row3_col0\" class=\"data row3 col0\" >83758.000000</td>\n",
       "            </tr>\n",
       "            <tr>\n",
       "                        <th id=\"T_4c2ca232_8352_11ea_9b37_a4bf0138e068level0_row4\" class=\"row_heading level0 row4\" >China Death Cases</th>\n",
       "                        <td id=\"T_4c2ca232_8352_11ea_9b37_a4bf0138e068row4_col0\" class=\"data row4 col0\" >4634.000000</td>\n",
       "            </tr>\n",
       "            <tr>\n",
       "                        <th id=\"T_4c2ca232_8352_11ea_9b37_a4bf0138e068level0_row5\" class=\"row_heading level0 row5\" >China Fatality Rate %</th>\n",
       "                        <td id=\"T_4c2ca232_8352_11ea_9b37_a4bf0138e068row5_col0\" class=\"data row5 col0\" >5.242556</td>\n",
       "            </tr>\n",
       "            <tr>\n",
       "                        <th id=\"T_4c2ca232_8352_11ea_9b37_a4bf0138e068level0_row6\" class=\"row_heading level0 row6\" >Italy Confirmed Cases</th>\n",
       "                        <td id=\"T_4c2ca232_8352_11ea_9b37_a4bf0138e068row6_col0\" class=\"data row6 col0\" >178972.000000</td>\n",
       "            </tr>\n",
       "            <tr>\n",
       "                        <th id=\"T_4c2ca232_8352_11ea_9b37_a4bf0138e068level0_row7\" class=\"row_heading level0 row7\" >Italy Death Cases</th>\n",
       "                        <td id=\"T_4c2ca232_8352_11ea_9b37_a4bf0138e068row7_col0\" class=\"data row7 col0\" >23660.000000</td>\n",
       "            </tr>\n",
       "            <tr>\n",
       "                        <th id=\"T_4c2ca232_8352_11ea_9b37_a4bf0138e068level0_row8\" class=\"row_heading level0 row8\" >Italy Fatality Rate %</th>\n",
       "                        <td id=\"T_4c2ca232_8352_11ea_9b37_a4bf0138e068row8_col0\" class=\"data row8 col0\" >11.676339</td>\n",
       "            </tr>\n",
       "            <tr>\n",
       "                        <th id=\"T_4c2ca232_8352_11ea_9b37_a4bf0138e068level0_row9\" class=\"row_heading level0 row9\" >Spain Confirmed Cases</th>\n",
       "                        <td id=\"T_4c2ca232_8352_11ea_9b37_a4bf0138e068row9_col0\" class=\"data row9 col0\" >195944.000000</td>\n",
       "            </tr>\n",
       "            <tr>\n",
       "                        <th id=\"T_4c2ca232_8352_11ea_9b37_a4bf0138e068level0_row10\" class=\"row_heading level0 row10\" >Spain Death Cases</th>\n",
       "                        <td id=\"T_4c2ca232_8352_11ea_9b37_a4bf0138e068row10_col0\" class=\"data row10 col0\" >20453.000000</td>\n",
       "            </tr>\n",
       "            <tr>\n",
       "                        <th id=\"T_4c2ca232_8352_11ea_9b37_a4bf0138e068level0_row11\" class=\"row_heading level0 row11\" >Spain Fatality Rate %</th>\n",
       "                        <td id=\"T_4c2ca232_8352_11ea_9b37_a4bf0138e068row11_col0\" class=\"data row11 col0\" >9.451610</td>\n",
       "            </tr>\n",
       "            <tr>\n",
       "                        <th id=\"T_4c2ca232_8352_11ea_9b37_a4bf0138e068level0_row12\" class=\"row_heading level0 row12\" >France Confirmed Cases</th>\n",
       "                        <td id=\"T_4c2ca232_8352_11ea_9b37_a4bf0138e068row12_col0\" class=\"data row12 col0\" >112606.000000</td>\n",
       "            </tr>\n",
       "            <tr>\n",
       "                        <th id=\"T_4c2ca232_8352_11ea_9b37_a4bf0138e068level0_row13\" class=\"row_heading level0 row13\" >France Death Cases</th>\n",
       "                        <td id=\"T_4c2ca232_8352_11ea_9b37_a4bf0138e068row13_col0\" class=\"data row13 col0\" >19718.000000</td>\n",
       "            </tr>\n",
       "            <tr>\n",
       "                        <th id=\"T_4c2ca232_8352_11ea_9b37_a4bf0138e068level0_row14\" class=\"row_heading level0 row14\" >France Fatality Rate %</th>\n",
       "                        <td id=\"T_4c2ca232_8352_11ea_9b37_a4bf0138e068row14_col0\" class=\"data row14 col0\" >14.901303</td>\n",
       "            </tr>\n",
       "            <tr>\n",
       "                        <th id=\"T_4c2ca232_8352_11ea_9b37_a4bf0138e068level0_row15\" class=\"row_heading level0 row15\" >Iran Confirmed Cases</th>\n",
       "                        <td id=\"T_4c2ca232_8352_11ea_9b37_a4bf0138e068row15_col0\" class=\"data row15 col0\" >82211.000000</td>\n",
       "            </tr>\n",
       "            <tr>\n",
       "                        <th id=\"T_4c2ca232_8352_11ea_9b37_a4bf0138e068level0_row16\" class=\"row_heading level0 row16\" >Iran Death Cases</th>\n",
       "                        <td id=\"T_4c2ca232_8352_11ea_9b37_a4bf0138e068row16_col0\" class=\"data row16 col0\" >5118.000000</td>\n",
       "            </tr>\n",
       "            <tr>\n",
       "                        <th id=\"T_4c2ca232_8352_11ea_9b37_a4bf0138e068level0_row17\" class=\"row_heading level0 row17\" >Iran Fatality Rate %</th>\n",
       "                        <td id=\"T_4c2ca232_8352_11ea_9b37_a4bf0138e068row17_col0\" class=\"data row17 col0\" >5.860596</td>\n",
       "            </tr>\n",
       "            <tr>\n",
       "                        <th id=\"T_4c2ca232_8352_11ea_9b37_a4bf0138e068level0_row18\" class=\"row_heading level0 row18\" >Germany Confirmed Cases</th>\n",
       "                        <td id=\"T_4c2ca232_8352_11ea_9b37_a4bf0138e068row18_col0\" class=\"data row18 col0\" >141672.000000</td>\n",
       "            </tr>\n",
       "            <tr>\n",
       "                        <th id=\"T_4c2ca232_8352_11ea_9b37_a4bf0138e068level0_row19\" class=\"row_heading level0 row19\" >Germany Death Cases</th>\n",
       "                        <td id=\"T_4c2ca232_8352_11ea_9b37_a4bf0138e068row19_col0\" class=\"data row19 col0\" >4404.000000</td>\n",
       "            </tr>\n",
       "            <tr>\n",
       "                        <th id=\"T_4c2ca232_8352_11ea_9b37_a4bf0138e068level0_row20\" class=\"row_heading level0 row20\" >Germany Fatality Rate %</th>\n",
       "                        <td id=\"T_4c2ca232_8352_11ea_9b37_a4bf0138e068row20_col0\" class=\"data row20 col0\" >3.014869</td>\n",
       "            </tr>\n",
       "            <tr>\n",
       "                        <th id=\"T_4c2ca232_8352_11ea_9b37_a4bf0138e068level0_row21\" class=\"row_heading level0 row21\" >US Confirmed Cases</th>\n",
       "                        <td id=\"T_4c2ca232_8352_11ea_9b37_a4bf0138e068row21_col0\" class=\"data row21 col0\" >759687.000000</td>\n",
       "            </tr>\n",
       "            <tr>\n",
       "                        <th id=\"T_4c2ca232_8352_11ea_9b37_a4bf0138e068level0_row22\" class=\"row_heading level0 row22\" >US Death Cases</th>\n",
       "                        <td id=\"T_4c2ca232_8352_11ea_9b37_a4bf0138e068row22_col0\" class=\"data row22 col0\" >40682.000000</td>\n",
       "            </tr>\n",
       "            <tr>\n",
       "                        <th id=\"T_4c2ca232_8352_11ea_9b37_a4bf0138e068level0_row23\" class=\"row_heading level0 row23\" >US Fatality Rate %</th>\n",
       "                        <td id=\"T_4c2ca232_8352_11ea_9b37_a4bf0138e068row23_col0\" class=\"data row23 col0\" >5.082906</td>\n",
       "            </tr>\n",
       "            <tr>\n",
       "                        <th id=\"T_4c2ca232_8352_11ea_9b37_a4bf0138e068level0_row24\" class=\"row_heading level0 row24\" >UK Confirmed Cases</th>\n",
       "                        <td id=\"T_4c2ca232_8352_11ea_9b37_a4bf0138e068row24_col0\" class=\"data row24 col0\" >120067.000000</td>\n",
       "            </tr>\n",
       "            <tr>\n",
       "                        <th id=\"T_4c2ca232_8352_11ea_9b37_a4bf0138e068level0_row25\" class=\"row_heading level0 row25\" >UK Death Cases</th>\n",
       "                        <td id=\"T_4c2ca232_8352_11ea_9b37_a4bf0138e068row25_col0\" class=\"data row25 col0\" >16060.000000</td>\n",
       "            </tr>\n",
       "            <tr>\n",
       "                        <th id=\"T_4c2ca232_8352_11ea_9b37_a4bf0138e068level0_row26\" class=\"row_heading level0 row26\" >UK Fatality Rate %</th>\n",
       "                        <td id=\"T_4c2ca232_8352_11ea_9b37_a4bf0138e068row26_col0\" class=\"data row26 col0\" >11.797806</td>\n",
       "            </tr>\n",
       "            <tr>\n",
       "                        <th id=\"T_4c2ca232_8352_11ea_9b37_a4bf0138e068level0_row27\" class=\"row_heading level0 row27\" >Netherlands (Holland) Confirmed Cases</th>\n",
       "                        <td id=\"T_4c2ca232_8352_11ea_9b37_a4bf0138e068row27_col0\" class=\"data row27 col0\" >32655.000000</td>\n",
       "            </tr>\n",
       "            <tr>\n",
       "                        <th id=\"T_4c2ca232_8352_11ea_9b37_a4bf0138e068level0_row28\" class=\"row_heading level0 row28\" >Netherlands (Holland) Death Cases</th>\n",
       "                        <td id=\"T_4c2ca232_8352_11ea_9b37_a4bf0138e068row28_col0\" class=\"data row28 col0\" >3684.000000</td>\n",
       "            </tr>\n",
       "            <tr>\n",
       "                        <th id=\"T_4c2ca232_8352_11ea_9b37_a4bf0138e068level0_row29\" class=\"row_heading level0 row29\" >Netherlands (Holland) Fatality Rate %</th>\n",
       "                        <td id=\"T_4c2ca232_8352_11ea_9b37_a4bf0138e068row29_col0\" class=\"data row29 col0\" >10.137868</td>\n",
       "            </tr>\n",
       "            <tr>\n",
       "                        <th id=\"T_4c2ca232_8352_11ea_9b37_a4bf0138e068level0_row30\" class=\"row_heading level0 row30\" >Swiss Confirmed Cases</th>\n",
       "                        <td id=\"T_4c2ca232_8352_11ea_9b37_a4bf0138e068row30_col0\" class=\"data row30 col0\" >27658.000000</td>\n",
       "            </tr>\n",
       "            <tr>\n",
       "                        <th id=\"T_4c2ca232_8352_11ea_9b37_a4bf0138e068level0_row31\" class=\"row_heading level0 row31\" >Swiss Death Cases</th>\n",
       "                        <td id=\"T_4c2ca232_8352_11ea_9b37_a4bf0138e068row31_col0\" class=\"data row31 col0\" >1134.000000</td>\n",
       "            </tr>\n",
       "            <tr>\n",
       "                        <th id=\"T_4c2ca232_8352_11ea_9b37_a4bf0138e068level0_row32\" class=\"row_heading level0 row32\" >Swiss Fatality Rate %</th>\n",
       "                        <td id=\"T_4c2ca232_8352_11ea_9b37_a4bf0138e068row32_col0\" class=\"data row32 col0\" >3.938594</td>\n",
       "            </tr>\n",
       "            <tr>\n",
       "                        <th id=\"T_4c2ca232_8352_11ea_9b37_a4bf0138e068level0_row33\" class=\"row_heading level0 row33\" >Norway Confirmed Cases</th>\n",
       "                        <td id=\"T_4c2ca232_8352_11ea_9b37_a4bf0138e068row33_col0\" class=\"data row33 col0\" >7068.000000</td>\n",
       "            </tr>\n",
       "            <tr>\n",
       "                        <th id=\"T_4c2ca232_8352_11ea_9b37_a4bf0138e068level0_row34\" class=\"row_heading level0 row34\" >Norway Death Cases</th>\n",
       "                        <td id=\"T_4c2ca232_8352_11ea_9b37_a4bf0138e068row34_col0\" class=\"data row34 col0\" >154.000000</td>\n",
       "            </tr>\n",
       "            <tr>\n",
       "                        <th id=\"T_4c2ca232_8352_11ea_9b37_a4bf0138e068level0_row35\" class=\"row_heading level0 row35\" >Norway Fatality Rate %</th>\n",
       "                        <td id=\"T_4c2ca232_8352_11ea_9b37_a4bf0138e068row35_col0\" class=\"data row35 col0\" >2.132373</td>\n",
       "            </tr>\n",
       "            <tr>\n",
       "                        <th id=\"T_4c2ca232_8352_11ea_9b37_a4bf0138e068level0_row36\" class=\"row_heading level0 row36\" >Sweden Confirmed Cases</th>\n",
       "                        <td id=\"T_4c2ca232_8352_11ea_9b37_a4bf0138e068row36_col0\" class=\"data row36 col0\" >14385.000000</td>\n",
       "            </tr>\n",
       "            <tr>\n",
       "                        <th id=\"T_4c2ca232_8352_11ea_9b37_a4bf0138e068level0_row37\" class=\"row_heading level0 row37\" >Sweden Death Cases</th>\n",
       "                        <td id=\"T_4c2ca232_8352_11ea_9b37_a4bf0138e068row37_col0\" class=\"data row37 col0\" >1540.000000</td>\n",
       "            </tr>\n",
       "            <tr>\n",
       "                        <th id=\"T_4c2ca232_8352_11ea_9b37_a4bf0138e068level0_row38\" class=\"row_heading level0 row38\" >Sweden Fatality Rate %</th>\n",
       "                        <td id=\"T_4c2ca232_8352_11ea_9b37_a4bf0138e068row38_col0\" class=\"data row38 col0\" >9.670330</td>\n",
       "            </tr>\n",
       "            <tr>\n",
       "                        <th id=\"T_4c2ca232_8352_11ea_9b37_a4bf0138e068level0_row39\" class=\"row_heading level0 row39\" >South Korea Confirmed Cases</th>\n",
       "                        <td id=\"T_4c2ca232_8352_11ea_9b37_a4bf0138e068row39_col0\" class=\"data row39 col0\" >10674.000000</td>\n",
       "            </tr>\n",
       "            <tr>\n",
       "                        <th id=\"T_4c2ca232_8352_11ea_9b37_a4bf0138e068level0_row40\" class=\"row_heading level0 row40\" >South Korea Death Cases</th>\n",
       "                        <td id=\"T_4c2ca232_8352_11ea_9b37_a4bf0138e068row40_col0\" class=\"data row40 col0\" >236.000000</td>\n",
       "            </tr>\n",
       "            <tr>\n",
       "                        <th id=\"T_4c2ca232_8352_11ea_9b37_a4bf0138e068level0_row41\" class=\"row_heading level0 row41\" >South Korea Fatality Rate %</th>\n",
       "                        <td id=\"T_4c2ca232_8352_11ea_9b37_a4bf0138e068row41_col0\" class=\"data row41 col0\" >2.163153</td>\n",
       "            </tr>\n",
       "            <tr>\n",
       "                        <th id=\"T_4c2ca232_8352_11ea_9b37_a4bf0138e068level0_row42\" class=\"row_heading level0 row42\" >Japan Confirmed Cases</th>\n",
       "                        <td id=\"T_4c2ca232_8352_11ea_9b37_a4bf0138e068row42_col0\" class=\"data row42 col0\" >10750.000000</td>\n",
       "            </tr>\n",
       "            <tr>\n",
       "                        <th id=\"T_4c2ca232_8352_11ea_9b37_a4bf0138e068level0_row43\" class=\"row_heading level0 row43\" >Japan Death Cases</th>\n",
       "                        <td id=\"T_4c2ca232_8352_11ea_9b37_a4bf0138e068row43_col0\" class=\"data row43 col0\" >171.000000</td>\n",
       "            </tr>\n",
       "            <tr>\n",
       "                        <th id=\"T_4c2ca232_8352_11ea_9b37_a4bf0138e068level0_row44\" class=\"row_heading level0 row44\" >Japan Fatality Rate %</th>\n",
       "                        <td id=\"T_4c2ca232_8352_11ea_9b37_a4bf0138e068row44_col0\" class=\"data row44 col0\" >1.565791</td>\n",
       "            </tr>\n",
       "            <tr>\n",
       "                        <th id=\"T_4c2ca232_8352_11ea_9b37_a4bf0138e068level0_row45\" class=\"row_heading level0 row45\" >Russia Confirmed Cases</th>\n",
       "                        <td id=\"T_4c2ca232_8352_11ea_9b37_a4bf0138e068row45_col0\" class=\"data row45 col0\" >42853.000000</td>\n",
       "            </tr>\n",
       "            <tr>\n",
       "                        <th id=\"T_4c2ca232_8352_11ea_9b37_a4bf0138e068level0_row46\" class=\"row_heading level0 row46\" >Russia Death Cases</th>\n",
       "                        <td id=\"T_4c2ca232_8352_11ea_9b37_a4bf0138e068row46_col0\" class=\"data row46 col0\" >361.000000</td>\n",
       "            </tr>\n",
       "            <tr>\n",
       "                        <th id=\"T_4c2ca232_8352_11ea_9b37_a4bf0138e068level0_row47\" class=\"row_heading level0 row47\" >Russia Fatality Rate %</th>\n",
       "                        <td id=\"T_4c2ca232_8352_11ea_9b37_a4bf0138e068row47_col0\" class=\"data row47 col0\" >0.835377</td>\n",
       "            </tr>\n",
       "            <tr>\n",
       "                        <th id=\"T_4c2ca232_8352_11ea_9b37_a4bf0138e068level0_row48\" class=\"row_heading level0 row48\" >Israel Confirmed Cases</th>\n",
       "                        <td id=\"T_4c2ca232_8352_11ea_9b37_a4bf0138e068row48_col0\" class=\"data row48 col0\" >13491.000000</td>\n",
       "            </tr>\n",
       "            <tr>\n",
       "                        <th id=\"T_4c2ca232_8352_11ea_9b37_a4bf0138e068level0_row49\" class=\"row_heading level0 row49\" >Israel Death Cases</th>\n",
       "                        <td id=\"T_4c2ca232_8352_11ea_9b37_a4bf0138e068row49_col0\" class=\"data row49 col0\" >172.000000</td>\n",
       "            </tr>\n",
       "            <tr>\n",
       "                        <th id=\"T_4c2ca232_8352_11ea_9b37_a4bf0138e068level0_row50\" class=\"row_heading level0 row50\" >Israel Fatality Rate %</th>\n",
       "                        <td id=\"T_4c2ca232_8352_11ea_9b37_a4bf0138e068row50_col0\" class=\"data row50 col0\" >1.258874</td>\n",
       "            </tr>\n",
       "            <tr>\n",
       "                        <th id=\"T_4c2ca232_8352_11ea_9b37_a4bf0138e068level0_row51\" class=\"row_heading level0 row51\" >Iraq Confirmed Cases</th>\n",
       "                        <td id=\"T_4c2ca232_8352_11ea_9b37_a4bf0138e068row51_col0\" class=\"data row51 col0\" >1539.000000</td>\n",
       "            </tr>\n",
       "            <tr>\n",
       "                        <th id=\"T_4c2ca232_8352_11ea_9b37_a4bf0138e068level0_row52\" class=\"row_heading level0 row52\" >Iraq Death Cases</th>\n",
       "                        <td id=\"T_4c2ca232_8352_11ea_9b37_a4bf0138e068row52_col0\" class=\"data row52 col0\" >82.000000</td>\n",
       "            </tr>\n",
       "            <tr>\n",
       "                        <th id=\"T_4c2ca232_8352_11ea_9b37_a4bf0138e068level0_row53\" class=\"row_heading level0 row53\" >Iraq Fatality Rate %</th>\n",
       "                        <td id=\"T_4c2ca232_8352_11ea_9b37_a4bf0138e068row53_col0\" class=\"data row53 col0\" >5.058606</td>\n",
       "            </tr>\n",
       "            <tr>\n",
       "                        <th id=\"T_4c2ca232_8352_11ea_9b37_a4bf0138e068level0_row54\" class=\"row_heading level0 row54\" >Turkey Confirmed Cases</th>\n",
       "                        <td id=\"T_4c2ca232_8352_11ea_9b37_a4bf0138e068row54_col0\" class=\"data row54 col0\" >86306.000000</td>\n",
       "            </tr>\n",
       "            <tr>\n",
       "                        <th id=\"T_4c2ca232_8352_11ea_9b37_a4bf0138e068level0_row55\" class=\"row_heading level0 row55\" >Turkey Death Cases</th>\n",
       "                        <td id=\"T_4c2ca232_8352_11ea_9b37_a4bf0138e068row55_col0\" class=\"data row55 col0\" >2017.000000</td>\n",
       "            </tr>\n",
       "            <tr>\n",
       "                        <th id=\"T_4c2ca232_8352_11ea_9b37_a4bf0138e068level0_row56\" class=\"row_heading level0 row56\" >Turkey Fatality Rate %</th>\n",
       "                        <td id=\"T_4c2ca232_8352_11ea_9b37_a4bf0138e068row56_col0\" class=\"data row56 col0\" >2.283663</td>\n",
       "            </tr>\n",
       "            <tr>\n",
       "                        <th id=\"T_4c2ca232_8352_11ea_9b37_a4bf0138e068level0_row57\" class=\"row_heading level0 row57\" >Qatar Confirmed Cases</th>\n",
       "                        <td id=\"T_4c2ca232_8352_11ea_9b37_a4bf0138e068row57_col0\" class=\"data row57 col0\" >5448.000000</td>\n",
       "            </tr>\n",
       "            <tr>\n",
       "                        <th id=\"T_4c2ca232_8352_11ea_9b37_a4bf0138e068level0_row58\" class=\"row_heading level0 row58\" >Qatar Death Cases</th>\n",
       "                        <td id=\"T_4c2ca232_8352_11ea_9b37_a4bf0138e068row58_col0\" class=\"data row58 col0\" >8.000000</td>\n",
       "            </tr>\n",
       "            <tr>\n",
       "                        <th id=\"T_4c2ca232_8352_11ea_9b37_a4bf0138e068level0_row59\" class=\"row_heading level0 row59\" >Qatar Fatality Rate %</th>\n",
       "                        <td id=\"T_4c2ca232_8352_11ea_9b37_a4bf0138e068row59_col0\" class=\"data row59 col0\" >0.146628</td>\n",
       "            </tr>\n",
       "            <tr>\n",
       "                        <th id=\"T_4c2ca232_8352_11ea_9b37_a4bf0138e068level0_row60\" class=\"row_heading level0 row60\" >Saudi Arabia Confirmed Cases</th>\n",
       "                        <td id=\"T_4c2ca232_8352_11ea_9b37_a4bf0138e068row60_col0\" class=\"data row60 col0\" >9362.000000</td>\n",
       "            </tr>\n",
       "            <tr>\n",
       "                        <th id=\"T_4c2ca232_8352_11ea_9b37_a4bf0138e068level0_row61\" class=\"row_heading level0 row61\" >Saudi Arabia Death Cases</th>\n",
       "                        <td id=\"T_4c2ca232_8352_11ea_9b37_a4bf0138e068row61_col0\" class=\"data row61 col0\" >97.000000</td>\n",
       "            </tr>\n",
       "            <tr>\n",
       "                        <th id=\"T_4c2ca232_8352_11ea_9b37_a4bf0138e068level0_row62\" class=\"row_heading level0 row62\" >Saudi Arabia Fatality Rate %</th>\n",
       "                        <td id=\"T_4c2ca232_8352_11ea_9b37_a4bf0138e068row62_col0\" class=\"data row62 col0\" >1.025478</td>\n",
       "            </tr>\n",
       "            <tr>\n",
       "                        <th id=\"T_4c2ca232_8352_11ea_9b37_a4bf0138e068level0_row63\" class=\"row_heading level0 row63\" >Egypt Confirmed Cases</th>\n",
       "                        <td id=\"T_4c2ca232_8352_11ea_9b37_a4bf0138e068row63_col0\" class=\"data row63 col0\" >3144.000000</td>\n",
       "            </tr>\n",
       "            <tr>\n",
       "                        <th id=\"T_4c2ca232_8352_11ea_9b37_a4bf0138e068level0_row64\" class=\"row_heading level0 row64\" >Egypt Death Cases</th>\n",
       "                        <td id=\"T_4c2ca232_8352_11ea_9b37_a4bf0138e068row64_col0\" class=\"data row64 col0\" >239.000000</td>\n",
       "            </tr>\n",
       "            <tr>\n",
       "                        <th id=\"T_4c2ca232_8352_11ea_9b37_a4bf0138e068level0_row65\" class=\"row_heading level0 row65\" >Egypt Fatality Rate %</th>\n",
       "                        <td id=\"T_4c2ca232_8352_11ea_9b37_a4bf0138e068row65_col0\" class=\"data row65 col0\" >7.064735</td>\n",
       "            </tr>\n",
       "            <tr>\n",
       "                        <th id=\"T_4c2ca232_8352_11ea_9b37_a4bf0138e068level0_row66\" class=\"row_heading level0 row66\" >South Africa Confirmed Cases</th>\n",
       "                        <td id=\"T_4c2ca232_8352_11ea_9b37_a4bf0138e068row66_col0\" class=\"data row66 col0\" >3158.000000</td>\n",
       "            </tr>\n",
       "            <tr>\n",
       "                        <th id=\"T_4c2ca232_8352_11ea_9b37_a4bf0138e068level0_row67\" class=\"row_heading level0 row67\" >South Africa Death Cases</th>\n",
       "                        <td id=\"T_4c2ca232_8352_11ea_9b37_a4bf0138e068row67_col0\" class=\"data row67 col0\" >54.000000</td>\n",
       "            </tr>\n",
       "            <tr>\n",
       "                        <th id=\"T_4c2ca232_8352_11ea_9b37_a4bf0138e068level0_row68\" class=\"row_heading level0 row68\" >South Africa Fatality Rate %</th>\n",
       "                        <td id=\"T_4c2ca232_8352_11ea_9b37_a4bf0138e068row68_col0\" class=\"data row68 col0\" >1.681196</td>\n",
       "            </tr>\n",
       "            <tr>\n",
       "                        <th id=\"T_4c2ca232_8352_11ea_9b37_a4bf0138e068level0_row69\" class=\"row_heading level0 row69\" >India Confirmed Cases</th>\n",
       "                        <td id=\"T_4c2ca232_8352_11ea_9b37_a4bf0138e068row69_col0\" class=\"data row69 col0\" >17265.000000</td>\n",
       "            </tr>\n",
       "            <tr>\n",
       "                        <th id=\"T_4c2ca232_8352_11ea_9b37_a4bf0138e068level0_row70\" class=\"row_heading level0 row70\" >India Death Cases</th>\n",
       "                        <td id=\"T_4c2ca232_8352_11ea_9b37_a4bf0138e068row70_col0\" class=\"data row70 col0\" >543.000000</td>\n",
       "            </tr>\n",
       "            <tr>\n",
       "                        <th id=\"T_4c2ca232_8352_11ea_9b37_a4bf0138e068level0_row71\" class=\"row_heading level0 row71\" >India Fatality Rate %</th>\n",
       "                        <td id=\"T_4c2ca232_8352_11ea_9b37_a4bf0138e068row71_col0\" class=\"data row71 col0\" >3.049191</td>\n",
       "            </tr>\n",
       "            <tr>\n",
       "                        <th id=\"T_4c2ca232_8352_11ea_9b37_a4bf0138e068level0_row72\" class=\"row_heading level0 row72\" >Pakistan Confirmed Cases</th>\n",
       "                        <td id=\"T_4c2ca232_8352_11ea_9b37_a4bf0138e068row72_col0\" class=\"data row72 col0\" >8418.000000</td>\n",
       "            </tr>\n",
       "            <tr>\n",
       "                        <th id=\"T_4c2ca232_8352_11ea_9b37_a4bf0138e068level0_row73\" class=\"row_heading level0 row73\" >Pakistan Death Cases</th>\n",
       "                        <td id=\"T_4c2ca232_8352_11ea_9b37_a4bf0138e068row73_col0\" class=\"data row73 col0\" >176.000000</td>\n",
       "            </tr>\n",
       "            <tr>\n",
       "                        <th id=\"T_4c2ca232_8352_11ea_9b37_a4bf0138e068level0_row74\" class=\"row_heading level0 row74\" >Pakistan Fatality Rate %</th>\n",
       "                        <td id=\"T_4c2ca232_8352_11ea_9b37_a4bf0138e068row74_col0\" class=\"data row74 col0\" >2.047940</td>\n",
       "            </tr>\n",
       "            <tr>\n",
       "                        <th id=\"T_4c2ca232_8352_11ea_9b37_a4bf0138e068level0_row75\" class=\"row_heading level0 row75\" >Australia Confirmed Cases</th>\n",
       "                        <td id=\"T_4c2ca232_8352_11ea_9b37_a4bf0138e068row75_col0\" class=\"data row75 col0\" >6612.000000</td>\n",
       "            </tr>\n",
       "            <tr>\n",
       "                        <th id=\"T_4c2ca232_8352_11ea_9b37_a4bf0138e068level0_row76\" class=\"row_heading level0 row76\" >Australia Death Cases</th>\n",
       "                        <td id=\"T_4c2ca232_8352_11ea_9b37_a4bf0138e068row76_col0\" class=\"data row76 col0\" >70.000000</td>\n",
       "            </tr>\n",
       "            <tr>\n",
       "                        <th id=\"T_4c2ca232_8352_11ea_9b37_a4bf0138e068level0_row77\" class=\"row_heading level0 row77\" >Australia Fatality Rate %</th>\n",
       "                        <td id=\"T_4c2ca232_8352_11ea_9b37_a4bf0138e068row77_col0\" class=\"data row77 col0\" >1.047591</td>\n",
       "            </tr>\n",
       "            <tr>\n",
       "                        <th id=\"T_4c2ca232_8352_11ea_9b37_a4bf0138e068level0_row78\" class=\"row_heading level0 row78\" >Indonesia Confirmed Cases</th>\n",
       "                        <td id=\"T_4c2ca232_8352_11ea_9b37_a4bf0138e068row78_col0\" class=\"data row78 col0\" >6575.000000</td>\n",
       "            </tr>\n",
       "            <tr>\n",
       "                        <th id=\"T_4c2ca232_8352_11ea_9b37_a4bf0138e068level0_row79\" class=\"row_heading level0 row79\" >Indonesia Death Cases</th>\n",
       "                        <td id=\"T_4c2ca232_8352_11ea_9b37_a4bf0138e068row79_col0\" class=\"data row79 col0\" >582.000000</td>\n",
       "            </tr>\n",
       "            <tr>\n",
       "                        <th id=\"T_4c2ca232_8352_11ea_9b37_a4bf0138e068level0_row80\" class=\"row_heading level0 row80\" >Indonesia Fatality Rate %</th>\n",
       "                        <td id=\"T_4c2ca232_8352_11ea_9b37_a4bf0138e068row80_col0\" class=\"data row80 col0\" >8.131899</td>\n",
       "            </tr>\n",
       "            <tr>\n",
       "                        <th id=\"T_4c2ca232_8352_11ea_9b37_a4bf0138e068level0_row81\" class=\"row_heading level0 row81\" >Brazil Confirmed Cases</th>\n",
       "                        <td id=\"T_4c2ca232_8352_11ea_9b37_a4bf0138e068row81_col0\" class=\"data row81 col0\" >38654.000000</td>\n",
       "            </tr>\n",
       "            <tr>\n",
       "                        <th id=\"T_4c2ca232_8352_11ea_9b37_a4bf0138e068level0_row82\" class=\"row_heading level0 row82\" >Brazil Death Cases</th>\n",
       "                        <td id=\"T_4c2ca232_8352_11ea_9b37_a4bf0138e068row82_col0\" class=\"data row82 col0\" >2462.000000</td>\n",
       "            </tr>\n",
       "            <tr>\n",
       "                        <th id=\"T_4c2ca232_8352_11ea_9b37_a4bf0138e068level0_row83\" class=\"row_heading level0 row83\" >Brazil Fatality Rate %</th>\n",
       "                        <td id=\"T_4c2ca232_8352_11ea_9b37_a4bf0138e068row83_col0\" class=\"data row83 col0\" >5.987937</td>\n",
       "            </tr>\n",
       "    </tbody></table>"
      ],
      "text/plain": [
       "<pandas.io.formats.style.Styler at 0x7fc0a97efe10>"
      ]
     },
     "execution_count": 98,
     "metadata": {},
     "output_type": "execute_result"
    }
   ],
   "source": [
    "data = {'Confirmed Cases Worldwide':twc,'Death Cases Worldwide':twd,'World Fatality_rate %':fatality_rate, \n",
    "       'China Confirmed Cases':chcon, 'China Death Cases':chdt, 'China Fatality Rate %':ch_mort_rate,\n",
    "       'Italy Confirmed Cases':itcon, 'Italy Death Cases':itdt, 'Italy Fatality Rate %':it_mort_rate,\n",
    "       'Spain Confirmed Cases':spcon, 'Spain Death Cases':spdt, 'Spain Fatality Rate %': sp_mort_rate,\n",
    "       'France Confirmed Cases':frcon, 'France Death Cases':frdt, 'France Fatality Rate %':fr_mort_rate,\n",
    "       'Iran Confirmed Cases':ircon, 'Iran Death Cases':irdt, 'Iran Fatality Rate %':ir_mort_rate,\n",
    "       'Germany Confirmed Cases':grcon, 'Germany Death Cases':grdt, 'Germany Fatality Rate %':gr_mort_rate,\n",
    "       'US Confirmed Cases':uscon, 'US Death Cases':usdt, 'US Fatality Rate %':us_mort_rate,\n",
    "       'UK Confirmed Cases':ukcon, 'UK Death Cases':ukdt, 'UK Fatality Rate %':uk_mort_rate,\n",
    "       'Netherlands (Holland) Confirmed Cases':nlcon, 'Netherlands (Holland) Death Cases':nldt, 'Netherlands (Holland) Fatality Rate %':nl_mort_rate,\n",
    "       'Swiss Confirmed Cases':swcon, 'Swiss Death Cases':swdt, 'Swiss Fatality Rate %':sw_mort_rate,\n",
    "       'Norway Confirmed Cases':nocon, 'Norway Death Cases':nodt, 'Norway Fatality Rate %':no_mort_rate,\n",
    "       'Sweden Confirmed Cases':swdcon, 'Sweden Death Cases':swddt, 'Sweden Fatality Rate %':swd_mort_rate,\n",
    "       'South Korea Confirmed Cases':skrcon, 'South Korea Death Cases':skrdt, 'South Korea Fatality Rate %':skr_mort_rate,\n",
    "       'Japan Confirmed Cases':jpcon, 'Japan Death Cases':jpdt, 'Japan Fatality Rate %':jp_mort_rate,\n",
    "       'Russia Confirmed Cases':rucon, 'Russia Death Cases':rudt, 'Russia Fatality Rate %':ru_mort_rate,\n",
    "       'Israel Confirmed Cases':ilcon, 'Israel Death Cases':ildt, 'Israel Fatality Rate %':il_mort_rate,\n",
    "       'Iraq Confirmed Cases':iqcon, 'Iraq Death Cases':iqdt, 'Iraq Fatality Rate %':iq_mort_rate,\n",
    "       'Turkey Confirmed Cases':trcon, 'Turkey Death Cases':trdt, 'Turkey Fatality Rate %':tr_mort_rate,\n",
    "       'Qatar Confirmed Cases':qrcon, 'Qatar Death Cases':qrdt, 'Qatar Fatality Rate %':qr_mort_rate,\n",
    "       'Saudi Arabia Confirmed Cases':ksacon, 'Saudi Arabia Death Cases':ksadt, 'Saudi Arabia Fatality Rate %': ksa_mort_rate,\n",
    "       'Egypt Confirmed Cases':egcon, 'Egypt Death Cases':egdt, 'Egypt Fatality Rate %':eg_mort_rate,\n",
    "       'South Africa Confirmed Cases':sacon, 'South Africa Death Cases':sadt, 'South Africa Fatality Rate %':sa_mort_rate,\n",
    "       'India Confirmed Cases':incon, 'India Death Cases':indt, 'India Fatality Rate %': in_mort_rate,\n",
    "       'Pakistan Confirmed Cases':pkcon, 'Pakistan Death Cases':pkdt, 'Pakistan Fatality Rate %': pk_mort_rate,\n",
    "       'Australia Confirmed Cases':aucon, 'Australia Death Cases':audt, 'Australia Fatality Rate %': au_mort_rate,\n",
    "       'Indonesia Confirmed Cases':inesiacon, 'Indonesia Death Cases':inesiadt, 'Indonesia Fatality Rate %': inesia_mort_rate,\n",
    "       'Brazil Confirmed Cases':brcon, 'Brazil Death Cases':brdt, 'Brazil Fatality Rate %': br_mort_rate,\n",
    "       }\n",
    "\n",
    "data = pd.DataFrame.from_dict(data, orient='index' ,columns=['Total Count or Rate'])\n",
    "data.style.background_gradient(cmap='PuBu')"
   ]
  },
  {
   "cell_type": "code",
   "execution_count": 99,
   "metadata": {},
   "outputs": [],
   "source": [
    "df_per_day = ndf.groupby('Date')[['Confirmed','Deaths']].sum()"
   ]
  },
  {
   "cell_type": "code",
   "execution_count": 100,
   "metadata": {},
   "outputs": [
    {
     "data": {
      "text/html": [
       "<div>\n",
       "<style scoped>\n",
       "    .dataframe tbody tr th:only-of-type {\n",
       "        vertical-align: middle;\n",
       "    }\n",
       "\n",
       "    .dataframe tbody tr th {\n",
       "        vertical-align: top;\n",
       "    }\n",
       "\n",
       "    .dataframe thead th {\n",
       "        text-align: right;\n",
       "    }\n",
       "</style>\n",
       "<table border=\"1\" class=\"dataframe\">\n",
       "  <thead>\n",
       "    <tr style=\"text-align: right;\">\n",
       "      <th></th>\n",
       "      <th>Confirmed</th>\n",
       "      <th>Deaths</th>\n",
       "    </tr>\n",
       "    <tr>\n",
       "      <th>Date</th>\n",
       "      <th></th>\n",
       "      <th></th>\n",
       "    </tr>\n",
       "  </thead>\n",
       "  <tbody>\n",
       "    <tr>\n",
       "      <th>2019-12-31</th>\n",
       "      <td>27</td>\n",
       "      <td>0</td>\n",
       "    </tr>\n",
       "    <tr>\n",
       "      <th>2020-01-01</th>\n",
       "      <td>0</td>\n",
       "      <td>0</td>\n",
       "    </tr>\n",
       "    <tr>\n",
       "      <th>2020-01-02</th>\n",
       "      <td>0</td>\n",
       "      <td>0</td>\n",
       "    </tr>\n",
       "    <tr>\n",
       "      <th>2020-01-03</th>\n",
       "      <td>17</td>\n",
       "      <td>0</td>\n",
       "    </tr>\n",
       "    <tr>\n",
       "      <th>2020-01-04</th>\n",
       "      <td>0</td>\n",
       "      <td>0</td>\n",
       "    </tr>\n",
       "  </tbody>\n",
       "</table>\n",
       "</div>"
      ],
      "text/plain": [
       "            Confirmed  Deaths\n",
       "Date                         \n",
       "2019-12-31         27       0\n",
       "2020-01-01          0       0\n",
       "2020-01-02          0       0\n",
       "2020-01-03         17       0\n",
       "2020-01-04          0       0"
      ]
     },
     "execution_count": 100,
     "metadata": {},
     "output_type": "execute_result"
    }
   ],
   "source": [
    "df_per_day.head()"
   ]
  },
  {
   "cell_type": "code",
   "execution_count": 101,
   "metadata": {},
   "outputs": [
    {
     "data": {
      "text/html": [
       "<div>\n",
       "<style scoped>\n",
       "    .dataframe tbody tr th:only-of-type {\n",
       "        vertical-align: middle;\n",
       "    }\n",
       "\n",
       "    .dataframe tbody tr th {\n",
       "        vertical-align: top;\n",
       "    }\n",
       "\n",
       "    .dataframe thead th {\n",
       "        text-align: right;\n",
       "    }\n",
       "</style>\n",
       "<table border=\"1\" class=\"dataframe\">\n",
       "  <thead>\n",
       "    <tr style=\"text-align: right;\">\n",
       "      <th></th>\n",
       "      <th>Confirmed</th>\n",
       "      <th>Deaths</th>\n",
       "    </tr>\n",
       "    <tr>\n",
       "      <th>Date</th>\n",
       "      <th></th>\n",
       "      <th></th>\n",
       "    </tr>\n",
       "  </thead>\n",
       "  <tbody>\n",
       "    <tr>\n",
       "      <th>2020-04-16</th>\n",
       "      <td>81008</td>\n",
       "      <td>10345</td>\n",
       "    </tr>\n",
       "    <tr>\n",
       "      <th>2020-04-17</th>\n",
       "      <td>84339</td>\n",
       "      <td>8507</td>\n",
       "    </tr>\n",
       "    <tr>\n",
       "      <th>2020-04-18</th>\n",
       "      <td>83324</td>\n",
       "      <td>8263</td>\n",
       "    </tr>\n",
       "    <tr>\n",
       "      <th>2020-04-19</th>\n",
       "      <td>84121</td>\n",
       "      <td>6421</td>\n",
       "    </tr>\n",
       "    <tr>\n",
       "      <th>2020-04-20</th>\n",
       "      <td>74139</td>\n",
       "      <td>5145</td>\n",
       "    </tr>\n",
       "  </tbody>\n",
       "</table>\n",
       "</div>"
      ],
      "text/plain": [
       "            Confirmed  Deaths\n",
       "Date                         \n",
       "2020-04-16      81008   10345\n",
       "2020-04-17      84339    8507\n",
       "2020-04-18      83324    8263\n",
       "2020-04-19      84121    6421\n",
       "2020-04-20      74139    5145"
      ]
     },
     "execution_count": 101,
     "metadata": {},
     "output_type": "execute_result"
    }
   ],
   "source": [
    "df_per_day.tail()"
   ]
  },
  {
   "cell_type": "code",
   "execution_count": 102,
   "metadata": {},
   "outputs": [
    {
     "data": {
      "text/plain": [
       "89349"
      ]
     },
     "execution_count": 102,
     "metadata": {},
     "output_type": "execute_result"
    }
   ],
   "source": [
    "# Max. No. of confirmed cases per day\n",
    "df_per_day['Confirmed'].max()"
   ]
  },
  {
   "cell_type": "code",
   "execution_count": 103,
   "metadata": {},
   "outputs": [
    {
     "data": {
      "text/plain": [
       "Timestamp('2020-04-11 00:00:00')"
      ]
     },
     "execution_count": 103,
     "metadata": {},
     "output_type": "execute_result"
    }
   ],
   "source": [
    "# Date of Max. No. of confirmed cases\n",
    "df_per_day['Confirmed'].idxmax()"
   ]
  },
  {
   "cell_type": "code",
   "execution_count": 104,
   "metadata": {},
   "outputs": [
    {
     "data": {
      "text/plain": [
       "0"
      ]
     },
     "execution_count": 104,
     "metadata": {},
     "output_type": "execute_result"
    }
   ],
   "source": [
    "# Min. No. of confirmed cases per day\n",
    "df_per_day['Confirmed'].min()"
   ]
  },
  {
   "cell_type": "code",
   "execution_count": 105,
   "metadata": {},
   "outputs": [
    {
     "data": {
      "text/plain": [
       "Timestamp('2020-01-01 00:00:00')"
      ]
     },
     "execution_count": 105,
     "metadata": {},
     "output_type": "execute_result"
    }
   ],
   "source": [
    "# Date of Min. No. of confirmed cases\n",
    "df_per_day['Confirmed'].idxmin()"
   ]
  },
  {
   "cell_type": "code",
   "execution_count": 106,
   "metadata": {},
   "outputs": [
    {
     "data": {
      "text/plain": [
       "10345"
      ]
     },
     "execution_count": 106,
     "metadata": {},
     "output_type": "execute_result"
    }
   ],
   "source": [
    "# Max. No. of death cases per day\n",
    "df_per_day['Deaths'].max()"
   ]
  },
  {
   "cell_type": "code",
   "execution_count": 107,
   "metadata": {},
   "outputs": [
    {
     "data": {
      "text/plain": [
       "Timestamp('2020-04-16 00:00:00')"
      ]
     },
     "execution_count": 107,
     "metadata": {},
     "output_type": "execute_result"
    }
   ],
   "source": [
    "# Date of Max. No. of death cases\n",
    "df_per_day['Deaths'].idxmax()"
   ]
  },
  {
   "cell_type": "code",
   "execution_count": 108,
   "metadata": {},
   "outputs": [
    {
     "data": {
      "text/plain": [
       "0"
      ]
     },
     "execution_count": 108,
     "metadata": {},
     "output_type": "execute_result"
    }
   ],
   "source": [
    "# Min. No. of death cases per day\n",
    "df_per_day['Deaths'].min()"
   ]
  },
  {
   "cell_type": "code",
   "execution_count": 109,
   "metadata": {},
   "outputs": [
    {
     "data": {
      "text/plain": [
       "Timestamp('2019-12-31 00:00:00')"
      ]
     },
     "execution_count": 109,
     "metadata": {},
     "output_type": "execute_result"
    }
   ],
   "source": [
    "# Date of Min. No. of death cases\n",
    "df_per_day['Deaths'].idxmin()"
   ]
  },
  {
   "cell_type": "code",
   "execution_count": 110,
   "metadata": {},
   "outputs": [
    {
     "data": {
      "text/plain": [
       "Austria                        112\n",
       "Iran                           112\n",
       "US                             112\n",
       "South Korea                    112\n",
       "China                          112\n",
       "                              ... \n",
       "Malawi                          18\n",
       "Falkland_Islands_(Malvinas)     17\n",
       "South_Sudan                     15\n",
       "Sao_Tome_and_Principe           12\n",
       "Yemen                           11\n",
       "Name: Country, Length: 205, dtype: int64"
      ]
     },
     "execution_count": 110,
     "metadata": {},
     "output_type": "execute_result"
    }
   ],
   "source": [
    "ndf['Country'].value_counts()"
   ]
  },
  {
   "cell_type": "code",
   "execution_count": 111,
   "metadata": {},
   "outputs": [
    {
     "data": {
      "text/plain": [
       "205"
      ]
     },
     "execution_count": 111,
     "metadata": {},
     "output_type": "execute_result"
    }
   ],
   "source": [
    "len(ndf['Country'].unique())"
   ]
  },
  {
   "cell_type": "code",
   "execution_count": 112,
   "metadata": {},
   "outputs": [
    {
     "data": {
      "text/plain": [
       "Confirmed    9799\n",
       "Deaths        213\n",
       "dtype: int64"
      ]
     },
     "execution_count": 112,
     "metadata": {},
     "output_type": "execute_result"
    }
   ],
   "source": [
    "ndf.loc['2020-01'][['Confirmed','Deaths']].sum()"
   ]
  },
  {
   "cell_type": "code",
   "execution_count": 113,
   "metadata": {},
   "outputs": [
    {
     "data": {
      "text/html": [
       "<div>\n",
       "<style scoped>\n",
       "    .dataframe tbody tr th:only-of-type {\n",
       "        vertical-align: middle;\n",
       "    }\n",
       "\n",
       "    .dataframe tbody tr th {\n",
       "        vertical-align: top;\n",
       "    }\n",
       "\n",
       "    .dataframe thead th {\n",
       "        text-align: right;\n",
       "    }\n",
       "</style>\n",
       "<table border=\"1\" class=\"dataframe\">\n",
       "  <thead>\n",
       "    <tr style=\"text-align: right;\">\n",
       "      <th></th>\n",
       "      <th>Confirmed</th>\n",
       "      <th>Deaths</th>\n",
       "      <th>Continent</th>\n",
       "      <th>Country</th>\n",
       "    </tr>\n",
       "    <tr>\n",
       "      <th>Date</th>\n",
       "      <th></th>\n",
       "      <th></th>\n",
       "      <th></th>\n",
       "      <th></th>\n",
       "    </tr>\n",
       "  </thead>\n",
       "  <tbody>\n",
       "    <tr>\n",
       "      <th>2020-03-25</th>\n",
       "      <td>2</td>\n",
       "      <td>0</td>\n",
       "      <td>Asia</td>\n",
       "      <td>Afghanistan</td>\n",
       "    </tr>\n",
       "    <tr>\n",
       "      <th>2020-03-24</th>\n",
       "      <td>6</td>\n",
       "      <td>1</td>\n",
       "      <td>Asia</td>\n",
       "      <td>Afghanistan</td>\n",
       "    </tr>\n",
       "    <tr>\n",
       "      <th>2020-03-23</th>\n",
       "      <td>10</td>\n",
       "      <td>0</td>\n",
       "      <td>Asia</td>\n",
       "      <td>Afghanistan</td>\n",
       "    </tr>\n",
       "    <tr>\n",
       "      <th>2020-03-25</th>\n",
       "      <td>23</td>\n",
       "      <td>1</td>\n",
       "      <td>Europe</td>\n",
       "      <td>Albania</td>\n",
       "    </tr>\n",
       "    <tr>\n",
       "      <th>2020-03-24</th>\n",
       "      <td>11</td>\n",
       "      <td>2</td>\n",
       "      <td>Europe</td>\n",
       "      <td>Albania</td>\n",
       "    </tr>\n",
       "    <tr>\n",
       "      <th>...</th>\n",
       "      <td>...</td>\n",
       "      <td>...</td>\n",
       "      <td>...</td>\n",
       "      <td>...</td>\n",
       "    </tr>\n",
       "    <tr>\n",
       "      <th>2020-03-24</th>\n",
       "      <td>0</td>\n",
       "      <td>0</td>\n",
       "      <td>Africa</td>\n",
       "      <td>Zambia</td>\n",
       "    </tr>\n",
       "    <tr>\n",
       "      <th>2020-03-23</th>\n",
       "      <td>1</td>\n",
       "      <td>0</td>\n",
       "      <td>Africa</td>\n",
       "      <td>Zambia</td>\n",
       "    </tr>\n",
       "    <tr>\n",
       "      <th>2020-03-25</th>\n",
       "      <td>0</td>\n",
       "      <td>0</td>\n",
       "      <td>Africa</td>\n",
       "      <td>Zimbabwe</td>\n",
       "    </tr>\n",
       "    <tr>\n",
       "      <th>2020-03-24</th>\n",
       "      <td>0</td>\n",
       "      <td>1</td>\n",
       "      <td>Africa</td>\n",
       "      <td>Zimbabwe</td>\n",
       "    </tr>\n",
       "    <tr>\n",
       "      <th>2020-03-23</th>\n",
       "      <td>0</td>\n",
       "      <td>0</td>\n",
       "      <td>Africa</td>\n",
       "      <td>Zimbabwe</td>\n",
       "    </tr>\n",
       "  </tbody>\n",
       "</table>\n",
       "<p>550 rows × 4 columns</p>\n",
       "</div>"
      ],
      "text/plain": [
       "            Confirmed  Deaths Continent      Country\n",
       "Date                                                \n",
       "2020-03-25          2       0      Asia  Afghanistan\n",
       "2020-03-24          6       1      Asia  Afghanistan\n",
       "2020-03-23         10       0      Asia  Afghanistan\n",
       "2020-03-25         23       1    Europe      Albania\n",
       "2020-03-24         11       2    Europe      Albania\n",
       "...               ...     ...       ...          ...\n",
       "2020-03-24          0       0    Africa       Zambia\n",
       "2020-03-23          1       0    Africa       Zambia\n",
       "2020-03-25          0       0    Africa     Zimbabwe\n",
       "2020-03-24          0       1    Africa     Zimbabwe\n",
       "2020-03-23          0       0    Africa     Zimbabwe\n",
       "\n",
       "[550 rows x 4 columns]"
      ]
     },
     "execution_count": 113,
     "metadata": {},
     "output_type": "execute_result"
    }
   ],
   "source": [
    "ndf.loc['2020-03-23':'2020-03-25']"
   ]
  },
  {
   "cell_type": "code",
   "execution_count": 114,
   "metadata": {},
   "outputs": [
    {
     "data": {
      "text/plain": [
       "Confirmed    77200\n",
       "Deaths        2766\n",
       "dtype: int64"
      ]
     },
     "execution_count": 114,
     "metadata": {},
     "output_type": "execute_result"
    }
   ],
   "source": [
    "ndf.loc['2020-02-01':'2020-03-01'][['Confirmed','Deaths']].sum()"
   ]
  },
  {
   "cell_type": "code",
   "execution_count": 115,
   "metadata": {},
   "outputs": [
    {
     "data": {
      "text/plain": [
       "Confirmed    766410\n",
       "Deaths        38983\n",
       "dtype: int64"
      ]
     },
     "execution_count": 115,
     "metadata": {},
     "output_type": "execute_result"
    }
   ],
   "source": [
    "ndf.loc['2020-03-01':'2020-04-01'][['Confirmed','Deaths']].sum()"
   ]
  },
  {
   "cell_type": "code",
   "execution_count": 116,
   "metadata": {},
   "outputs": [
    {
     "data": {
      "text/plain": [
       "Confirmed    1420387\n",
       "Deaths        115814\n",
       "dtype: int64"
      ]
     },
     "execution_count": 116,
     "metadata": {},
     "output_type": "execute_result"
    }
   ],
   "source": [
    "ndf.loc['2020-04-01':'2020-04-18'][['Confirmed','Deaths']].sum()"
   ]
  },
  {
   "cell_type": "code",
   "execution_count": 117,
   "metadata": {},
   "outputs": [
    {
     "data": {
      "text/plain": [
       "<matplotlib.axes._subplots.AxesSubplot at 0x7fc0a978d5c0>"
      ]
     },
     "execution_count": 117,
     "metadata": {},
     "output_type": "execute_result"
    },
    {
     "data": {
      "image/png": "[encoded data removed]",
      "text/plain": [
       "<Figure size 864x576 with 1 Axes>"
      ]
     },
     "metadata": {},
     "output_type": "display_data"
    }
   ],
   "source": [
    "ndf.loc['2020-02-21':'2020-04-20'][['Confirmed','Deaths']].plot(figsize=(12,8))"
   ]
  },
  {
   "cell_type": "code",
   "execution_count": 118,
   "metadata": {},
   "outputs": [],
   "source": [
    "new_data_f = ndf.copy()"
   ]
  },
  {
   "cell_type": "code",
   "execution_count": 119,
   "metadata": {},
   "outputs": [],
   "source": [
    "df_by_date = new_data_f.groupby(['Date']).sum().reset_index(drop=None)"
   ]
  },
  {
   "cell_type": "code",
   "execution_count": 120,
   "metadata": {},
   "outputs": [
    {
     "data": {
      "text/html": [
       "<div>\n",
       "<style scoped>\n",
       "    .dataframe tbody tr th:only-of-type {\n",
       "        vertical-align: middle;\n",
       "    }\n",
       "\n",
       "    .dataframe tbody tr th {\n",
       "        vertical-align: top;\n",
       "    }\n",
       "\n",
       "    .dataframe thead th {\n",
       "        text-align: right;\n",
       "    }\n",
       "</style>\n",
       "<table border=\"1\" class=\"dataframe\">\n",
       "  <thead>\n",
       "    <tr style=\"text-align: right;\">\n",
       "      <th></th>\n",
       "      <th>Date</th>\n",
       "      <th>Confirmed</th>\n",
       "      <th>Deaths</th>\n",
       "    </tr>\n",
       "  </thead>\n",
       "  <tbody>\n",
       "    <tr>\n",
       "      <th>0</th>\n",
       "      <td>2019-12-31</td>\n",
       "      <td>27</td>\n",
       "      <td>0</td>\n",
       "    </tr>\n",
       "    <tr>\n",
       "      <th>1</th>\n",
       "      <td>2020-01-01</td>\n",
       "      <td>0</td>\n",
       "      <td>0</td>\n",
       "    </tr>\n",
       "    <tr>\n",
       "      <th>2</th>\n",
       "      <td>2020-01-02</td>\n",
       "      <td>0</td>\n",
       "      <td>0</td>\n",
       "    </tr>\n",
       "    <tr>\n",
       "      <th>3</th>\n",
       "      <td>2020-01-03</td>\n",
       "      <td>17</td>\n",
       "      <td>0</td>\n",
       "    </tr>\n",
       "    <tr>\n",
       "      <th>4</th>\n",
       "      <td>2020-01-04</td>\n",
       "      <td>0</td>\n",
       "      <td>0</td>\n",
       "    </tr>\n",
       "    <tr>\n",
       "      <th>...</th>\n",
       "      <td>...</td>\n",
       "      <td>...</td>\n",
       "      <td>...</td>\n",
       "    </tr>\n",
       "    <tr>\n",
       "      <th>107</th>\n",
       "      <td>2020-04-16</td>\n",
       "      <td>81008</td>\n",
       "      <td>10345</td>\n",
       "    </tr>\n",
       "    <tr>\n",
       "      <th>108</th>\n",
       "      <td>2020-04-17</td>\n",
       "      <td>84339</td>\n",
       "      <td>8507</td>\n",
       "    </tr>\n",
       "    <tr>\n",
       "      <th>109</th>\n",
       "      <td>2020-04-18</td>\n",
       "      <td>83324</td>\n",
       "      <td>8263</td>\n",
       "    </tr>\n",
       "    <tr>\n",
       "      <th>110</th>\n",
       "      <td>2020-04-19</td>\n",
       "      <td>84121</td>\n",
       "      <td>6421</td>\n",
       "    </tr>\n",
       "    <tr>\n",
       "      <th>111</th>\n",
       "      <td>2020-04-20</td>\n",
       "      <td>74139</td>\n",
       "      <td>5145</td>\n",
       "    </tr>\n",
       "  </tbody>\n",
       "</table>\n",
       "<p>112 rows × 3 columns</p>\n",
       "</div>"
      ],
      "text/plain": [
       "          Date  Confirmed  Deaths\n",
       "0   2019-12-31         27       0\n",
       "1   2020-01-01          0       0\n",
       "2   2020-01-02          0       0\n",
       "3   2020-01-03         17       0\n",
       "4   2020-01-04          0       0\n",
       "..         ...        ...     ...\n",
       "107 2020-04-16      81008   10345\n",
       "108 2020-04-17      84339    8507\n",
       "109 2020-04-18      83324    8263\n",
       "110 2020-04-19      84121    6421\n",
       "111 2020-04-20      74139    5145\n",
       "\n",
       "[112 rows x 3 columns]"
      ]
     },
     "execution_count": 120,
     "metadata": {},
     "output_type": "execute_result"
    }
   ],
   "source": [
    "df_by_date"
   ]
  },
  {
   "cell_type": "code",
   "execution_count": 121,
   "metadata": {},
   "outputs": [
    {
     "data": {
      "text/plain": [
       "<matplotlib.axes._subplots.AxesSubplot at 0x7fc0a9615208>"
      ]
     },
     "execution_count": 121,
     "metadata": {},
     "output_type": "execute_result"
    },
    {
     "data": {
      "image/png": "[encoded data removed]",
      "text/plain": [
       "<Figure size 864x432 with 1 Axes>"
      ]
     },
     "metadata": {},
     "output_type": "display_data"
    }
   ],
   "source": [
    "df_by_date[['Confirmed', 'Deaths']].plot(kind='line',figsize=(12,6))"
   ]
  },
  {
   "cell_type": "code",
   "execution_count": 122,
   "metadata": {},
   "outputs": [
    {
     "data": {
      "image/png": "[encoded data removed]",
      "text/plain": [
       "<Figure size 864x432 with 1 Axes>"
      ]
     },
     "metadata": {},
     "output_type": "display_data"
    }
   ],
   "source": [
    "df_by_date[['Deaths','Confirmed']].plot(kind='area', title='COVID-19 Cases Per Day', \n",
    "                                        grid=True, figsize=(12,6))\n",
    "plt.savefig('wcovid19daily22')"
   ]
  },
  {
   "cell_type": "code",
   "execution_count": 123,
   "metadata": {},
   "outputs": [],
   "source": [
    "# Situation in Italy "
   ]
  },
  {
   "cell_type": "code",
   "execution_count": 124,
   "metadata": {},
   "outputs": [
    {
     "data": {
      "text/html": [
       "<div>\n",
       "<style scoped>\n",
       "    .dataframe tbody tr th:only-of-type {\n",
       "        vertical-align: middle;\n",
       "    }\n",
       "\n",
       "    .dataframe tbody tr th {\n",
       "        vertical-align: top;\n",
       "    }\n",
       "\n",
       "    .dataframe thead th {\n",
       "        text-align: right;\n",
       "    }\n",
       "</style>\n",
       "<table border=\"1\" class=\"dataframe\">\n",
       "  <thead>\n",
       "    <tr style=\"text-align: right;\">\n",
       "      <th></th>\n",
       "      <th>Date</th>\n",
       "      <th>Confirmed</th>\n",
       "      <th>Deaths</th>\n",
       "      <th>Continent</th>\n",
       "      <th>Country</th>\n",
       "    </tr>\n",
       "  </thead>\n",
       "  <tbody>\n",
       "    <tr>\n",
       "      <th>0</th>\n",
       "      <td>2020-04-20</td>\n",
       "      <td>3047</td>\n",
       "      <td>433</td>\n",
       "      <td>Europe</td>\n",
       "      <td>Italy</td>\n",
       "    </tr>\n",
       "    <tr>\n",
       "      <th>1</th>\n",
       "      <td>2020-04-19</td>\n",
       "      <td>3491</td>\n",
       "      <td>480</td>\n",
       "      <td>Europe</td>\n",
       "      <td>Italy</td>\n",
       "    </tr>\n",
       "    <tr>\n",
       "      <th>2</th>\n",
       "      <td>2020-04-18</td>\n",
       "      <td>3493</td>\n",
       "      <td>575</td>\n",
       "      <td>Europe</td>\n",
       "      <td>Italy</td>\n",
       "    </tr>\n",
       "    <tr>\n",
       "      <th>3</th>\n",
       "      <td>2020-04-17</td>\n",
       "      <td>3786</td>\n",
       "      <td>525</td>\n",
       "      <td>Europe</td>\n",
       "      <td>Italy</td>\n",
       "    </tr>\n",
       "    <tr>\n",
       "      <th>4</th>\n",
       "      <td>2020-04-16</td>\n",
       "      <td>2667</td>\n",
       "      <td>578</td>\n",
       "      <td>Europe</td>\n",
       "      <td>Italy</td>\n",
       "    </tr>\n",
       "  </tbody>\n",
       "</table>\n",
       "</div>"
      ],
      "text/plain": [
       "        Date  Confirmed  Deaths Continent Country\n",
       "0 2020-04-20       3047     433    Europe   Italy\n",
       "1 2020-04-19       3491     480    Europe   Italy\n",
       "2 2020-04-18       3493     575    Europe   Italy\n",
       "3 2020-04-17       3786     525    Europe   Italy\n",
       "4 2020-04-16       2667     578    Europe   Italy"
      ]
     },
     "execution_count": 124,
     "metadata": {},
     "output_type": "execute_result"
    }
   ],
   "source": [
    "df_it.head()"
   ]
  },
  {
   "cell_type": "code",
   "execution_count": 125,
   "metadata": {},
   "outputs": [],
   "source": [
    "it_ndf = df_it.copy()"
   ]
  },
  {
   "cell_type": "code",
   "execution_count": 126,
   "metadata": {},
   "outputs": [
    {
     "data": {
      "text/html": [
       "<div>\n",
       "<style scoped>\n",
       "    .dataframe tbody tr th:only-of-type {\n",
       "        vertical-align: middle;\n",
       "    }\n",
       "\n",
       "    .dataframe tbody tr th {\n",
       "        vertical-align: top;\n",
       "    }\n",
       "\n",
       "    .dataframe thead th {\n",
       "        text-align: right;\n",
       "    }\n",
       "</style>\n",
       "<table border=\"1\" class=\"dataframe\">\n",
       "  <thead>\n",
       "    <tr style=\"text-align: right;\">\n",
       "      <th></th>\n",
       "      <th>Date</th>\n",
       "      <th>Confirmed</th>\n",
       "      <th>Deaths</th>\n",
       "      <th>Continent</th>\n",
       "      <th>Country</th>\n",
       "    </tr>\n",
       "  </thead>\n",
       "  <tbody>\n",
       "    <tr>\n",
       "      <th>0</th>\n",
       "      <td>2020-04-20</td>\n",
       "      <td>3047</td>\n",
       "      <td>433</td>\n",
       "      <td>Europe</td>\n",
       "      <td>Italy</td>\n",
       "    </tr>\n",
       "    <tr>\n",
       "      <th>1</th>\n",
       "      <td>2020-04-19</td>\n",
       "      <td>3491</td>\n",
       "      <td>480</td>\n",
       "      <td>Europe</td>\n",
       "      <td>Italy</td>\n",
       "    </tr>\n",
       "    <tr>\n",
       "      <th>2</th>\n",
       "      <td>2020-04-18</td>\n",
       "      <td>3493</td>\n",
       "      <td>575</td>\n",
       "      <td>Europe</td>\n",
       "      <td>Italy</td>\n",
       "    </tr>\n",
       "  </tbody>\n",
       "</table>\n",
       "</div>"
      ],
      "text/plain": [
       "        Date  Confirmed  Deaths Continent Country\n",
       "0 2020-04-20       3047     433    Europe   Italy\n",
       "1 2020-04-19       3491     480    Europe   Italy\n",
       "2 2020-04-18       3493     575    Europe   Italy"
      ]
     },
     "execution_count": 126,
     "metadata": {},
     "output_type": "execute_result"
    }
   ],
   "source": [
    "it_ndf.head(3)"
   ]
  },
  {
   "cell_type": "code",
   "execution_count": 127,
   "metadata": {},
   "outputs": [
    {
     "data": {
      "text/html": [
       "<div>\n",
       "<style scoped>\n",
       "    .dataframe tbody tr th:only-of-type {\n",
       "        vertical-align: middle;\n",
       "    }\n",
       "\n",
       "    .dataframe tbody tr th {\n",
       "        vertical-align: top;\n",
       "    }\n",
       "\n",
       "    .dataframe thead th {\n",
       "        text-align: right;\n",
       "    }\n",
       "</style>\n",
       "<table border=\"1\" class=\"dataframe\">\n",
       "  <thead>\n",
       "    <tr style=\"text-align: right;\">\n",
       "      <th></th>\n",
       "      <th>Date</th>\n",
       "      <th>Confirmed</th>\n",
       "      <th>Deaths</th>\n",
       "      <th>Continent</th>\n",
       "      <th>Country</th>\n",
       "    </tr>\n",
       "  </thead>\n",
       "  <tbody>\n",
       "    <tr>\n",
       "      <th>92</th>\n",
       "      <td>2020-01-19</td>\n",
       "      <td>0</td>\n",
       "      <td>0</td>\n",
       "      <td>Europe</td>\n",
       "      <td>Italy</td>\n",
       "    </tr>\n",
       "    <tr>\n",
       "      <th>93</th>\n",
       "      <td>2020-01-18</td>\n",
       "      <td>0</td>\n",
       "      <td>0</td>\n",
       "      <td>Europe</td>\n",
       "      <td>Italy</td>\n",
       "    </tr>\n",
       "    <tr>\n",
       "      <th>94</th>\n",
       "      <td>2020-01-17</td>\n",
       "      <td>0</td>\n",
       "      <td>0</td>\n",
       "      <td>Europe</td>\n",
       "      <td>Italy</td>\n",
       "    </tr>\n",
       "  </tbody>\n",
       "</table>\n",
       "</div>"
      ],
      "text/plain": [
       "         Date  Confirmed  Deaths Continent Country\n",
       "92 2020-01-19          0       0    Europe   Italy\n",
       "93 2020-01-18          0       0    Europe   Italy\n",
       "94 2020-01-17          0       0    Europe   Italy"
      ]
     },
     "execution_count": 127,
     "metadata": {},
     "output_type": "execute_result"
    }
   ],
   "source": [
    "it_ndf.tail(3)"
   ]
  },
  {
   "cell_type": "code",
   "execution_count": 128,
   "metadata": {},
   "outputs": [],
   "source": [
    "it_ndf.set_index('Date', inplace=True)\n",
    "it_ndf.sort_index(inplace=True)"
   ]
  },
  {
   "cell_type": "code",
   "execution_count": 129,
   "metadata": {},
   "outputs": [
    {
     "data": {
      "text/html": [
       "<div>\n",
       "<style scoped>\n",
       "    .dataframe tbody tr th:only-of-type {\n",
       "        vertical-align: middle;\n",
       "    }\n",
       "\n",
       "    .dataframe tbody tr th {\n",
       "        vertical-align: top;\n",
       "    }\n",
       "\n",
       "    .dataframe thead th {\n",
       "        text-align: right;\n",
       "    }\n",
       "</style>\n",
       "<table border=\"1\" class=\"dataframe\">\n",
       "  <thead>\n",
       "    <tr style=\"text-align: right;\">\n",
       "      <th></th>\n",
       "      <th>Confirmed</th>\n",
       "      <th>Deaths</th>\n",
       "      <th>Continent</th>\n",
       "      <th>Country</th>\n",
       "    </tr>\n",
       "    <tr>\n",
       "      <th>Date</th>\n",
       "      <th></th>\n",
       "      <th></th>\n",
       "      <th></th>\n",
       "      <th></th>\n",
       "    </tr>\n",
       "  </thead>\n",
       "  <tbody>\n",
       "    <tr>\n",
       "      <th>2020-01-17</th>\n",
       "      <td>0</td>\n",
       "      <td>0</td>\n",
       "      <td>Europe</td>\n",
       "      <td>Italy</td>\n",
       "    </tr>\n",
       "    <tr>\n",
       "      <th>2020-01-18</th>\n",
       "      <td>0</td>\n",
       "      <td>0</td>\n",
       "      <td>Europe</td>\n",
       "      <td>Italy</td>\n",
       "    </tr>\n",
       "    <tr>\n",
       "      <th>2020-01-19</th>\n",
       "      <td>0</td>\n",
       "      <td>0</td>\n",
       "      <td>Europe</td>\n",
       "      <td>Italy</td>\n",
       "    </tr>\n",
       "  </tbody>\n",
       "</table>\n",
       "</div>"
      ],
      "text/plain": [
       "            Confirmed  Deaths Continent Country\n",
       "Date                                           \n",
       "2020-01-17          0       0    Europe   Italy\n",
       "2020-01-18          0       0    Europe   Italy\n",
       "2020-01-19          0       0    Europe   Italy"
      ]
     },
     "execution_count": 129,
     "metadata": {},
     "output_type": "execute_result"
    }
   ],
   "source": [
    "it_ndf.head(3)"
   ]
  },
  {
   "cell_type": "code",
   "execution_count": 130,
   "metadata": {},
   "outputs": [
    {
     "data": {
      "text/plain": [
       "Confirmed    1125\n",
       "Deaths         29\n",
       "dtype: int64"
      ]
     },
     "execution_count": 130,
     "metadata": {},
     "output_type": "execute_result"
    }
   ],
   "source": [
    "it_ndf.loc['2020-02-01':'2020-03-01'][['Confirmed','Deaths']].sum()"
   ]
  },
  {
   "cell_type": "code",
   "execution_count": 131,
   "metadata": {},
   "outputs": [
    {
     "data": {
      "text/plain": [
       "Confirmed    104904\n",
       "Deaths        12409\n",
       "dtype: int64"
      ]
     },
     "execution_count": 131,
     "metadata": {},
     "output_type": "execute_result"
    }
   ],
   "source": [
    "it_ndf.loc['2020-03-01':'2020-04-01'][['Confirmed','Deaths']].sum()"
   ]
  },
  {
   "cell_type": "code",
   "execution_count": 132,
   "metadata": {},
   "outputs": [
    {
     "data": {
      "text/plain": [
       "Confirmed    70695\n",
       "Deaths       11156\n",
       "dtype: int64"
      ]
     },
     "execution_count": 132,
     "metadata": {},
     "output_type": "execute_result"
    }
   ],
   "source": [
    "it_ndf.loc['2020-04-01':'2020-04-18'][['Confirmed','Deaths']].sum()"
   ]
  },
  {
   "cell_type": "code",
   "execution_count": 133,
   "metadata": {},
   "outputs": [
    {
     "data": {
      "text/plain": [
       "<matplotlib.axes._subplots.AxesSubplot at 0x7fc0a95e5978>"
      ]
     },
     "execution_count": 133,
     "metadata": {},
     "output_type": "execute_result"
    },
    {
     "data": {
      "image/png": "[encoded data removed]",
      "text/plain": [
       "<Figure size 1152x576 with 1 Axes>"
      ]
     },
     "metadata": {},
     "output_type": "display_data"
    }
   ],
   "source": [
    "it_ndf.plot()"
   ]
  },
  {
   "cell_type": "code",
   "execution_count": 134,
   "metadata": {},
   "outputs": [
    {
     "data": {
      "text/html": [
       "<div>\n",
       "<style scoped>\n",
       "    .dataframe tbody tr th:only-of-type {\n",
       "        vertical-align: middle;\n",
       "    }\n",
       "\n",
       "    .dataframe tbody tr th {\n",
       "        vertical-align: top;\n",
       "    }\n",
       "\n",
       "    .dataframe thead th {\n",
       "        text-align: right;\n",
       "    }\n",
       "</style>\n",
       "<table border=\"1\" class=\"dataframe\">\n",
       "  <thead>\n",
       "    <tr style=\"text-align: right;\">\n",
       "      <th></th>\n",
       "      <th>Date</th>\n",
       "      <th>Confirmed</th>\n",
       "      <th>Deaths</th>\n",
       "      <th>Continent</th>\n",
       "      <th>Country</th>\n",
       "    </tr>\n",
       "  </thead>\n",
       "  <tbody>\n",
       "    <tr>\n",
       "      <th>0</th>\n",
       "      <td>2020-04-20</td>\n",
       "      <td>112</td>\n",
       "      <td>15</td>\n",
       "      <td>Africa</td>\n",
       "      <td>Egypt</td>\n",
       "    </tr>\n",
       "    <tr>\n",
       "      <th>1</th>\n",
       "      <td>2020-04-19</td>\n",
       "      <td>188</td>\n",
       "      <td>19</td>\n",
       "      <td>Africa</td>\n",
       "      <td>Egypt</td>\n",
       "    </tr>\n",
       "    <tr>\n",
       "      <th>2</th>\n",
       "      <td>2020-04-18</td>\n",
       "      <td>171</td>\n",
       "      <td>9</td>\n",
       "      <td>Africa</td>\n",
       "      <td>Egypt</td>\n",
       "    </tr>\n",
       "    <tr>\n",
       "      <th>3</th>\n",
       "      <td>2020-04-17</td>\n",
       "      <td>168</td>\n",
       "      <td>13</td>\n",
       "      <td>Africa</td>\n",
       "      <td>Egypt</td>\n",
       "    </tr>\n",
       "    <tr>\n",
       "      <th>4</th>\n",
       "      <td>2020-04-16</td>\n",
       "      <td>155</td>\n",
       "      <td>5</td>\n",
       "      <td>Africa</td>\n",
       "      <td>Egypt</td>\n",
       "    </tr>\n",
       "  </tbody>\n",
       "</table>\n",
       "</div>"
      ],
      "text/plain": [
       "        Date  Confirmed  Deaths Continent Country\n",
       "0 2020-04-20        112      15    Africa   Egypt\n",
       "1 2020-04-19        188      19    Africa   Egypt\n",
       "2 2020-04-18        171       9    Africa   Egypt\n",
       "3 2020-04-17        168      13    Africa   Egypt\n",
       "4 2020-04-16        155       5    Africa   Egypt"
      ]
     },
     "execution_count": 134,
     "metadata": {},
     "output_type": "execute_result"
    }
   ],
   "source": [
    "# # Situation in Egypt\n",
    "df_eg.head()"
   ]
  },
  {
   "cell_type": "code",
   "execution_count": 135,
   "metadata": {},
   "outputs": [
    {
     "data": {
      "text/html": [
       "<div>\n",
       "<style scoped>\n",
       "    .dataframe tbody tr th:only-of-type {\n",
       "        vertical-align: middle;\n",
       "    }\n",
       "\n",
       "    .dataframe tbody tr th {\n",
       "        vertical-align: top;\n",
       "    }\n",
       "\n",
       "    .dataframe thead th {\n",
       "        text-align: right;\n",
       "    }\n",
       "</style>\n",
       "<table border=\"1\" class=\"dataframe\">\n",
       "  <thead>\n",
       "    <tr style=\"text-align: right;\">\n",
       "      <th></th>\n",
       "      <th>Date</th>\n",
       "      <th>Confirmed</th>\n",
       "      <th>Deaths</th>\n",
       "      <th>Continent</th>\n",
       "      <th>Country</th>\n",
       "    </tr>\n",
       "  </thead>\n",
       "  <tbody>\n",
       "    <tr>\n",
       "      <th>86</th>\n",
       "      <td>2020-01-21</td>\n",
       "      <td>0</td>\n",
       "      <td>0</td>\n",
       "      <td>Africa</td>\n",
       "      <td>Egypt</td>\n",
       "    </tr>\n",
       "    <tr>\n",
       "      <th>87</th>\n",
       "      <td>2020-01-20</td>\n",
       "      <td>0</td>\n",
       "      <td>0</td>\n",
       "      <td>Africa</td>\n",
       "      <td>Egypt</td>\n",
       "    </tr>\n",
       "    <tr>\n",
       "      <th>88</th>\n",
       "      <td>2020-01-19</td>\n",
       "      <td>0</td>\n",
       "      <td>0</td>\n",
       "      <td>Africa</td>\n",
       "      <td>Egypt</td>\n",
       "    </tr>\n",
       "    <tr>\n",
       "      <th>89</th>\n",
       "      <td>2020-01-18</td>\n",
       "      <td>0</td>\n",
       "      <td>0</td>\n",
       "      <td>Africa</td>\n",
       "      <td>Egypt</td>\n",
       "    </tr>\n",
       "    <tr>\n",
       "      <th>90</th>\n",
       "      <td>2020-01-17</td>\n",
       "      <td>0</td>\n",
       "      <td>0</td>\n",
       "      <td>Africa</td>\n",
       "      <td>Egypt</td>\n",
       "    </tr>\n",
       "  </tbody>\n",
       "</table>\n",
       "</div>"
      ],
      "text/plain": [
       "         Date  Confirmed  Deaths Continent Country\n",
       "86 2020-01-21          0       0    Africa   Egypt\n",
       "87 2020-01-20          0       0    Africa   Egypt\n",
       "88 2020-01-19          0       0    Africa   Egypt\n",
       "89 2020-01-18          0       0    Africa   Egypt\n",
       "90 2020-01-17          0       0    Africa   Egypt"
      ]
     },
     "execution_count": 135,
     "metadata": {},
     "output_type": "execute_result"
    }
   ],
   "source": [
    "df_eg.tail()"
   ]
  },
  {
   "cell_type": "code",
   "execution_count": 136,
   "metadata": {},
   "outputs": [],
   "source": [
    "eg_ndf = df_eg.copy()"
   ]
  },
  {
   "cell_type": "code",
   "execution_count": 137,
   "metadata": {},
   "outputs": [],
   "source": [
    "eg_ndf.set_index('Date', inplace=True)\n",
    "eg_ndf.sort_index(inplace=True)"
   ]
  },
  {
   "cell_type": "code",
   "execution_count": 138,
   "metadata": {},
   "outputs": [
    {
     "data": {
      "text/plain": [
       "Confirmed    1\n",
       "Deaths       0\n",
       "dtype: int64"
      ]
     },
     "execution_count": 138,
     "metadata": {},
     "output_type": "execute_result"
    }
   ],
   "source": [
    "eg_ndf.loc['2020-02-01':'2020-03-01'][['Confirmed','Deaths']].sum()"
   ]
  },
  {
   "cell_type": "code",
   "execution_count": 139,
   "metadata": {},
   "outputs": [
    {
     "data": {
      "text/plain": [
       "Confirmed    92\n",
       "Deaths        2\n",
       "dtype: int64"
      ]
     },
     "execution_count": 139,
     "metadata": {},
     "output_type": "execute_result"
    }
   ],
   "source": [
    "eg_ndf.loc['2020-03-01':'2020-03-15'][['Confirmed','Deaths']].sum()"
   ]
  },
  {
   "cell_type": "code",
   "execution_count": 140,
   "metadata": {},
   "outputs": [
    {
     "data": {
      "text/plain": [
       "Confirmed    563\n",
       "Deaths        39\n",
       "dtype: int64"
      ]
     },
     "execution_count": 140,
     "metadata": {},
     "output_type": "execute_result"
    }
   ],
   "source": [
    "eg_ndf.loc['2020-03-15':'2020-04-01'][['Confirmed','Deaths']].sum()"
   ]
  },
  {
   "cell_type": "code",
   "execution_count": 141,
   "metadata": {},
   "outputs": [
    {
     "data": {
      "text/plain": [
       "Confirmed    713\n",
       "Deaths        45\n",
       "dtype: int64"
      ]
     },
     "execution_count": 141,
     "metadata": {},
     "output_type": "execute_result"
    }
   ],
   "source": [
    "eg_ndf.loc['2020-04-01':'2020-04-08'][['Confirmed','Deaths']].sum()"
   ]
  },
  {
   "cell_type": "code",
   "execution_count": 142,
   "metadata": {},
   "outputs": [
    {
     "data": {
      "text/plain": [
       "Confirmed    1277\n",
       "Deaths        100\n",
       "dtype: int64"
      ]
     },
     "execution_count": 142,
     "metadata": {},
     "output_type": "execute_result"
    }
   ],
   "source": [
    "eg_ndf.loc['2020-04-08':'2020-04-15'][['Confirmed','Deaths']].sum()"
   ]
  },
  {
   "cell_type": "code",
   "execution_count": 143,
   "metadata": {},
   "outputs": [
    {
     "data": {
      "text/plain": [
       "Confirmed    954\n",
       "Deaths        75\n",
       "dtype: int64"
      ]
     },
     "execution_count": 143,
     "metadata": {},
     "output_type": "execute_result"
    }
   ],
   "source": [
    "eg_ndf.loc['2020-04-15':'2020-04-20'][['Confirmed','Deaths']].sum()"
   ]
  },
  {
   "cell_type": "code",
   "execution_count": 144,
   "metadata": {},
   "outputs": [
    {
     "data": {
      "text/plain": [
       "Confirmed    3144\n",
       "Deaths        239\n",
       "dtype: int64"
      ]
     },
     "execution_count": 144,
     "metadata": {},
     "output_type": "execute_result"
    }
   ],
   "source": [
    "eg_ndf.loc['2020-02-01':'2020-04-20'][['Confirmed','Deaths']].sum()"
   ]
  },
  {
   "cell_type": "code",
   "execution_count": 145,
   "metadata": {},
   "outputs": [
    {
     "data": {
      "text/plain": [
       "<matplotlib.axes._subplots.AxesSubplot at 0x7fc0a94f67f0>"
      ]
     },
     "execution_count": 145,
     "metadata": {},
     "output_type": "execute_result"
    },
    {
     "data": {
      "image/png": "[encoded data removed]",
      "text/plain": [
       "<Figure size 1152x576 with 1 Axes>"
      ]
     },
     "metadata": {},
     "output_type": "display_data"
    }
   ],
   "source": [
    "eg_ndf.plot()"
   ]
  },
  {
   "cell_type": "code",
   "execution_count": 146,
   "metadata": {},
   "outputs": [],
   "source": [
    "# National Center for Health Statistics (NCHS)\n",
    "# Provisional Death Counts for Coronavirus Disease (COVID-19) Data as of April 14, 2020\n",
    "\n",
    "nchs_data = pd.read_csv('data/nchs.csv' )"
   ]
  },
  {
   "cell_type": "code",
   "execution_count": 147,
   "metadata": {},
   "outputs": [
    {
     "data": {
      "text/html": [
       "<div>\n",
       "<style scoped>\n",
       "    .dataframe tbody tr th:only-of-type {\n",
       "        vertical-align: middle;\n",
       "    }\n",
       "\n",
       "    .dataframe tbody tr th {\n",
       "        vertical-align: top;\n",
       "    }\n",
       "\n",
       "    .dataframe thead th {\n",
       "        text-align: right;\n",
       "    }\n",
       "</style>\n",
       "<table border=\"1\" class=\"dataframe\">\n",
       "  <thead>\n",
       "    <tr style=\"text-align: right;\">\n",
       "      <th></th>\n",
       "      <th>Group</th>\n",
       "      <th>Indicator</th>\n",
       "      <th>All COVID-19 Deaths (U07.1)</th>\n",
       "      <th>Deaths from All Causes</th>\n",
       "      <th>Percent of Expected Deaths</th>\n",
       "      <th>All Pneumonia Deaths (J12.0-J18.9)</th>\n",
       "      <th>Deaths with Pneumonia and COVID-19 (J12.0-J18.9 and U07.1)</th>\n",
       "      <th>All Influenza Deaths (J09-J11)</th>\n",
       "    </tr>\n",
       "  </thead>\n",
       "  <tbody>\n",
       "    <tr>\n",
       "      <th>0</th>\n",
       "      <td>By week</td>\n",
       "      <td>Total Deaths</td>\n",
       "      <td>8,259</td>\n",
       "      <td>541,934</td>\n",
       "      <td>0.86</td>\n",
       "      <td>39,961</td>\n",
       "      <td>3,716</td>\n",
       "      <td>4,820</td>\n",
       "    </tr>\n",
       "    <tr>\n",
       "      <th>1</th>\n",
       "      <td>By week</td>\n",
       "      <td>2/1/2020</td>\n",
       "      <td>0</td>\n",
       "      <td>56,474</td>\n",
       "      <td>0.95</td>\n",
       "      <td>3,630</td>\n",
       "      <td>0</td>\n",
       "      <td>453</td>\n",
       "    </tr>\n",
       "    <tr>\n",
       "      <th>2</th>\n",
       "      <td>By week</td>\n",
       "      <td>2/8/2020</td>\n",
       "      <td>0</td>\n",
       "      <td>56,854</td>\n",
       "      <td>0.95</td>\n",
       "      <td>3,614</td>\n",
       "      <td>0</td>\n",
       "      <td>486</td>\n",
       "    </tr>\n",
       "    <tr>\n",
       "      <th>3</th>\n",
       "      <td>By week</td>\n",
       "      <td>2/15/2020</td>\n",
       "      <td>0</td>\n",
       "      <td>55,490</td>\n",
       "      <td>0.94</td>\n",
       "      <td>3,605</td>\n",
       "      <td>0</td>\n",
       "      <td>495</td>\n",
       "    </tr>\n",
       "    <tr>\n",
       "      <th>4</th>\n",
       "      <td>By week</td>\n",
       "      <td>2/22/2020</td>\n",
       "      <td>0</td>\n",
       "      <td>55,077</td>\n",
       "      <td>0.95</td>\n",
       "      <td>3,450</td>\n",
       "      <td>0</td>\n",
       "      <td>508</td>\n",
       "    </tr>\n",
       "  </tbody>\n",
       "</table>\n",
       "</div>"
      ],
      "text/plain": [
       "     Group     Indicator All COVID-19 Deaths (U07.1) Deaths from All Causes  \\\n",
       "0  By week  Total Deaths                       8,259                541,934   \n",
       "1  By week      2/1/2020                           0                 56,474   \n",
       "2  By week      2/8/2020                           0                 56,854   \n",
       "3  By week     2/15/2020                           0                 55,490   \n",
       "4  By week     2/22/2020                           0                 55,077   \n",
       "\n",
       "   Percent of Expected Deaths All Pneumonia Deaths (J12.0-J18.9)  \\\n",
       "0                        0.86                             39,961   \n",
       "1                        0.95                              3,630   \n",
       "2                        0.95                              3,614   \n",
       "3                        0.94                              3,605   \n",
       "4                        0.95                              3,450   \n",
       "\n",
       "  Deaths with Pneumonia and COVID-19 (J12.0-J18.9 and U07.1)  \\\n",
       "0                                              3,716           \n",
       "1                                                  0           \n",
       "2                                                  0           \n",
       "3                                                  0           \n",
       "4                                                  0           \n",
       "\n",
       "  All Influenza Deaths (J09-J11)  \n",
       "0                          4,820  \n",
       "1                            453  \n",
       "2                            486  \n",
       "3                            495  \n",
       "4                            508  "
      ]
     },
     "execution_count": 147,
     "metadata": {},
     "output_type": "execute_result"
    }
   ],
   "source": [
    "nchs_data.head()"
   ]
  },
  {
   "cell_type": "markdown",
   "metadata": {},
   "source": [
    "#### Understand data\n",
    "\n",
    "- Data Grouped by (Week, Age, Sex, State, Place of death)\n",
    "- Deaths with confirmed or presumed COVID-19, coded to ICD–10 code U07.1\n",
    "- Pneumonia death counts exclude pneumonia deaths involving influenza\n",
    "- Influenza death counts include deaths with pneumonia or COVID-19 also listed as a cause of death\n",
    "- Population is based on 2018 postcensal estimates from the U.S. Census Bureau"
   ]
  },
  {
   "cell_type": "code",
   "execution_count": 148,
   "metadata": {},
   "outputs": [
    {
     "data": {
      "text/plain": [
       "array(['By week', 'By week', 'By week', 'By week', 'By week', 'By week',\n",
       "       'By week', 'By week', 'By week', 'By week', 'By week', 'By week',\n",
       "       'By age', 'By age', 'By age', 'By age', 'By age', 'By age',\n",
       "       'By age', 'By age', 'By age', 'By age', 'By age', 'By age',\n",
       "       'By state', 'By state', 'By state', 'By state', 'By state',\n",
       "       'By state', 'By state', 'By state', 'By state', 'By state',\n",
       "       'By state', 'By state', 'By state', 'By state', 'By state',\n",
       "       'By state', 'By state', 'By state', 'By state', 'By state',\n",
       "       'By state', 'By state', 'By state', 'By state', 'By state',\n",
       "       'By state', 'By state', 'By state', 'By state', 'By state',\n",
       "       'By state', 'By state', 'By state', 'By state', 'By state',\n",
       "       'By state', 'By state', 'By state', 'By state', 'By state',\n",
       "       'By state', 'By state', 'By state', 'By state', 'By state',\n",
       "       'By state', 'By state', 'By state', 'By state', 'By state',\n",
       "       'By state', 'By state', 'By state', 'By state', 'By sex', 'By sex',\n",
       "       'By sex', 'By sex', 'By place of death', 'By place of death',\n",
       "       'By place of death', 'By place of death', 'By place of death',\n",
       "       'By place of death', 'By place of death', 'By place of death',\n",
       "       'By place of death'], dtype=object)"
      ]
     },
     "execution_count": 148,
     "metadata": {},
     "output_type": "execute_result"
    }
   ],
   "source": [
    "nchs_data['Group'].values"
   ]
  },
  {
   "cell_type": "code",
   "execution_count": null,
   "metadata": {},
   "outputs": [],
   "source": []
  },
  {
   "cell_type": "code",
   "execution_count": 149,
   "metadata": {},
   "outputs": [],
   "source": [
    "# Influenza virus detections in Europe (2019/20 season)\n",
    "\n",
    "flu = pd.read_csv('data/flu_eu.csv')"
   ]
  },
  {
   "cell_type": "code",
   "execution_count": 150,
   "metadata": {},
   "outputs": [
    {
     "data": {
      "text/html": [
       "<div>\n",
       "<style scoped>\n",
       "    .dataframe tbody tr th:only-of-type {\n",
       "        vertical-align: middle;\n",
       "    }\n",
       "\n",
       "    .dataframe tbody tr th {\n",
       "        vertical-align: top;\n",
       "    }\n",
       "\n",
       "    .dataframe thead th {\n",
       "        text-align: right;\n",
       "    }\n",
       "</style>\n",
       "<table border=\"1\" class=\"dataframe\">\n",
       "  <thead>\n",
       "    <tr style=\"text-align: right;\">\n",
       "      <th></th>\n",
       "      <th>Reporting week</th>\n",
       "      <th>A unsubtyped</th>\n",
       "      <th>A(H1)</th>\n",
       "      <th>A(H3)</th>\n",
       "      <th>B</th>\n",
       "      <th>% Positive</th>\n",
       "      <th>Source</th>\n",
       "    </tr>\n",
       "  </thead>\n",
       "  <tbody>\n",
       "    <tr>\n",
       "      <th>0</th>\n",
       "      <td>2019-40</td>\n",
       "      <td>NaN</td>\n",
       "      <td>1.0</td>\n",
       "      <td>2.0</td>\n",
       "      <td>17.0</td>\n",
       "      <td>5.025125</td>\n",
       "      <td>Sentinel</td>\n",
       "    </tr>\n",
       "    <tr>\n",
       "      <th>1</th>\n",
       "      <td>2019-41</td>\n",
       "      <td>NaN</td>\n",
       "      <td>6.0</td>\n",
       "      <td>2.0</td>\n",
       "      <td>4.0</td>\n",
       "      <td>1.790540</td>\n",
       "      <td>Sentinel</td>\n",
       "    </tr>\n",
       "    <tr>\n",
       "      <th>2</th>\n",
       "      <td>2019-42</td>\n",
       "      <td>1.0</td>\n",
       "      <td>7.0</td>\n",
       "      <td>11.0</td>\n",
       "      <td>13.0</td>\n",
       "      <td>4.035954</td>\n",
       "      <td>Sentinel</td>\n",
       "    </tr>\n",
       "    <tr>\n",
       "      <th>3</th>\n",
       "      <td>2019-43</td>\n",
       "      <td>NaN</td>\n",
       "      <td>7.0</td>\n",
       "      <td>20.0</td>\n",
       "      <td>11.0</td>\n",
       "      <td>3.718032</td>\n",
       "      <td>Sentinel</td>\n",
       "    </tr>\n",
       "    <tr>\n",
       "      <th>4</th>\n",
       "      <td>2019-44</td>\n",
       "      <td>NaN</td>\n",
       "      <td>9.0</td>\n",
       "      <td>21.0</td>\n",
       "      <td>12.0</td>\n",
       "      <td>3.899369</td>\n",
       "      <td>Sentinel</td>\n",
       "    </tr>\n",
       "  </tbody>\n",
       "</table>\n",
       "</div>"
      ],
      "text/plain": [
       "  Reporting week  A unsubtyped  A(H1)  A(H3)     B  % Positive    Source\n",
       "0        2019-40           NaN    1.0    2.0  17.0    5.025125  Sentinel\n",
       "1        2019-41           NaN    6.0    2.0   4.0    1.790540  Sentinel\n",
       "2        2019-42           1.0    7.0   11.0  13.0    4.035954  Sentinel\n",
       "3        2019-43           NaN    7.0   20.0  11.0    3.718032  Sentinel\n",
       "4        2019-44           NaN    9.0   21.0  12.0    3.899369  Sentinel"
      ]
     },
     "execution_count": 150,
     "metadata": {},
     "output_type": "execute_result"
    }
   ],
   "source": [
    "flu.head()"
   ]
  },
  {
   "cell_type": "code",
   "execution_count": 151,
   "metadata": {},
   "outputs": [
    {
     "data": {
      "text/plain": [
       "Reporting week     0\n",
       "A unsubtyped      16\n",
       "A(H1)              9\n",
       "A(H3)              9\n",
       "B                  9\n",
       "% Positive         9\n",
       "Source             0\n",
       "dtype: int64"
      ]
     },
     "execution_count": 151,
     "metadata": {},
     "output_type": "execute_result"
    }
   ],
   "source": [
    "flu.isna().sum()"
   ]
  },
  {
   "cell_type": "code",
   "execution_count": 152,
   "metadata": {},
   "outputs": [
    {
     "data": {
      "text/plain": [
       "Reporting week     0\n",
       "A unsubtyped      16\n",
       "A(H1)              9\n",
       "A(H3)              9\n",
       "B                  9\n",
       "% Positive         9\n",
       "Source             0\n",
       "dtype: int64"
      ]
     },
     "execution_count": 152,
     "metadata": {},
     "output_type": "execute_result"
    }
   ],
   "source": [
    "flu.isnull().sum()"
   ]
  },
  {
   "cell_type": "code",
   "execution_count": 153,
   "metadata": {},
   "outputs": [
    {
     "data": {
      "text/plain": [
       "Reporting week     object\n",
       "A unsubtyped      float64\n",
       "A(H1)             float64\n",
       "A(H3)             float64\n",
       "B                 float64\n",
       "% Positive        float64\n",
       "Source             object\n",
       "dtype: object"
      ]
     },
     "execution_count": 153,
     "metadata": {},
     "output_type": "execute_result"
    }
   ],
   "source": [
    "flu.dtypes"
   ]
  }
 ],
 "metadata": {
  "kernelspec": {
   "display_name": "Python 3 (Intel, 2019 update 2)",
   "language": "python",
   "name": "c009-intel_distribution_of_python_3_2019u2"
  },
  "language_info": {
   "codemirror_mode": {
    "name": "ipython",
    "version": 3
   },
   "file_extension": ".py",
   "mimetype": "text/x-python",
   "name": "python",
   "nbconvert_exporter": "python",
   "pygments_lexer": "ipython3",
   "version": "3.6.8"
  },
  "latex_envs": {
   "LaTeX_envs_menu_present": true,
   "autoclose": false,
   "autocomplete": true,
   "bibliofile": "biblio.bib",
   "cite_by": "apalike",
   "current_citInitial": 1,
   "eqLabelWithNumbers": true,
   "eqNumInitial": 1,
   "hotkeys": {
    "equation": "Ctrl-E",
    "itemize": "Ctrl-I"
   },
   "labels_anchors": false,
   "latex_user_defs": false,
   "report_style_numbering": false,
   "user_envs_cfg": false
  }
 },
 "nbformat": 4,
 "nbformat_minor": 4
}
